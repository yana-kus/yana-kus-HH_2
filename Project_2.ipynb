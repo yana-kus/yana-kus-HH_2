{
  "cells": [
    {
      "cell_type": "markdown",
      "id": "42289889-bd57-434e-9637-d3e354756316",
      "metadata": {
        "id": "42289889-bd57-434e-9637-d3e354756316"
      },
      "source": [
        "<center> <img src = https://raw.githubusercontent.com/AndreyRysistov/DatasetsForPandas/main/hh%20label.jpg alt=\"drawing\" style=\"width:400px;\">"
      ]
    },
    {
      "cell_type": "markdown",
      "id": "829cb75b-f14e-4ba8-9195-7ba929a7d656",
      "metadata": {
        "id": "829cb75b-f14e-4ba8-9195-7ba929a7d656",
        "tags": []
      },
      "source": [
        "# <center> Проект: Анализ вакансий из HeadHunter\n",
        "   "
      ]
    },
    {
      "cell_type": "code",
      "execution_count": 13,
      "id": "dccfde33-2452-43fb-a8a5-5c6ebc02a71d",
      "metadata": {
        "id": "dccfde33-2452-43fb-a8a5-5c6ebc02a71d"
      },
      "outputs": [],
      "source": [
        "import pandas as pd\n",
        "import psycopg2"
      ]
    },
    {
      "cell_type": "code",
      "execution_count": 15,
      "id": "G4X_q8KBf7SF",
      "metadata": {
        "id": "G4X_q8KBf7SF"
      },
      "outputs": [],
      "source": [
        "connection = psycopg2.connect(\n",
        "   dbname=DBNAME,\n",
        "   user=USER,\n",
        "   host=HOST,\n",
        "   password=PASSWORD,\n",
        "   port=PORT\n",
        ")"
      ]
    },
    {
      "cell_type": "markdown",
      "id": "0dc6476b-7a00-44f1-ac93-6e3baed33a29",
      "metadata": {
        "id": "0dc6476b-7a00-44f1-ac93-6e3baed33a29"
      },
      "source": [
        "# Юнит 3. Предварительный анализ данных"
      ]
    },
    {
      "cell_type": "markdown",
      "id": "889782b6-8d1c-410e-8920-e57f27917c64",
      "metadata": {
        "id": "889782b6-8d1c-410e-8920-e57f27917c64"
      },
      "source": [
        "1. Напишите запрос, который посчитает количество вакансий в нашей базе (вакансии находятся в таблице vacancies). "
      ]
    },
    {
      "cell_type": "code",
      "execution_count": 16,
      "id": "bc39e68e-ed02-4ee2-9235-7258a2f867a8",
      "metadata": {
        "id": "bc39e68e-ed02-4ee2-9235-7258a2f867a8"
      },
      "outputs": [
        {
          "name": "stderr",
          "output_type": "stream",
          "text": [
            "C:\\Users\\Семья\\AppData\\Local\\Temp\\ipykernel_8136\\1211064281.py:5: UserWarning: pandas only supports SQLAlchemy connectable (engine/connection) or database string URI or sqlite3 DBAPI2 connection. Other DBAPI2 objects are not tested. Please consider using SQLAlchemy.\n",
            "  df = pd.read_sql_query(query, connection)\n"
          ]
        },
        {
          "data": {
            "text/html": [
              "<div>\n",
              "<style scoped>\n",
              "    .dataframe tbody tr th:only-of-type {\n",
              "        vertical-align: middle;\n",
              "    }\n",
              "\n",
              "    .dataframe tbody tr th {\n",
              "        vertical-align: top;\n",
              "    }\n",
              "\n",
              "    .dataframe thead th {\n",
              "        text-align: right;\n",
              "    }\n",
              "</style>\n",
              "<table border=\"1\" class=\"dataframe\">\n",
              "  <thead>\n",
              "    <tr style=\"text-align: right;\">\n",
              "      <th></th>\n",
              "      <th>количество_вакансий_в_базе</th>\n",
              "    </tr>\n",
              "  </thead>\n",
              "  <tbody>\n",
              "    <tr>\n",
              "      <th>0</th>\n",
              "      <td>49197</td>\n",
              "    </tr>\n",
              "  </tbody>\n",
              "</table>\n",
              "</div>"
            ],
            "text/plain": [
              "   количество_вакансий_в_базе\n",
              "0                       49197"
            ]
          },
          "execution_count": 16,
          "metadata": {},
          "output_type": "execute_result"
        }
      ],
      "source": [
        "# текст запроса\n",
        "query = f'''select count(id) количество_вакансий_в_базе \n",
        "           from VACANCIES\n",
        "                '''\n",
        "df = pd.read_sql_query(query, connection)\n",
        "df  "
      ]
    },
    {
      "cell_type": "markdown",
      "id": "b583485d-1f9e-494e-ada4-80ffff7c53d6",
      "metadata": {
        "id": "b583485d-1f9e-494e-ada4-80ffff7c53d6"
      },
      "source": [
        "2. Напишите запрос, который посчитает количество работодателей (таблица employers). "
      ]
    },
    {
      "cell_type": "code",
      "execution_count": 66,
      "id": "5408c52c-3407-4a63-b25b-1aafa2322d28",
      "metadata": {
        "id": "5408c52c-3407-4a63-b25b-1aafa2322d28"
      },
      "outputs": [
        {
          "name": "stderr",
          "output_type": "stream",
          "text": [
            "C:\\Users\\Семья\\AppData\\Local\\Temp\\ipykernel_8136\\2783329365.py:3: UserWarning: pandas only supports SQLAlchemy connectable (engine/connection) or database string URI or sqlite3 DBAPI2 connection. Other DBAPI2 objects are not tested. Please consider using SQLAlchemy.\n",
            "  df = pd.read_sql_query(query, connection)\n"
          ]
        },
        {
          "data": {
            "text/html": [
              "<div>\n",
              "<style scoped>\n",
              "    .dataframe tbody tr th:only-of-type {\n",
              "        vertical-align: middle;\n",
              "    }\n",
              "\n",
              "    .dataframe tbody tr th {\n",
              "        vertical-align: top;\n",
              "    }\n",
              "\n",
              "    .dataframe thead th {\n",
              "        text-align: right;\n",
              "    }\n",
              "</style>\n",
              "<table border=\"1\" class=\"dataframe\">\n",
              "  <thead>\n",
              "    <tr style=\"text-align: right;\">\n",
              "      <th></th>\n",
              "      <th>количество_работодателей_в_базе</th>\n",
              "    </tr>\n",
              "  </thead>\n",
              "  <tbody>\n",
              "    <tr>\n",
              "      <th>0</th>\n",
              "      <td>23501</td>\n",
              "    </tr>\n",
              "  </tbody>\n",
              "</table>\n",
              "</div>"
            ],
            "text/plain": [
              "   количество_работодателей_в_базе\n",
              "0                            23501"
            ]
          },
          "execution_count": 66,
          "metadata": {},
          "output_type": "execute_result"
        }
      ],
      "source": [
        "query = f'''select count(id) количество_работодателей_в_базе\n",
        "           from EMPLOYERS'''\n",
        "df = pd.read_sql_query(query, connection)\n",
        "df     # текст запроса"
      ]
    },
    {
      "cell_type": "markdown",
      "id": "a2bfff1f-c975-4bf6-84be-2185d79dcb76",
      "metadata": {
        "id": "a2bfff1f-c975-4bf6-84be-2185d79dcb76"
      },
      "source": [
        "3. Посчитате с помощью запроса количество регионов (таблица areas)."
      ]
    },
    {
      "cell_type": "code",
      "execution_count": 68,
      "id": "1m8QJwBYhey6",
      "metadata": {
        "id": "1m8QJwBYhey6"
      },
      "outputs": [
        {
          "name": "stderr",
          "output_type": "stream",
          "text": [
            "C:\\Users\\Семья\\AppData\\Local\\Temp\\ipykernel_8136\\1335649776.py:3: UserWarning: pandas only supports SQLAlchemy connectable (engine/connection) or database string URI or sqlite3 DBAPI2 connection. Other DBAPI2 objects are not tested. Please consider using SQLAlchemy.\n",
            "  df = pd.read_sql_query(query, connection)\n"
          ]
        },
        {
          "data": {
            "text/html": [
              "<div>\n",
              "<style scoped>\n",
              "    .dataframe tbody tr th:only-of-type {\n",
              "        vertical-align: middle;\n",
              "    }\n",
              "\n",
              "    .dataframe tbody tr th {\n",
              "        vertical-align: top;\n",
              "    }\n",
              "\n",
              "    .dataframe thead th {\n",
              "        text-align: right;\n",
              "    }\n",
              "</style>\n",
              "<table border=\"1\" class=\"dataframe\">\n",
              "  <thead>\n",
              "    <tr style=\"text-align: right;\">\n",
              "      <th></th>\n",
              "      <th>количество_регионов</th>\n",
              "    </tr>\n",
              "  </thead>\n",
              "  <tbody>\n",
              "    <tr>\n",
              "      <th>0</th>\n",
              "      <td>1362</td>\n",
              "    </tr>\n",
              "  </tbody>\n",
              "</table>\n",
              "</div>"
            ],
            "text/plain": [
              "   количество_регионов\n",
              "0                 1362"
            ]
          },
          "execution_count": 68,
          "metadata": {},
          "output_type": "execute_result"
        }
      ],
      "source": [
        "query = f'''select count(id) количество_регионов\n",
        "           from AREAS'''\n",
        "df = pd.read_sql_query(query, connection)\n",
        "df  # текст запроса"
      ]
    },
    {
      "cell_type": "markdown",
      "id": "41bb59f3-53cc-4a67-a5bc-bedf573955e4",
      "metadata": {
        "id": "41bb59f3-53cc-4a67-a5bc-bedf573955e4"
      },
      "source": [
        "4. Посчитате с помощью запроса количество сфер деятельности в базе (таблица industries)."
      ]
    },
    {
      "cell_type": "code",
      "execution_count": 70,
      "id": "d286cf4c-707b-4cd2-9190-7ab3587d04a1",
      "metadata": {
        "id": "d286cf4c-707b-4cd2-9190-7ab3587d04a1"
      },
      "outputs": [
        {
          "name": "stderr",
          "output_type": "stream",
          "text": [
            "C:\\Users\\Семья\\AppData\\Local\\Temp\\ipykernel_8136\\2203954399.py:3: UserWarning: pandas only supports SQLAlchemy connectable (engine/connection) or database string URI or sqlite3 DBAPI2 connection. Other DBAPI2 objects are not tested. Please consider using SQLAlchemy.\n",
            "  df = pd.read_sql_query(query, connection)\n"
          ]
        },
        {
          "data": {
            "text/html": [
              "<div>\n",
              "<style scoped>\n",
              "    .dataframe tbody tr th:only-of-type {\n",
              "        vertical-align: middle;\n",
              "    }\n",
              "\n",
              "    .dataframe tbody tr th {\n",
              "        vertical-align: top;\n",
              "    }\n",
              "\n",
              "    .dataframe thead th {\n",
              "        text-align: right;\n",
              "    }\n",
              "</style>\n",
              "<table border=\"1\" class=\"dataframe\">\n",
              "  <thead>\n",
              "    <tr style=\"text-align: right;\">\n",
              "      <th></th>\n",
              "      <th>количество_сфер_деятельности</th>\n",
              "    </tr>\n",
              "  </thead>\n",
              "  <tbody>\n",
              "    <tr>\n",
              "      <th>0</th>\n",
              "      <td>294</td>\n",
              "    </tr>\n",
              "  </tbody>\n",
              "</table>\n",
              "</div>"
            ],
            "text/plain": [
              "   количество_сфер_деятельности\n",
              "0                           294"
            ]
          },
          "execution_count": 70,
          "metadata": {},
          "output_type": "execute_result"
        }
      ],
      "source": [
        "query = f'''select count(id) количество_сфер_деятельности\n",
        "           from INDUSTRIES'''\n",
        "df = pd.read_sql_query(query, connection)\n",
        "df  # результат запроса# текст запроса"
      ]
    },
    {
      "cell_type": "markdown",
      "id": "9a8a2181-6914-448b-85f1-38f5f18b8a93",
      "metadata": {
        "id": "9a8a2181-6914-448b-85f1-38f5f18b8a93"
      },
      "source": [
        "***"
      ]
    },
    {
      "cell_type": "code",
      "execution_count": 24,
      "id": "be4e9bd3-a4db-4a20-82fb-6b02fc2957e0",
      "metadata": {
        "id": "be4e9bd3-a4db-4a20-82fb-6b02fc2957e0"
      },
      "outputs": [],
      "source": [
        "Вывод: В базе представлено 49197 вакансий от 23501 работодателей с 294 сферами деятельности из 1362 регионов."
      ]
    },
    {
      "cell_type": "markdown",
      "id": "8d62a9f3-f64e-4fe7-bdac-c4dffa16155e",
      "metadata": {
        "id": "8d62a9f3-f64e-4fe7-bdac-c4dffa16155e"
      },
      "source": [
        "# Юнит 4. Детальный анализ вакансий"
      ]
    },
    {
      "cell_type": "markdown",
      "id": "93053d3d-b284-481a-9cf7-012d7014c0e0",
      "metadata": {
        "id": "93053d3d-b284-481a-9cf7-012d7014c0e0"
      },
      "source": [
        "1. Напишите запрос, который позволит узнать, сколько (cnt) вакансий в каждом регионе (area).\n",
        "Отсортируйте по количеству вакансий в порядке убывания."
      ]
    },
    {
      "cell_type": "code",
      "execution_count": 71,
      "id": "3f069da6-fdc9-4ae7-b514-fafe2675efd3",
      "metadata": {
        "id": "3f069da6-fdc9-4ae7-b514-fafe2675efd3"
      },
      "outputs": [
        {
          "name": "stderr",
          "output_type": "stream",
          "text": [
            "C:\\Users\\Семья\\AppData\\Local\\Temp\\ipykernel_8136\\1024572447.py:7: UserWarning: pandas only supports SQLAlchemy connectable (engine/connection) or database string URI or sqlite3 DBAPI2 connection. Other DBAPI2 objects are not tested. Please consider using SQLAlchemy.\n",
            "  df = pd.read_sql_query(query, connection)\n"
          ]
        },
        {
          "data": {
            "text/html": [
              "<div>\n",
              "<style scoped>\n",
              "    .dataframe tbody tr th:only-of-type {\n",
              "        vertical-align: middle;\n",
              "    }\n",
              "\n",
              "    .dataframe tbody tr th {\n",
              "        vertical-align: top;\n",
              "    }\n",
              "\n",
              "    .dataframe thead th {\n",
              "        text-align: right;\n",
              "    }\n",
              "</style>\n",
              "<table border=\"1\" class=\"dataframe\">\n",
              "  <thead>\n",
              "    <tr style=\"text-align: right;\">\n",
              "      <th></th>\n",
              "      <th>cnt</th>\n",
              "      <th>area_id</th>\n",
              "      <th>name_area</th>\n",
              "    </tr>\n",
              "  </thead>\n",
              "  <tbody>\n",
              "    <tr>\n",
              "      <th>0</th>\n",
              "      <td>5333</td>\n",
              "      <td>1</td>\n",
              "      <td>Москва</td>\n",
              "    </tr>\n",
              "    <tr>\n",
              "      <th>1</th>\n",
              "      <td>2851</td>\n",
              "      <td>2</td>\n",
              "      <td>Санкт-Петербург</td>\n",
              "    </tr>\n",
              "    <tr>\n",
              "      <th>2</th>\n",
              "      <td>2112</td>\n",
              "      <td>1002</td>\n",
              "      <td>Минск</td>\n",
              "    </tr>\n",
              "    <tr>\n",
              "      <th>3</th>\n",
              "      <td>2006</td>\n",
              "      <td>4</td>\n",
              "      <td>Новосибирск</td>\n",
              "    </tr>\n",
              "    <tr>\n",
              "      <th>4</th>\n",
              "      <td>1892</td>\n",
              "      <td>160</td>\n",
              "      <td>Алматы</td>\n",
              "    </tr>\n",
              "  </tbody>\n",
              "</table>\n",
              "</div>"
            ],
            "text/plain": [
              "    cnt  area_id        name_area\n",
              "0  5333        1           Москва\n",
              "1  2851        2  Санкт-Петербург\n",
              "2  2112     1002            Минск\n",
              "3  2006        4      Новосибирск\n",
              "4  1892      160           Алматы"
            ]
          },
          "execution_count": 71,
          "metadata": {},
          "output_type": "execute_result"
        }
      ],
      "source": [
        "query = f''' select count(v.id) cnt, area_id area_id, a.name name_area\n",
        "           from VACANCIES v\n",
        "          full join areas a  on v.area_id=a.id\n",
        "           group by a.name, area_id\n",
        "           order by 1 desc \n",
        "          limit 5'''\n",
        "df = pd.read_sql_query(query, connection)\n",
        "df  "
      ]
    },
    {
      "cell_type": "code",
      "execution_count": 26,
      "id": "P7QL86hrjhRJ",
      "metadata": {
        "id": "P7QL86hrjhRJ"
      },
      "outputs": [],
      "source": [
        "# результат запроса"
      ]
    },
    {
      "cell_type": "markdown",
      "id": "4266f0b6-1646-492a-88b4-2f6a46502135",
      "metadata": {
        "id": "4266f0b6-1646-492a-88b4-2f6a46502135"
      },
      "source": [
        "2. Напишите запрос, чтобы определить у какого количества вакансий заполнено хотя бы одно из двух полей с зарплатой."
      ]
    },
    {
      "cell_type": "code",
      "execution_count": 72,
      "id": "0c44b350-72eb-4d65-8b54-a1fc449ba9fd",
      "metadata": {
        "id": "0c44b350-72eb-4d65-8b54-a1fc449ba9fd"
      },
      "outputs": [
        {
          "name": "stderr",
          "output_type": "stream",
          "text": [
            "C:\\Users\\Семья\\AppData\\Local\\Temp\\ipykernel_8136\\1699127295.py:4: UserWarning: pandas only supports SQLAlchemy connectable (engine/connection) or database string URI or sqlite3 DBAPI2 connection. Other DBAPI2 objects are not tested. Please consider using SQLAlchemy.\n",
            "  df = pd.read_sql_query(query, connection)\n"
          ]
        },
        {
          "data": {
            "text/html": [
              "<div>\n",
              "<style scoped>\n",
              "    .dataframe tbody tr th:only-of-type {\n",
              "        vertical-align: middle;\n",
              "    }\n",
              "\n",
              "    .dataframe tbody tr th {\n",
              "        vertical-align: top;\n",
              "    }\n",
              "\n",
              "    .dataframe thead th {\n",
              "        text-align: right;\n",
              "    }\n",
              "</style>\n",
              "<table border=\"1\" class=\"dataframe\">\n",
              "  <thead>\n",
              "    <tr style=\"text-align: right;\">\n",
              "      <th></th>\n",
              "      <th>количество_вакансий</th>\n",
              "    </tr>\n",
              "  </thead>\n",
              "  <tbody>\n",
              "    <tr>\n",
              "      <th>0</th>\n",
              "      <td>24073</td>\n",
              "    </tr>\n",
              "  </tbody>\n",
              "</table>\n",
              "</div>"
            ],
            "text/plain": [
              "   количество_вакансий\n",
              "0                24073"
            ]
          },
          "execution_count": 72,
          "metadata": {},
          "output_type": "execute_result"
        }
      ],
      "source": [
        "query = f''' select count(distinct(v.id)) количество_вакансий\n",
        "           from VACANCIES v\n",
        "          where v.salary_from is not null or v.salary_to is not null'''\n",
        "df = pd.read_sql_query(query, connection)\n",
        "df  # текст запроса"
      ]
    },
    {
      "cell_type": "markdown",
      "id": "0e526164",
      "metadata": {},
      "source": [
        "Дополнительные исследования:  с каким  графиком работы больше указано вакансий с заработной платой (хотябы в одном поле) и не указано совсем "
      ]
    },
    {
      "cell_type": "code",
      "execution_count": 73,
      "id": "9ef2d266",
      "metadata": {},
      "outputs": [
        {
          "name": "stderr",
          "output_type": "stream",
          "text": [
            "C:\\Users\\Семья\\AppData\\Local\\Temp\\ipykernel_8136\\745892999.py:13: UserWarning: pandas only supports SQLAlchemy connectable (engine/connection) or database string URI or sqlite3 DBAPI2 connection. Other DBAPI2 objects are not tested. Please consider using SQLAlchemy.\n",
            "  df = pd.read_sql_query(query, connection)\n"
          ]
        },
        {
          "data": {
            "text/html": [
              "<div>\n",
              "<style scoped>\n",
              "    .dataframe tbody tr th:only-of-type {\n",
              "        vertical-align: middle;\n",
              "    }\n",
              "\n",
              "    .dataframe tbody tr th {\n",
              "        vertical-align: top;\n",
              "    }\n",
              "\n",
              "    .dataframe thead th {\n",
              "        text-align: right;\n",
              "    }\n",
              "</style>\n",
              "<table border=\"1\" class=\"dataframe\">\n",
              "  <thead>\n",
              "    <tr style=\"text-align: right;\">\n",
              "      <th></th>\n",
              "      <th>count_v_нет_ЗП</th>\n",
              "      <th>график</th>\n",
              "      <th>count_v_есть_ЗП</th>\n",
              "    </tr>\n",
              "  </thead>\n",
              "  <tbody>\n",
              "    <tr>\n",
              "      <th>0</th>\n",
              "      <td>19047</td>\n",
              "      <td>Полный день</td>\n",
              "      <td>17377</td>\n",
              "    </tr>\n",
              "    <tr>\n",
              "      <th>1</th>\n",
              "      <td>1186</td>\n",
              "      <td>Гибкий график</td>\n",
              "      <td>853</td>\n",
              "    </tr>\n",
              "    <tr>\n",
              "      <th>2</th>\n",
              "      <td>233</td>\n",
              "      <td>Сменный график</td>\n",
              "      <td>821</td>\n",
              "    </tr>\n",
              "    <tr>\n",
              "      <th>3</th>\n",
              "      <td>4559</td>\n",
              "      <td>Удаленная работа</td>\n",
              "      <td>4752</td>\n",
              "    </tr>\n",
              "    <tr>\n",
              "      <th>4</th>\n",
              "      <td>99</td>\n",
              "      <td>Вахтовый метод</td>\n",
              "      <td>270</td>\n",
              "    </tr>\n",
              "  </tbody>\n",
              "</table>\n",
              "</div>"
            ],
            "text/plain": [
              "   count_v_нет_ЗП            график  count_v_есть_ЗП\n",
              "0           19047       Полный день            17377\n",
              "1            1186     Гибкий график              853\n",
              "2             233    Сменный график              821\n",
              "3            4559  Удаленная работа             4752\n",
              "4              99    Вахтовый метод              270"
            ]
          },
          "execution_count": 73,
          "metadata": {},
          "output_type": "execute_result"
        }
      ],
      "source": [
        "query = f'''\n",
        "          with  x as (\n",
        "          select count(v.id) count_v_есть_ЗП, v.schedule график\n",
        "           from VACANCIES v\n",
        "          where v.salary_from is not null or v.salary_to is not  null\n",
        "          group by v.schedule)\n",
        "          select count(v.id) count_v_нет_ЗП, v.schedule график, x. count_v_есть_ЗП\n",
        "          from VACANCIES v\n",
        "           join x on x.график= v.schedule\n",
        "          where v.salary_from is  null and v.salary_to is   null\n",
        "          group by v.schedule,x. count_v_есть_ЗП\n",
        "          '''\n",
        "df = pd.read_sql_query(query, connection)\n",
        "df  "
      ]
    },
    {
      "cell_type": "markdown",
      "id": "74376507",
      "metadata": {},
      "source": [
        "Выведем вакансии со сменным графиком и посомтрим какой  максимальный уровень заработной платы предлагают соискателям "
      ]
    },
    {
      "cell_type": "code",
      "execution_count": 74,
      "id": "630dc2db",
      "metadata": {},
      "outputs": [
        {
          "name": "stderr",
          "output_type": "stream",
          "text": [
            "C:\\Users\\Семья\\AppData\\Local\\Temp\\ipykernel_8136\\175088280.py:9: UserWarning: pandas only supports SQLAlchemy connectable (engine/connection) or database string URI or sqlite3 DBAPI2 connection. Other DBAPI2 objects are not tested. Please consider using SQLAlchemy.\n",
            "  df = pd.read_sql_query(query, connection)\n"
          ]
        },
        {
          "data": {
            "text/html": [
              "<div>\n",
              "<style scoped>\n",
              "    .dataframe tbody tr th:only-of-type {\n",
              "        vertical-align: middle;\n",
              "    }\n",
              "\n",
              "    .dataframe tbody tr th {\n",
              "        vertical-align: top;\n",
              "    }\n",
              "\n",
              "    .dataframe thead th {\n",
              "        text-align: right;\n",
              "    }\n",
              "</style>\n",
              "<table border=\"1\" class=\"dataframe\">\n",
              "  <thead>\n",
              "    <tr style=\"text-align: right;\">\n",
              "      <th></th>\n",
              "      <th>schedule</th>\n",
              "      <th>name</th>\n",
              "      <th>salary_to</th>\n",
              "    </tr>\n",
              "  </thead>\n",
              "  <tbody>\n",
              "    <tr>\n",
              "      <th>0</th>\n",
              "      <td>Сменный график</td>\n",
              "      <td>Разработчик Python</td>\n",
              "      <td>200000</td>\n",
              "    </tr>\n",
              "    <tr>\n",
              "      <th>1</th>\n",
              "      <td>Сменный график</td>\n",
              "      <td>Консультант по сопровождению конфигураций 1С</td>\n",
              "      <td>150000</td>\n",
              "    </tr>\n",
              "    <tr>\n",
              "      <th>2</th>\n",
              "      <td>Сменный график</td>\n",
              "      <td>Продавец-консультант мебели Panda Terra</td>\n",
              "      <td>150000</td>\n",
              "    </tr>\n",
              "    <tr>\n",
              "      <th>3</th>\n",
              "      <td>Сменный график</td>\n",
              "      <td>Инженер технической поддержки (2-я линия)</td>\n",
              "      <td>140000</td>\n",
              "    </tr>\n",
              "    <tr>\n",
              "      <th>4</th>\n",
              "      <td>Сменный график</td>\n",
              "      <td>Руководитель СТО</td>\n",
              "      <td>120000</td>\n",
              "    </tr>\n",
              "    <tr>\n",
              "      <th>5</th>\n",
              "      <td>Сменный график</td>\n",
              "      <td>Ночной системный администратор</td>\n",
              "      <td>110000</td>\n",
              "    </tr>\n",
              "    <tr>\n",
              "      <th>6</th>\n",
              "      <td>Сменный график</td>\n",
              "      <td>Middle Unity Developer в игровой проект</td>\n",
              "      <td>100000</td>\n",
              "    </tr>\n",
              "    <tr>\n",
              "      <th>7</th>\n",
              "      <td>Сменный график</td>\n",
              "      <td>Middle Серверный разработчик на mirror</td>\n",
              "      <td>100000</td>\n",
              "    </tr>\n",
              "    <tr>\n",
              "      <th>8</th>\n",
              "      <td>Сменный график</td>\n",
              "      <td>Контролер технического состояния автомобилей</td>\n",
              "      <td>100000</td>\n",
              "    </tr>\n",
              "    <tr>\n",
              "      <th>9</th>\n",
              "      <td>Сменный график</td>\n",
              "      <td>Ночной сотрудник в отдел технической поддержки...</td>\n",
              "      <td>100000</td>\n",
              "    </tr>\n",
              "    <tr>\n",
              "      <th>10</th>\n",
              "      <td>Сменный график</td>\n",
              "      <td>Сотрудник отдела технической поддержки со знан...</td>\n",
              "      <td>100000</td>\n",
              "    </tr>\n",
              "    <tr>\n",
              "      <th>11</th>\n",
              "      <td>Сменный график</td>\n",
              "      <td>Специалист по обслуживанию майнинг ферм / Сист...</td>\n",
              "      <td>100000</td>\n",
              "    </tr>\n",
              "    <tr>\n",
              "      <th>12</th>\n",
              "      <td>Сменный график</td>\n",
              "      <td>Специалист технической поддержки / Support Eng...</td>\n",
              "      <td>100000</td>\n",
              "    </tr>\n",
              "    <tr>\n",
              "      <th>13</th>\n",
              "      <td>Сменный график</td>\n",
              "      <td>Ночной системный администратор</td>\n",
              "      <td>99362</td>\n",
              "    </tr>\n",
              "    <tr>\n",
              "      <th>14</th>\n",
              "      <td>Сменный график</td>\n",
              "      <td>Старший специалист по мониторингу кибербезопас...</td>\n",
              "      <td>92000</td>\n",
              "    </tr>\n",
              "    <tr>\n",
              "      <th>15</th>\n",
              "      <td>Сменный график</td>\n",
              "      <td>Инженер технической поддержки/системный админи...</td>\n",
              "      <td>90000</td>\n",
              "    </tr>\n",
              "    <tr>\n",
              "      <th>16</th>\n",
              "      <td>Сменный график</td>\n",
              "      <td>Ночной сотрудник отдела технической поддержки ...</td>\n",
              "      <td>90000</td>\n",
              "    </tr>\n",
              "    <tr>\n",
              "      <th>17</th>\n",
              "      <td>Сменный график</td>\n",
              "      <td>Оператор мебельного производства</td>\n",
              "      <td>90000</td>\n",
              "    </tr>\n",
              "    <tr>\n",
              "      <th>18</th>\n",
              "      <td>Сменный график</td>\n",
              "      <td>Оператор термопластавтоматов и экструзионных л...</td>\n",
              "      <td>90000</td>\n",
              "    </tr>\n",
              "    <tr>\n",
              "      <th>19</th>\n",
              "      <td>Сменный график</td>\n",
              "      <td>Специалист/оператор технической поддержки</td>\n",
              "      <td>90000</td>\n",
              "    </tr>\n",
              "  </tbody>\n",
              "</table>\n",
              "</div>"
            ],
            "text/plain": [
              "          schedule                                               name   \n",
              "0   Сменный график                                 Разработчик Python  \\\n",
              "1   Сменный график       Консультант по сопровождению конфигураций 1С   \n",
              "2   Сменный график            Продавец-консультант мебели Panda Terra   \n",
              "3   Сменный график          Инженер технической поддержки (2-я линия)   \n",
              "4   Сменный график                                   Руководитель СТО   \n",
              "5   Сменный график                     Ночной системный администратор   \n",
              "6   Сменный график            Middle Unity Developer в игровой проект   \n",
              "7   Сменный график             Middle Серверный разработчик на mirror   \n",
              "8   Сменный график       Контролер технического состояния автомобилей   \n",
              "9   Сменный график  Ночной сотрудник в отдел технической поддержки...   \n",
              "10  Сменный график  Сотрудник отдела технической поддержки со знан...   \n",
              "11  Сменный график  Специалист по обслуживанию майнинг ферм / Сист...   \n",
              "12  Сменный график  Специалист технической поддержки / Support Eng...   \n",
              "13  Сменный график                     Ночной системный администратор   \n",
              "14  Сменный график  Старший специалист по мониторингу кибербезопас...   \n",
              "15  Сменный график  Инженер технической поддержки/системный админи...   \n",
              "16  Сменный график  Ночной сотрудник отдела технической поддержки ...   \n",
              "17  Сменный график                   Оператор мебельного производства   \n",
              "18  Сменный график  Оператор термопластавтоматов и экструзионных л...   \n",
              "19  Сменный график          Специалист/оператор технической поддержки   \n",
              "\n",
              "    salary_to  \n",
              "0      200000  \n",
              "1      150000  \n",
              "2      150000  \n",
              "3      140000  \n",
              "4      120000  \n",
              "5      110000  \n",
              "6      100000  \n",
              "7      100000  \n",
              "8      100000  \n",
              "9      100000  \n",
              "10     100000  \n",
              "11     100000  \n",
              "12     100000  \n",
              "13      99362  \n",
              "14      92000  \n",
              "15      90000  \n",
              "16      90000  \n",
              "17      90000  \n",
              "18      90000  \n",
              "19      90000  "
            ]
          },
          "execution_count": 74,
          "metadata": {},
          "output_type": "execute_result"
        }
      ],
      "source": [
        "query = f'''\n",
        "          select v.schedule, v.name, v.salary_to\n",
        "         from VACANCIES v\n",
        "         where v.schedule ilike '%сменн%' and v.salary_to is not null\n",
        "         group by v.schedule, v.name,v.salary_to\n",
        "         order by 3 desc\n",
        "         limit 20\n",
        "          '''\n",
        "df = pd.read_sql_query(query, connection)\n",
        "df  "
      ]
    },
    {
      "cell_type": "markdown",
      "id": "635c4d5d-f323-4c66-b428-50a088120aa0",
      "metadata": {
        "id": "635c4d5d-f323-4c66-b428-50a088120aa0"
      },
      "source": [
        "3. Найдите средние значения для нижней и верхней границы зарплатной вилки. Округлите значения до целого."
      ]
    },
    {
      "cell_type": "code",
      "execution_count": 75,
      "id": "603cdbe4-0ec3-4106-8eaf-c73fcdd29165",
      "metadata": {
        "id": "603cdbe4-0ec3-4106-8eaf-c73fcdd29165"
      },
      "outputs": [
        {
          "name": "stderr",
          "output_type": "stream",
          "text": [
            "C:\\Users\\Семья\\AppData\\Local\\Temp\\ipykernel_8136\\2540347097.py:3: UserWarning: pandas only supports SQLAlchemy connectable (engine/connection) or database string URI or sqlite3 DBAPI2 connection. Other DBAPI2 objects are not tested. Please consider using SQLAlchemy.\n",
            "  df = pd.read_sql_query(query, connection)\n"
          ]
        },
        {
          "data": {
            "text/html": [
              "<div>\n",
              "<style scoped>\n",
              "    .dataframe tbody tr th:only-of-type {\n",
              "        vertical-align: middle;\n",
              "    }\n",
              "\n",
              "    .dataframe tbody tr th {\n",
              "        vertical-align: top;\n",
              "    }\n",
              "\n",
              "    .dataframe thead th {\n",
              "        text-align: right;\n",
              "    }\n",
              "</style>\n",
              "<table border=\"1\" class=\"dataframe\">\n",
              "  <thead>\n",
              "    <tr style=\"text-align: right;\">\n",
              "      <th></th>\n",
              "      <th>avg_s_from</th>\n",
              "      <th>avg_s_to</th>\n",
              "    </tr>\n",
              "  </thead>\n",
              "  <tbody>\n",
              "    <tr>\n",
              "      <th>0</th>\n",
              "      <td>71065.0</td>\n",
              "      <td>110537.0</td>\n",
              "    </tr>\n",
              "  </tbody>\n",
              "</table>\n",
              "</div>"
            ],
            "text/plain": [
              "   avg_s_from  avg_s_to\n",
              "0     71065.0  110537.0"
            ]
          },
          "execution_count": 75,
          "metadata": {},
          "output_type": "execute_result"
        }
      ],
      "source": [
        "query = f''' select round(avg(v.salary_from),0) avg_s_from,round(avg(v.salary_to),0) avg_s_to\n",
        "           from VACANCIES v'''\n",
        "df = pd.read_sql_query(query, connection)\n",
        "df # текст запроса"
      ]
    },
    {
      "cell_type": "markdown",
      "id": "45f0d588",
      "metadata": {},
      "source": [
        "Дополнительные исследования: найдем регионы предлагающие максимальную и минимальную забаботную плату, исключая из исследования вакансии, где заработная плата не указана совсем."
      ]
    },
    {
      "cell_type": "markdown",
      "id": "0a1f571e",
      "metadata": {},
      "source": [
        "Максимальные заработные платы:"
      ]
    },
    {
      "cell_type": "code",
      "execution_count": 76,
      "id": "pswpAb66ovZZ",
      "metadata": {
        "id": "pswpAb66ovZZ"
      },
      "outputs": [
        {
          "name": "stderr",
          "output_type": "stream",
          "text": [
            "C:\\Users\\Семья\\AppData\\Local\\Temp\\ipykernel_8136\\3664960273.py:8: UserWarning: pandas only supports SQLAlchemy connectable (engine/connection) or database string URI or sqlite3 DBAPI2 connection. Other DBAPI2 objects are not tested. Please consider using SQLAlchemy.\n",
            "  df = pd.read_sql_query(query, connection)\n"
          ]
        },
        {
          "data": {
            "text/html": [
              "<div>\n",
              "<style scoped>\n",
              "    .dataframe tbody tr th:only-of-type {\n",
              "        vertical-align: middle;\n",
              "    }\n",
              "\n",
              "    .dataframe tbody tr th {\n",
              "        vertical-align: top;\n",
              "    }\n",
              "\n",
              "    .dataframe thead th {\n",
              "        text-align: right;\n",
              "    }\n",
              "</style>\n",
              "<table border=\"1\" class=\"dataframe\">\n",
              "  <thead>\n",
              "    <tr style=\"text-align: right;\">\n",
              "      <th></th>\n",
              "      <th>max_s_to</th>\n",
              "      <th>name</th>\n",
              "    </tr>\n",
              "  </thead>\n",
              "  <tbody>\n",
              "    <tr>\n",
              "      <th>0</th>\n",
              "      <td>1000000</td>\n",
              "      <td>Алматы</td>\n",
              "    </tr>\n",
              "    <tr>\n",
              "      <th>1</th>\n",
              "      <td>1000000</td>\n",
              "      <td>Москва</td>\n",
              "    </tr>\n",
              "    <tr>\n",
              "      <th>2</th>\n",
              "      <td>1000000</td>\n",
              "      <td>Сочи</td>\n",
              "    </tr>\n",
              "    <tr>\n",
              "      <th>3</th>\n",
              "      <td>950000</td>\n",
              "      <td>Москва</td>\n",
              "    </tr>\n",
              "    <tr>\n",
              "      <th>4</th>\n",
              "      <td>935176</td>\n",
              "      <td>Санкт-Петербург</td>\n",
              "    </tr>\n",
              "  </tbody>\n",
              "</table>\n",
              "</div>"
            ],
            "text/plain": [
              "   max_s_to             name\n",
              "0   1000000           Алматы\n",
              "1   1000000           Москва\n",
              "2   1000000             Сочи\n",
              "3    950000           Москва\n",
              "4    935176  Санкт-Петербург"
            ]
          },
          "execution_count": 76,
          "metadata": {},
          "output_type": "execute_result"
        }
      ],
      "source": [
        "query = f''' select max(v.salary_to) max_s_to,   a.name\n",
        "  from VACANCIES v\n",
        "  left join areas a on a.id=v.area_id\n",
        "  group by  a.id,v.salary_to, v.salary_from\n",
        "  having v.salary_to is not null and v.salary_from is not null\n",
        "  order by 1 desc,2\n",
        "  limit 5'''\n",
        "df = pd.read_sql_query(query, connection)\n",
        "df "
      ]
    },
    {
      "cell_type": "markdown",
      "id": "a05602dd",
      "metadata": {},
      "source": [
        "Минимальные заработные платы:"
      ]
    },
    {
      "cell_type": "code",
      "execution_count": 77,
      "id": "2754bf76",
      "metadata": {},
      "outputs": [
        {
          "name": "stderr",
          "output_type": "stream",
          "text": [
            "C:\\Users\\Семья\\AppData\\Local\\Temp\\ipykernel_8136\\1207782615.py:9: UserWarning: pandas only supports SQLAlchemy connectable (engine/connection) or database string URI or sqlite3 DBAPI2 connection. Other DBAPI2 objects are not tested. Please consider using SQLAlchemy.\n",
            "  df = pd.read_sql_query(query, connection)\n"
          ]
        },
        {
          "data": {
            "text/html": [
              "<div>\n",
              "<style scoped>\n",
              "    .dataframe tbody tr th:only-of-type {\n",
              "        vertical-align: middle;\n",
              "    }\n",
              "\n",
              "    .dataframe tbody tr th {\n",
              "        vertical-align: top;\n",
              "    }\n",
              "\n",
              "    .dataframe thead th {\n",
              "        text-align: right;\n",
              "    }\n",
              "</style>\n",
              "<table border=\"1\" class=\"dataframe\">\n",
              "  <thead>\n",
              "    <tr style=\"text-align: right;\">\n",
              "      <th></th>\n",
              "      <th>min_s_from</th>\n",
              "      <th>name</th>\n",
              "    </tr>\n",
              "  </thead>\n",
              "  <tbody>\n",
              "    <tr>\n",
              "      <th>0</th>\n",
              "      <td>30</td>\n",
              "      <td>Челябинск</td>\n",
              "    </tr>\n",
              "    <tr>\n",
              "      <th>1</th>\n",
              "      <td>42</td>\n",
              "      <td>Воронеж</td>\n",
              "    </tr>\n",
              "    <tr>\n",
              "      <th>2</th>\n",
              "      <td>60</td>\n",
              "      <td>Смоленск</td>\n",
              "    </tr>\n",
              "    <tr>\n",
              "      <th>3</th>\n",
              "      <td>80</td>\n",
              "      <td>Уфа</td>\n",
              "    </tr>\n",
              "    <tr>\n",
              "      <th>4</th>\n",
              "      <td>80</td>\n",
              "      <td>Химки</td>\n",
              "    </tr>\n",
              "  </tbody>\n",
              "</table>\n",
              "</div>"
            ],
            "text/plain": [
              "   min_s_from       name\n",
              "0          30  Челябинск\n",
              "1          42    Воронеж\n",
              "2          60   Смоленск\n",
              "3          80        Уфа\n",
              "4          80      Химки"
            ]
          },
          "execution_count": 77,
          "metadata": {},
          "output_type": "execute_result"
        }
      ],
      "source": [
        "query = f''' select min(v.salary_from) min_s_from,   a.name\n",
        "  from VACANCIES v\n",
        "  left join areas a on a.id=v.area_id\n",
        "  group by  a.name,v.salary_from, v.salary_to\n",
        "  having v.salary_from is not null and v.salary_to is not null\n",
        "  order by 1,2\n",
        "  limit 5\n",
        "  '''\n",
        "df = pd.read_sql_query(query, connection)\n",
        "df "
      ]
    },
    {
      "cell_type": "markdown",
      "id": "e5593e64",
      "metadata": {},
      "source": [
        "Найдем среднюю максимальную заработную плату  для Алматы."
      ]
    },
    {
      "cell_type": "code",
      "execution_count": 78,
      "id": "3be67b78",
      "metadata": {},
      "outputs": [
        {
          "name": "stderr",
          "output_type": "stream",
          "text": [
            "C:\\Users\\Семья\\AppData\\Local\\Temp\\ipykernel_8136\\3458603274.py:15: UserWarning: pandas only supports SQLAlchemy connectable (engine/connection) or database string URI or sqlite3 DBAPI2 connection. Other DBAPI2 objects are not tested. Please consider using SQLAlchemy.\n",
            "  df = pd.read_sql_query(query, connection)\n"
          ]
        },
        {
          "data": {
            "text/html": [
              "<div>\n",
              "<style scoped>\n",
              "    .dataframe tbody tr th:only-of-type {\n",
              "        vertical-align: middle;\n",
              "    }\n",
              "\n",
              "    .dataframe tbody tr th {\n",
              "        vertical-align: top;\n",
              "    }\n",
              "\n",
              "    .dataframe thead th {\n",
              "        text-align: right;\n",
              "    }\n",
              "</style>\n",
              "<table border=\"1\" class=\"dataframe\">\n",
              "  <thead>\n",
              "    <tr style=\"text-align: right;\">\n",
              "      <th></th>\n",
              "      <th>avg_s_to</th>\n",
              "      <th>name</th>\n",
              "    </tr>\n",
              "  </thead>\n",
              "  <tbody>\n",
              "    <tr>\n",
              "      <th>0</th>\n",
              "      <td>111835.0</td>\n",
              "      <td>avg_max_to</td>\n",
              "    </tr>\n",
              "  </tbody>\n",
              "</table>\n",
              "</div>"
            ],
            "text/plain": [
              "   avg_s_to        name\n",
              "0  111835.0  avg_max_to"
            ]
          },
          "execution_count": 78,
          "metadata": {},
          "output_type": "execute_result"
        }
      ],
      "source": [
        "query = f'''  with x as ( select avg(v.salary_to) avg_s_to, a.name\n",
        "  from VACANCIES v\n",
        "  left join areas a on a.id=v.area_id\n",
        "  where a.name  ilike '%Алмат%'\n",
        "  group by  a.name,v.salary_to,v.salary_from\n",
        "  having v.salary_to is not null and v.salary_from is not null)\n",
        "  select * \n",
        "  from x\n",
        "  union all\n",
        "  select \n",
        "  round(avg(x.avg_s_to),0),'avg_max_to'\n",
        "  from x\n",
        "  order by 2\n",
        "  limit 1'''\n",
        "df = pd.read_sql_query(query, connection)\n",
        "df "
      ]
    },
    {
      "cell_type": "markdown",
      "id": "f56ddf54",
      "metadata": {},
      "source": [
        "Найдем среднюю максимальную заработную плату  для Москвы."
      ]
    },
    {
      "cell_type": "code",
      "execution_count": 79,
      "id": "ca53475b",
      "metadata": {},
      "outputs": [
        {
          "name": "stderr",
          "output_type": "stream",
          "text": [
            "C:\\Users\\Семья\\AppData\\Local\\Temp\\ipykernel_8136\\173873307.py:15: UserWarning: pandas only supports SQLAlchemy connectable (engine/connection) or database string URI or sqlite3 DBAPI2 connection. Other DBAPI2 objects are not tested. Please consider using SQLAlchemy.\n",
            "  df = pd.read_sql_query(query, connection)\n"
          ]
        },
        {
          "data": {
            "text/html": [
              "<div>\n",
              "<style scoped>\n",
              "    .dataframe tbody tr th:only-of-type {\n",
              "        vertical-align: middle;\n",
              "    }\n",
              "\n",
              "    .dataframe tbody tr th {\n",
              "        vertical-align: top;\n",
              "    }\n",
              "\n",
              "    .dataframe thead th {\n",
              "        text-align: right;\n",
              "    }\n",
              "</style>\n",
              "<table border=\"1\" class=\"dataframe\">\n",
              "  <thead>\n",
              "    <tr style=\"text-align: right;\">\n",
              "      <th></th>\n",
              "      <th>avg_s_to</th>\n",
              "      <th>name</th>\n",
              "    </tr>\n",
              "  </thead>\n",
              "  <tbody>\n",
              "    <tr>\n",
              "      <th>0</th>\n",
              "      <td>169929.0</td>\n",
              "      <td>avg_max_to</td>\n",
              "    </tr>\n",
              "  </tbody>\n",
              "</table>\n",
              "</div>"
            ],
            "text/plain": [
              "   avg_s_to        name\n",
              "0  169929.0  avg_max_to"
            ]
          },
          "execution_count": 79,
          "metadata": {},
          "output_type": "execute_result"
        }
      ],
      "source": [
        "query = f'''  with x as ( select avg(v.salary_to) avg_s_to, a.name\n",
        "  from VACANCIES v\n",
        "  left join areas a on a.id=v.area_id\n",
        "  where a.name  ilike '%москв%'\n",
        "  group by  a.name,v.salary_to,v.salary_from\n",
        "  having v.salary_to is not null and v.salary_from is not null)\n",
        "  select * \n",
        "  from x\n",
        "  union all\n",
        "  select \n",
        "  round(avg(x.avg_s_to),0),'avg_max_to'\n",
        "  from x\n",
        "  order by 2\n",
        "  limit 1'''\n",
        "df = pd.read_sql_query(query, connection)\n",
        "df "
      ]
    },
    {
      "cell_type": "markdown",
      "id": "521ad216",
      "metadata": {},
      "source": [
        "Найдем среднюю максимальную заработную плату  для Сочи."
      ]
    },
    {
      "cell_type": "code",
      "execution_count": 80,
      "id": "b3cc59c4",
      "metadata": {},
      "outputs": [
        {
          "name": "stderr",
          "output_type": "stream",
          "text": [
            "C:\\Users\\Семья\\AppData\\Local\\Temp\\ipykernel_8136\\519548020.py:15: UserWarning: pandas only supports SQLAlchemy connectable (engine/connection) or database string URI or sqlite3 DBAPI2 connection. Other DBAPI2 objects are not tested. Please consider using SQLAlchemy.\n",
            "  df = pd.read_sql_query(query, connection)\n"
          ]
        },
        {
          "data": {
            "text/html": [
              "<div>\n",
              "<style scoped>\n",
              "    .dataframe tbody tr th:only-of-type {\n",
              "        vertical-align: middle;\n",
              "    }\n",
              "\n",
              "    .dataframe tbody tr th {\n",
              "        vertical-align: top;\n",
              "    }\n",
              "\n",
              "    .dataframe thead th {\n",
              "        text-align: right;\n",
              "    }\n",
              "</style>\n",
              "<table border=\"1\" class=\"dataframe\">\n",
              "  <thead>\n",
              "    <tr style=\"text-align: right;\">\n",
              "      <th></th>\n",
              "      <th>avg_s_to</th>\n",
              "      <th>name</th>\n",
              "    </tr>\n",
              "  </thead>\n",
              "  <tbody>\n",
              "    <tr>\n",
              "      <th>0</th>\n",
              "      <td>152180.0</td>\n",
              "      <td>avg_max_to</td>\n",
              "    </tr>\n",
              "  </tbody>\n",
              "</table>\n",
              "</div>"
            ],
            "text/plain": [
              "   avg_s_to        name\n",
              "0  152180.0  avg_max_to"
            ]
          },
          "execution_count": 80,
          "metadata": {},
          "output_type": "execute_result"
        }
      ],
      "source": [
        "query = f'''  with x as ( select avg(v.salary_to) avg_s_to, a.name\n",
        "  from VACANCIES v\n",
        "  left join areas a on a.id=v.area_id\n",
        "  where a.name  ilike '%соч%'\n",
        "  group by  a.name,v.salary_to,v.salary_from\n",
        "  having v.salary_to is not null and v.salary_from is not null)\n",
        "  select * \n",
        "  from x\n",
        "  union all\n",
        "  select \n",
        "  round(avg(x.avg_s_to),0),'avg_max_to'\n",
        "  from x\n",
        "  order by 2\n",
        "  limit 1'''\n",
        "df = pd.read_sql_query(query, connection)\n",
        "df "
      ]
    },
    {
      "cell_type": "markdown",
      "id": "c44a29e4",
      "metadata": {},
      "source": [
        "Найдем среднюю максимальную заработную плату  для Санкт-Петербурга."
      ]
    },
    {
      "cell_type": "code",
      "execution_count": 81,
      "id": "12da0a17",
      "metadata": {},
      "outputs": [
        {
          "name": "stderr",
          "output_type": "stream",
          "text": [
            "C:\\Users\\Семья\\AppData\\Local\\Temp\\ipykernel_8136\\3231234028.py:15: UserWarning: pandas only supports SQLAlchemy connectable (engine/connection) or database string URI or sqlite3 DBAPI2 connection. Other DBAPI2 objects are not tested. Please consider using SQLAlchemy.\n",
            "  df = pd.read_sql_query(query, connection)\n"
          ]
        },
        {
          "data": {
            "text/html": [
              "<div>\n",
              "<style scoped>\n",
              "    .dataframe tbody tr th:only-of-type {\n",
              "        vertical-align: middle;\n",
              "    }\n",
              "\n",
              "    .dataframe tbody tr th {\n",
              "        vertical-align: top;\n",
              "    }\n",
              "\n",
              "    .dataframe thead th {\n",
              "        text-align: right;\n",
              "    }\n",
              "</style>\n",
              "<table border=\"1\" class=\"dataframe\">\n",
              "  <thead>\n",
              "    <tr style=\"text-align: right;\">\n",
              "      <th></th>\n",
              "      <th>avg_s_to</th>\n",
              "      <th>name</th>\n",
              "    </tr>\n",
              "  </thead>\n",
              "  <tbody>\n",
              "    <tr>\n",
              "      <th>0</th>\n",
              "      <td>141734.0</td>\n",
              "      <td>avg_max_to</td>\n",
              "    </tr>\n",
              "  </tbody>\n",
              "</table>\n",
              "</div>"
            ],
            "text/plain": [
              "   avg_s_to        name\n",
              "0  141734.0  avg_max_to"
            ]
          },
          "execution_count": 81,
          "metadata": {},
          "output_type": "execute_result"
        }
      ],
      "source": [
        "query = f'''  with x as ( select avg(v.salary_to) avg_s_to, a.name\n",
        "  from VACANCIES v\n",
        "  left join areas a on a.id=v.area_id\n",
        "  where a.name  ilike '%санкт%'\n",
        "  group by  a.name,v.salary_to,v.salary_from \n",
        "  having v.salary_to is not null and v.salary_from is not null)\n",
        "  select * \n",
        "  from x\n",
        "  union all\n",
        "  select \n",
        "  round(avg(x.avg_s_to),0),'avg_max_to'\n",
        "  from x\n",
        "  order by 2\n",
        "  limit 1'''\n",
        "df = pd.read_sql_query(query, connection)\n",
        "df "
      ]
    },
    {
      "cell_type": "markdown",
      "id": "dbae2453",
      "metadata": {},
      "source": [
        "Найдем среднюю заработную плату в Сочи."
      ]
    },
    {
      "cell_type": "code",
      "execution_count": 82,
      "id": "2db88b0e",
      "metadata": {},
      "outputs": [
        {
          "name": "stderr",
          "output_type": "stream",
          "text": [
            "C:\\Users\\Семья\\AppData\\Local\\Temp\\ipykernel_8136\\2912975469.py:14: UserWarning: pandas only supports SQLAlchemy connectable (engine/connection) or database string URI or sqlite3 DBAPI2 connection. Other DBAPI2 objects are not tested. Please consider using SQLAlchemy.\n",
            "  df = pd.read_sql_query(query, connection)\n"
          ]
        },
        {
          "data": {
            "text/html": [
              "<div>\n",
              "<style scoped>\n",
              "    .dataframe tbody tr th:only-of-type {\n",
              "        vertical-align: middle;\n",
              "    }\n",
              "\n",
              "    .dataframe tbody tr th {\n",
              "        vertical-align: top;\n",
              "    }\n",
              "\n",
              "    .dataframe thead th {\n",
              "        text-align: right;\n",
              "    }\n",
              "</style>\n",
              "<table border=\"1\" class=\"dataframe\">\n",
              "  <thead>\n",
              "    <tr style=\"text-align: right;\">\n",
              "      <th></th>\n",
              "      <th>avg_s_from</th>\n",
              "      <th>avg_s_to</th>\n",
              "      <th>total_avg</th>\n",
              "    </tr>\n",
              "  </thead>\n",
              "  <tbody>\n",
              "    <tr>\n",
              "      <th>52</th>\n",
              "      <td>93505.0</td>\n",
              "      <td>152180.0</td>\n",
              "      <td>122843.0</td>\n",
              "    </tr>\n",
              "  </tbody>\n",
              "</table>\n",
              "</div>"
            ],
            "text/plain": [
              "    avg_s_from  avg_s_to  total_avg\n",
              "52     93505.0  152180.0   122843.0"
            ]
          },
          "execution_count": 82,
          "metadata": {},
          "output_type": "execute_result"
        }
      ],
      "source": [
        "query = f'''with x as(\n",
        "  select round(avg(v.salary_from),0) avg_s_from,round(avg(v.salary_to),0) avg_s_to, ((avg(v.salary_from)+avg(v.salary_to))/2) total_avg\n",
        "           from VACANCIES v\n",
        "  left join areas a on a.id=v.area_id         \n",
        "  where a.name  ilike '%соч%'\n",
        "  group by v.salary_to,v.salary_from\n",
        "  having v.salary_to is not null and v.salary_from is not null)\n",
        "  select *\n",
        "  from x\n",
        "  union all\n",
        "  select\n",
        "  round(avg(x.avg_s_from)),round(avg(x.avg_s_to)),round(avg(x.total_avg))\n",
        "  from x'''\n",
        "df = pd.read_sql_query(query, connection)\n",
        "df.tail(1) "
      ]
    },
    {
      "cell_type": "markdown",
      "id": "3346f982",
      "metadata": {},
      "source": [
        "Найдем среднюю заработную плату в Москве."
      ]
    },
    {
      "cell_type": "code",
      "execution_count": 84,
      "id": "18881c4c",
      "metadata": {},
      "outputs": [
        {
          "name": "stderr",
          "output_type": "stream",
          "text": [
            "C:\\Users\\Семья\\AppData\\Local\\Temp\\ipykernel_8136\\3589570956.py:14: UserWarning: pandas only supports SQLAlchemy connectable (engine/connection) or database string URI or sqlite3 DBAPI2 connection. Other DBAPI2 objects are not tested. Please consider using SQLAlchemy.\n",
            "  df = pd.read_sql_query(query, connection)\n"
          ]
        },
        {
          "data": {
            "text/html": [
              "<div>\n",
              "<style scoped>\n",
              "    .dataframe tbody tr th:only-of-type {\n",
              "        vertical-align: middle;\n",
              "    }\n",
              "\n",
              "    .dataframe tbody tr th {\n",
              "        vertical-align: top;\n",
              "    }\n",
              "\n",
              "    .dataframe thead th {\n",
              "        text-align: right;\n",
              "    }\n",
              "</style>\n",
              "<table border=\"1\" class=\"dataframe\">\n",
              "  <thead>\n",
              "    <tr style=\"text-align: right;\">\n",
              "      <th></th>\n",
              "      <th>avg_s_from</th>\n",
              "      <th>avg_s_to</th>\n",
              "      <th>total_avg</th>\n",
              "    </tr>\n",
              "  </thead>\n",
              "  <tbody>\n",
              "    <tr>\n",
              "      <th>283</th>\n",
              "      <td>112435.0</td>\n",
              "      <td>169929.0</td>\n",
              "      <td>141182.0</td>\n",
              "    </tr>\n",
              "  </tbody>\n",
              "</table>\n",
              "</div>"
            ],
            "text/plain": [
              "     avg_s_from  avg_s_to  total_avg\n",
              "283    112435.0  169929.0   141182.0"
            ]
          },
          "execution_count": 84,
          "metadata": {},
          "output_type": "execute_result"
        }
      ],
      "source": [
        "query = f'''with x as(\n",
        "  select round(avg(v.salary_from),0) avg_s_from,round(avg(v.salary_to),0) avg_s_to, ((avg(v.salary_from)+avg(v.salary_to))/2) total_avg\n",
        "           from VACANCIES v\n",
        "  left join areas a on a.id=v.area_id         \n",
        "  where a.name  ilike '%москв%'\n",
        "  group by v.salary_to,v.salary_from\n",
        "  having v.salary_to is not null and v.salary_from is not null)\n",
        "  select *\n",
        "  from x\n",
        "  union all\n",
        "  select\n",
        "  round(avg(x.avg_s_from)),round(avg(x.avg_s_to)),round(avg(x.total_avg))\n",
        "  from x'''\n",
        "df = pd.read_sql_query(query, connection)\n",
        "df.tail(1) "
      ]
    },
    {
      "cell_type": "markdown",
      "id": "c0e51225",
      "metadata": {},
      "source": [
        "Найдем среднюю заработную плату в Алматы."
      ]
    },
    {
      "cell_type": "code",
      "execution_count": 88,
      "id": "ed42e347",
      "metadata": {},
      "outputs": [
        {
          "name": "stderr",
          "output_type": "stream",
          "text": [
            "C:\\Users\\Семья\\AppData\\Local\\Temp\\ipykernel_8136\\1550669857.py:14: UserWarning: pandas only supports SQLAlchemy connectable (engine/connection) or database string URI or sqlite3 DBAPI2 connection. Other DBAPI2 objects are not tested. Please consider using SQLAlchemy.\n",
            "  df = pd.read_sql_query(query, connection)\n"
          ]
        },
        {
          "data": {
            "text/html": [
              "<div>\n",
              "<style scoped>\n",
              "    .dataframe tbody tr th:only-of-type {\n",
              "        vertical-align: middle;\n",
              "    }\n",
              "\n",
              "    .dataframe tbody tr th {\n",
              "        vertical-align: top;\n",
              "    }\n",
              "\n",
              "    .dataframe thead th {\n",
              "        text-align: right;\n",
              "    }\n",
              "</style>\n",
              "<table border=\"1\" class=\"dataframe\">\n",
              "  <thead>\n",
              "    <tr style=\"text-align: right;\">\n",
              "      <th></th>\n",
              "      <th>avg_s_from</th>\n",
              "      <th>avg_s_to</th>\n",
              "      <th>total_avg</th>\n",
              "    </tr>\n",
              "  </thead>\n",
              "  <tbody>\n",
              "    <tr>\n",
              "      <th>181</th>\n",
              "      <td>65641.0</td>\n",
              "      <td>111835.0</td>\n",
              "      <td>88738.0</td>\n",
              "    </tr>\n",
              "  </tbody>\n",
              "</table>\n",
              "</div>"
            ],
            "text/plain": [
              "     avg_s_from  avg_s_to  total_avg\n",
              "181     65641.0  111835.0    88738.0"
            ]
          },
          "execution_count": 88,
          "metadata": {},
          "output_type": "execute_result"
        }
      ],
      "source": [
        "query = f'''with x as(\n",
        "  select round(avg(v.salary_from),0) avg_s_from,round(avg(v.salary_to),0) avg_s_to, ((avg(v.salary_from)+avg(v.salary_to))/2) total_avg\n",
        "           from VACANCIES v\n",
        "  left join areas a on a.id=v.area_id         \n",
        "  where a.name  ilike '%алмат%'\n",
        "  group by v.salary_to,v.salary_from\n",
        "  having v.salary_to is not null and v.salary_from is not null)\n",
        "  select *\n",
        "  from x\n",
        "  union all\n",
        "  select\n",
        "  round(avg(x.avg_s_from)),round(avg(x.avg_s_to)),round(avg(x.total_avg))\n",
        "  from x'''\n",
        "df = pd.read_sql_query(query, connection)\n",
        "df.tail(1) "
      ]
    },
    {
      "cell_type": "markdown",
      "id": "d052653f",
      "metadata": {},
      "source": [
        "Найдем среднюю заработную плату в Санкт-Петербурге."
      ]
    },
    {
      "cell_type": "code",
      "execution_count": 89,
      "id": "06bda428",
      "metadata": {},
      "outputs": [
        {
          "name": "stderr",
          "output_type": "stream",
          "text": [
            "C:\\Users\\Семья\\AppData\\Local\\Temp\\ipykernel_8136\\2459101508.py:14: UserWarning: pandas only supports SQLAlchemy connectable (engine/connection) or database string URI or sqlite3 DBAPI2 connection. Other DBAPI2 objects are not tested. Please consider using SQLAlchemy.\n",
            "  df = pd.read_sql_query(query, connection)\n"
          ]
        },
        {
          "data": {
            "text/html": [
              "<div>\n",
              "<style scoped>\n",
              "    .dataframe tbody tr th:only-of-type {\n",
              "        vertical-align: middle;\n",
              "    }\n",
              "\n",
              "    .dataframe tbody tr th {\n",
              "        vertical-align: top;\n",
              "    }\n",
              "\n",
              "    .dataframe thead th {\n",
              "        text-align: right;\n",
              "    }\n",
              "</style>\n",
              "<table border=\"1\" class=\"dataframe\">\n",
              "  <thead>\n",
              "    <tr style=\"text-align: right;\">\n",
              "      <th></th>\n",
              "      <th>avg_s_from</th>\n",
              "      <th>avg_s_to</th>\n",
              "      <th>total_avg</th>\n",
              "    </tr>\n",
              "  </thead>\n",
              "  <tbody>\n",
              "    <tr>\n",
              "      <th>266</th>\n",
              "      <td>88751.0</td>\n",
              "      <td>141734.0</td>\n",
              "      <td>115242.0</td>\n",
              "    </tr>\n",
              "  </tbody>\n",
              "</table>\n",
              "</div>"
            ],
            "text/plain": [
              "     avg_s_from  avg_s_to  total_avg\n",
              "266     88751.0  141734.0   115242.0"
            ]
          },
          "execution_count": 89,
          "metadata": {},
          "output_type": "execute_result"
        }
      ],
      "source": [
        "query = f'''with x as(\n",
        "  select round(avg(v.salary_from),0) avg_s_from,round(avg(v.salary_to),0) avg_s_to, ((avg(v.salary_from)+avg(v.salary_to))/2) total_avg\n",
        "           from VACANCIES v\n",
        "  left join areas a on a.id=v.area_id         \n",
        "  where a.name  ilike '%санк%'\n",
        "  group by v.salary_to,v.salary_from\n",
        "  having v.salary_to is not null and v.salary_from is not null)\n",
        "  select *\n",
        "  from x\n",
        "  union all\n",
        "  select\n",
        "  round(avg(x.avg_s_from)),round(avg(x.avg_s_to)),round(avg(x.total_avg))\n",
        "  from x'''\n",
        "df = pd.read_sql_query(query, connection)\n",
        "df.tail(1) "
      ]
    },
    {
      "cell_type": "markdown",
      "id": "be22f11a",
      "metadata": {},
      "source": [
        "Найдем среднюю заработную плату в Перми."
      ]
    },
    {
      "cell_type": "code",
      "execution_count": 90,
      "id": "dc2b88fd",
      "metadata": {},
      "outputs": [
        {
          "name": "stderr",
          "output_type": "stream",
          "text": [
            "C:\\Users\\Семья\\AppData\\Local\\Temp\\ipykernel_8136\\631773786.py:14: UserWarning: pandas only supports SQLAlchemy connectable (engine/connection) or database string URI or sqlite3 DBAPI2 connection. Other DBAPI2 objects are not tested. Please consider using SQLAlchemy.\n",
            "  df = pd.read_sql_query(query, connection)\n"
          ]
        },
        {
          "data": {
            "text/html": [
              "<div>\n",
              "<style scoped>\n",
              "    .dataframe tbody tr th:only-of-type {\n",
              "        vertical-align: middle;\n",
              "    }\n",
              "\n",
              "    .dataframe tbody tr th {\n",
              "        vertical-align: top;\n",
              "    }\n",
              "\n",
              "    .dataframe thead th {\n",
              "        text-align: right;\n",
              "    }\n",
              "</style>\n",
              "<table border=\"1\" class=\"dataframe\">\n",
              "  <thead>\n",
              "    <tr style=\"text-align: right;\">\n",
              "      <th></th>\n",
              "      <th>avg_s_from</th>\n",
              "      <th>avg_s_to</th>\n",
              "      <th>total_avg</th>\n",
              "    </tr>\n",
              "  </thead>\n",
              "  <tbody>\n",
              "    <tr>\n",
              "      <th>107</th>\n",
              "      <td>83554.0</td>\n",
              "      <td>130128.0</td>\n",
              "      <td>106841.0</td>\n",
              "    </tr>\n",
              "  </tbody>\n",
              "</table>\n",
              "</div>"
            ],
            "text/plain": [
              "     avg_s_from  avg_s_to  total_avg\n",
              "107     83554.0  130128.0   106841.0"
            ]
          },
          "execution_count": 90,
          "metadata": {},
          "output_type": "execute_result"
        }
      ],
      "source": [
        "query = f'''with x as(\n",
        "  select round(avg(v.salary_from),0) avg_s_from,round(avg(v.salary_to),0) avg_s_to, ((avg(v.salary_from)+avg(v.salary_to))/2) total_avg\n",
        "           from VACANCIES v\n",
        "  left join areas a on a.id=v.area_id         \n",
        "  where a.name  ilike '%перм%'\n",
        "  group by v.salary_to,v.salary_from\n",
        "  having v.salary_to is not null and v.salary_from is not null)\n",
        "  select *\n",
        "  from x\n",
        "  union all\n",
        "  select\n",
        "  round(avg(x.avg_s_from)),round(avg(x.avg_s_to)),round(avg(x.total_avg))\n",
        "  from x'''\n",
        "df = pd.read_sql_query(query, connection)\n",
        "df.tail(1) "
      ]
    },
    {
      "cell_type": "markdown",
      "id": "8a3c70bc",
      "metadata": {},
      "source": [
        "Найдем самые  высокооплачиваемые вакансии в Перми."
      ]
    },
    {
      "cell_type": "code",
      "execution_count": 95,
      "id": "2a7ae88a",
      "metadata": {},
      "outputs": [
        {
          "name": "stderr",
          "output_type": "stream",
          "text": [
            "C:\\Users\\Семья\\AppData\\Local\\Temp\\ipykernel_8136\\3831720716.py:17: UserWarning: pandas only supports SQLAlchemy connectable (engine/connection) or database string URI or sqlite3 DBAPI2 connection. Other DBAPI2 objects are not tested. Please consider using SQLAlchemy.\n",
            "  df = pd.read_sql_query(query, connection)\n"
          ]
        },
        {
          "data": {
            "text/html": [
              "<div>\n",
              "<style scoped>\n",
              "    .dataframe tbody tr th:only-of-type {\n",
              "        vertical-align: middle;\n",
              "    }\n",
              "\n",
              "    .dataframe tbody tr th {\n",
              "        vertical-align: top;\n",
              "    }\n",
              "\n",
              "    .dataframe thead th {\n",
              "        text-align: right;\n",
              "    }\n",
              "</style>\n",
              "<table border=\"1\" class=\"dataframe\">\n",
              "  <thead>\n",
              "    <tr style=\"text-align: right;\">\n",
              "      <th></th>\n",
              "      <th>avg_s_from</th>\n",
              "      <th>avg_s_to</th>\n",
              "      <th>total_avg</th>\n",
              "      <th>name_v</th>\n",
              "    </tr>\n",
              "  </thead>\n",
              "  <tbody>\n",
              "    <tr>\n",
              "      <th>0</th>\n",
              "      <td>400000.0</td>\n",
              "      <td>800000.0</td>\n",
              "      <td>600000.0</td>\n",
              "      <td>Product manager LATOKEN</td>\n",
              "    </tr>\n",
              "    <tr>\n",
              "      <th>1</th>\n",
              "      <td>400000.0</td>\n",
              "      <td>800000.0</td>\n",
              "      <td>600000.0</td>\n",
              "      <td>Product manager LATOKEN</td>\n",
              "    </tr>\n",
              "    <tr>\n",
              "      <th>2</th>\n",
              "      <td>150000.0</td>\n",
              "      <td>450000.0</td>\n",
              "      <td>300000.0</td>\n",
              "      <td>Программист</td>\n",
              "    </tr>\n",
              "    <tr>\n",
              "      <th>3</th>\n",
              "      <td>150000.0</td>\n",
              "      <td>450000.0</td>\n",
              "      <td>300000.0</td>\n",
              "      <td>Программист</td>\n",
              "    </tr>\n",
              "    <tr>\n",
              "      <th>4</th>\n",
              "      <td>220000.0</td>\n",
              "      <td>350000.0</td>\n",
              "      <td>285000.0</td>\n",
              "      <td>Android-разработчик (Java/Kotlin)</td>\n",
              "    </tr>\n",
              "  </tbody>\n",
              "</table>\n",
              "</div>"
            ],
            "text/plain": [
              "   avg_s_from  avg_s_to  total_avg                             name_v\n",
              "0    400000.0  800000.0   600000.0            Product manager LATOKEN\n",
              "1    400000.0  800000.0   600000.0            Product manager LATOKEN\n",
              "2    150000.0  450000.0   300000.0                        Программист\n",
              "3    150000.0  450000.0   300000.0                        Программист\n",
              "4    220000.0  350000.0   285000.0  Android-разработчик (Java/Kotlin)"
            ]
          },
          "execution_count": 95,
          "metadata": {},
          "output_type": "execute_result"
        }
      ],
      "source": [
        "query = f'''with x as(\n",
        "  select round(avg(v.salary_from),0) avg_s_from,round(avg(v.salary_to),0) avg_s_to, ((avg(v.salary_from)+avg(v.salary_to))/2) total_avg, v.name name_v\n",
        "           from VACANCIES v\n",
        "  left join areas a on a.id=v.area_id         \n",
        "  where a.name  ilike '%перм%'\n",
        "  group by v.salary_to,v.salary_from, v.name\n",
        "  having v.salary_to is not null and v.salary_from is not null)\n",
        "  select *\n",
        "  from x\n",
        "  union all\n",
        "  select\n",
        "  avg(x.avg_s_from),avg(x.avg_s_to), avg(x.total_avg), x.name_v\n",
        "  from x\n",
        "  group by x.name_v\n",
        "  order by 2 desc\n",
        "  limit 5'''\n",
        "df = pd.read_sql_query(query, connection)\n",
        "df"
      ]
    },
    {
      "cell_type": "markdown",
      "id": "f3fdaec9-5fd3-4260-9cf5-1d7406b628a5",
      "metadata": {
        "id": "f3fdaec9-5fd3-4260-9cf5-1d7406b628a5"
      },
      "source": [
        "4. Напишите запрос, который выведет количество вакансий для каждого сочетания типа рабочего графика (schedule) и типа трудоустройства (employment), используемого в вакансиях. Результат отсортируйте по убыванию количества.\n"
      ]
    },
    {
      "cell_type": "code",
      "execution_count": 97,
      "id": "1ea710ec-871b-431e-9462-c7d0fd87011b",
      "metadata": {
        "id": "1ea710ec-871b-431e-9462-c7d0fd87011b"
      },
      "outputs": [
        {
          "name": "stderr",
          "output_type": "stream",
          "text": [
            "C:\\Users\\Семья\\AppData\\Local\\Temp\\ipykernel_8136\\2629008037.py:8: UserWarning: pandas only supports SQLAlchemy connectable (engine/connection) or database string URI or sqlite3 DBAPI2 connection. Other DBAPI2 objects are not tested. Please consider using SQLAlchemy.\n",
            "  df = pd.read_sql_query(query, connection)\n"
          ]
        },
        {
          "data": {
            "text/html": [
              "<div>\n",
              "<style scoped>\n",
              "    .dataframe tbody tr th:only-of-type {\n",
              "        vertical-align: middle;\n",
              "    }\n",
              "\n",
              "    .dataframe tbody tr th {\n",
              "        vertical-align: top;\n",
              "    }\n",
              "\n",
              "    .dataframe thead th {\n",
              "        text-align: right;\n",
              "    }\n",
              "</style>\n",
              "<table border=\"1\" class=\"dataframe\">\n",
              "  <thead>\n",
              "    <tr style=\"text-align: right;\">\n",
              "      <th></th>\n",
              "      <th>employment</th>\n",
              "      <th>schedule</th>\n",
              "      <th>count</th>\n",
              "    </tr>\n",
              "  </thead>\n",
              "  <tbody>\n",
              "    <tr>\n",
              "      <th>0</th>\n",
              "      <td>Полная занятость</td>\n",
              "      <td>Полный день</td>\n",
              "      <td>35367</td>\n",
              "    </tr>\n",
              "    <tr>\n",
              "      <th>1</th>\n",
              "      <td>Полная занятость</td>\n",
              "      <td>Удаленная работа</td>\n",
              "      <td>7802</td>\n",
              "    </tr>\n",
              "    <tr>\n",
              "      <th>2</th>\n",
              "      <td>Полная занятость</td>\n",
              "      <td>Гибкий график</td>\n",
              "      <td>1593</td>\n",
              "    </tr>\n",
              "    <tr>\n",
              "      <th>3</th>\n",
              "      <td>Частичная занятость</td>\n",
              "      <td>Удаленная работа</td>\n",
              "      <td>1312</td>\n",
              "    </tr>\n",
              "    <tr>\n",
              "      <th>4</th>\n",
              "      <td>Полная занятость</td>\n",
              "      <td>Сменный график</td>\n",
              "      <td>940</td>\n",
              "    </tr>\n",
              "    <tr>\n",
              "      <th>5</th>\n",
              "      <td>Стажировка</td>\n",
              "      <td>Полный день</td>\n",
              "      <td>569</td>\n",
              "    </tr>\n",
              "    <tr>\n",
              "      <th>6</th>\n",
              "      <td>Полная занятость</td>\n",
              "      <td>Вахтовый метод</td>\n",
              "      <td>367</td>\n",
              "    </tr>\n",
              "    <tr>\n",
              "      <th>7</th>\n",
              "      <td>Частичная занятость</td>\n",
              "      <td>Полный день</td>\n",
              "      <td>347</td>\n",
              "    </tr>\n",
              "    <tr>\n",
              "      <th>8</th>\n",
              "      <td>Частичная занятость</td>\n",
              "      <td>Гибкий график</td>\n",
              "      <td>312</td>\n",
              "    </tr>\n",
              "    <tr>\n",
              "      <th>9</th>\n",
              "      <td>Проектная работа</td>\n",
              "      <td>Полный день</td>\n",
              "      <td>141</td>\n",
              "    </tr>\n",
              "    <tr>\n",
              "      <th>10</th>\n",
              "      <td>Проектная работа</td>\n",
              "      <td>Удаленная работа</td>\n",
              "      <td>133</td>\n",
              "    </tr>\n",
              "    <tr>\n",
              "      <th>11</th>\n",
              "      <td>Стажировка</td>\n",
              "      <td>Гибкий график</td>\n",
              "      <td>116</td>\n",
              "    </tr>\n",
              "    <tr>\n",
              "      <th>12</th>\n",
              "      <td>Частичная занятость</td>\n",
              "      <td>Сменный график</td>\n",
              "      <td>101</td>\n",
              "    </tr>\n",
              "    <tr>\n",
              "      <th>13</th>\n",
              "      <td>Стажировка</td>\n",
              "      <td>Удаленная работа</td>\n",
              "      <td>64</td>\n",
              "    </tr>\n",
              "    <tr>\n",
              "      <th>14</th>\n",
              "      <td>Проектная работа</td>\n",
              "      <td>Гибкий график</td>\n",
              "      <td>18</td>\n",
              "    </tr>\n",
              "    <tr>\n",
              "      <th>15</th>\n",
              "      <td>Стажировка</td>\n",
              "      <td>Сменный график</td>\n",
              "      <td>12</td>\n",
              "    </tr>\n",
              "    <tr>\n",
              "      <th>16</th>\n",
              "      <td>Проектная работа</td>\n",
              "      <td>Вахтовый метод</td>\n",
              "      <td>2</td>\n",
              "    </tr>\n",
              "    <tr>\n",
              "      <th>17</th>\n",
              "      <td>Проектная работа</td>\n",
              "      <td>Сменный график</td>\n",
              "      <td>1</td>\n",
              "    </tr>\n",
              "  </tbody>\n",
              "</table>\n",
              "</div>"
            ],
            "text/plain": [
              "             employment          schedule  count\n",
              "0      Полная занятость       Полный день  35367\n",
              "1      Полная занятость  Удаленная работа   7802\n",
              "2      Полная занятость     Гибкий график   1593\n",
              "3   Частичная занятость  Удаленная работа   1312\n",
              "4      Полная занятость    Сменный график    940\n",
              "5            Стажировка       Полный день    569\n",
              "6      Полная занятость    Вахтовый метод    367\n",
              "7   Частичная занятость       Полный день    347\n",
              "8   Частичная занятость     Гибкий график    312\n",
              "9      Проектная работа       Полный день    141\n",
              "10     Проектная работа  Удаленная работа    133\n",
              "11           Стажировка     Гибкий график    116\n",
              "12  Частичная занятость    Сменный график    101\n",
              "13           Стажировка  Удаленная работа     64\n",
              "14     Проектная работа     Гибкий график     18\n",
              "15           Стажировка    Сменный график     12\n",
              "16     Проектная работа    Вахтовый метод      2\n",
              "17     Проектная работа    Сменный график      1"
            ]
          },
          "execution_count": 97,
          "metadata": {},
          "output_type": "execute_result"
        }
      ],
      "source": [
        "query = f''' select distinct\n",
        "           v.employment, v.schedule, count(*)\n",
        "           from VACANCIES v\n",
        "         -- where v.salary_from is not null or v.salary_to is not null\n",
        "        group by  v.employment, v.schedule\n",
        "        order by 3 desc\n",
        "        '''\n",
        "df = pd.read_sql_query(query, connection)\n",
        "df  "
      ]
    },
    {
      "cell_type": "markdown",
      "id": "7b860ad0",
      "metadata": {},
      "source": [
        "Дополнительно исследуем пары с удаленной работой."
      ]
    },
    {
      "cell_type": "code",
      "execution_count": 98,
      "id": "3e9c831b",
      "metadata": {},
      "outputs": [
        {
          "name": "stderr",
          "output_type": "stream",
          "text": [
            "C:\\Users\\Семья\\AppData\\Local\\Temp\\ipykernel_8136\\1218266699.py:8: UserWarning: pandas only supports SQLAlchemy connectable (engine/connection) or database string URI or sqlite3 DBAPI2 connection. Other DBAPI2 objects are not tested. Please consider using SQLAlchemy.\n",
            "  df = pd.read_sql_query(query, connection)\n"
          ]
        },
        {
          "data": {
            "text/html": [
              "<div>\n",
              "<style scoped>\n",
              "    .dataframe tbody tr th:only-of-type {\n",
              "        vertical-align: middle;\n",
              "    }\n",
              "\n",
              "    .dataframe tbody tr th {\n",
              "        vertical-align: top;\n",
              "    }\n",
              "\n",
              "    .dataframe thead th {\n",
              "        text-align: right;\n",
              "    }\n",
              "</style>\n",
              "<table border=\"1\" class=\"dataframe\">\n",
              "  <thead>\n",
              "    <tr style=\"text-align: right;\">\n",
              "      <th></th>\n",
              "      <th>employment</th>\n",
              "      <th>schedule</th>\n",
              "      <th>count</th>\n",
              "    </tr>\n",
              "  </thead>\n",
              "  <tbody>\n",
              "    <tr>\n",
              "      <th>0</th>\n",
              "      <td>Полная занятость</td>\n",
              "      <td>Удаленная работа</td>\n",
              "      <td>7802</td>\n",
              "    </tr>\n",
              "    <tr>\n",
              "      <th>1</th>\n",
              "      <td>Частичная занятость</td>\n",
              "      <td>Удаленная работа</td>\n",
              "      <td>1312</td>\n",
              "    </tr>\n",
              "    <tr>\n",
              "      <th>2</th>\n",
              "      <td>Проектная работа</td>\n",
              "      <td>Удаленная работа</td>\n",
              "      <td>133</td>\n",
              "    </tr>\n",
              "    <tr>\n",
              "      <th>3</th>\n",
              "      <td>Стажировка</td>\n",
              "      <td>Удаленная работа</td>\n",
              "      <td>64</td>\n",
              "    </tr>\n",
              "  </tbody>\n",
              "</table>\n",
              "</div>"
            ],
            "text/plain": [
              "            employment          schedule  count\n",
              "0     Полная занятость  Удаленная работа   7802\n",
              "1  Частичная занятость  Удаленная работа   1312\n",
              "2     Проектная работа  Удаленная работа    133\n",
              "3           Стажировка  Удаленная работа     64"
            ]
          },
          "execution_count": 98,
          "metadata": {},
          "output_type": "execute_result"
        }
      ],
      "source": [
        "query = f''' select distinct\n",
        "           v.employment, v.schedule, count(*)\n",
        "           from VACANCIES v\n",
        "         where v.schedule='Удаленная работа'\n",
        "        group by  v.employment, v.schedule\n",
        "        order by 3 desc\n",
        "        limit 10'''\n",
        "df = pd.read_sql_query(query, connection)\n",
        "df  "
      ]
    },
    {
      "cell_type": "markdown",
      "id": "2b20f35b",
      "metadata": {},
      "source": [
        "Посмотрим количество вакансий в разрезе графиков работы, выведем в порядке убывания"
      ]
    },
    {
      "cell_type": "code",
      "execution_count": 99,
      "id": "279a7040",
      "metadata": {},
      "outputs": [
        {
          "name": "stderr",
          "output_type": "stream",
          "text": [
            "C:\\Users\\Семья\\AppData\\Local\\Temp\\ipykernel_8136\\3451956368.py:15: UserWarning: pandas only supports SQLAlchemy connectable (engine/connection) or database string URI or sqlite3 DBAPI2 connection. Other DBAPI2 objects are not tested. Please consider using SQLAlchemy.\n",
            "  df = pd.read_sql_query(query, connection)\n"
          ]
        },
        {
          "data": {
            "text/html": [
              "<div>\n",
              "<style scoped>\n",
              "    .dataframe tbody tr th:only-of-type {\n",
              "        vertical-align: middle;\n",
              "    }\n",
              "\n",
              "    .dataframe tbody tr th {\n",
              "        vertical-align: top;\n",
              "    }\n",
              "\n",
              "    .dataframe thead th {\n",
              "        text-align: right;\n",
              "    }\n",
              "</style>\n",
              "<table border=\"1\" class=\"dataframe\">\n",
              "  <thead>\n",
              "    <tr style=\"text-align: right;\">\n",
              "      <th></th>\n",
              "      <th>employment</th>\n",
              "      <th>schedule</th>\n",
              "      <th>количество</th>\n",
              "    </tr>\n",
              "  </thead>\n",
              "  <tbody>\n",
              "    <tr>\n",
              "      <th>0</th>\n",
              "      <td>всего с графиком:</td>\n",
              "      <td>Полный день</td>\n",
              "      <td>36424.0</td>\n",
              "    </tr>\n",
              "    <tr>\n",
              "      <th>1</th>\n",
              "      <td>всего с графиком:</td>\n",
              "      <td>Удаленная работа</td>\n",
              "      <td>9311.0</td>\n",
              "    </tr>\n",
              "    <tr>\n",
              "      <th>2</th>\n",
              "      <td>всего с графиком:</td>\n",
              "      <td>Гибкий график</td>\n",
              "      <td>2039.0</td>\n",
              "    </tr>\n",
              "    <tr>\n",
              "      <th>3</th>\n",
              "      <td>всего с графиком:</td>\n",
              "      <td>Сменный график</td>\n",
              "      <td>1054.0</td>\n",
              "    </tr>\n",
              "    <tr>\n",
              "      <th>4</th>\n",
              "      <td>всего с графиком:</td>\n",
              "      <td>Вахтовый метод</td>\n",
              "      <td>369.0</td>\n",
              "    </tr>\n",
              "  </tbody>\n",
              "</table>\n",
              "</div>"
            ],
            "text/plain": [
              "          employment           schedule  количество\n",
              "0  всего с графиком:        Полный день     36424.0\n",
              "1  всего с графиком:   Удаленная работа      9311.0\n",
              "2  всего с графиком:      Гибкий график      2039.0\n",
              "3  всего с графиком:     Сменный график      1054.0\n",
              "4  всего с графиком:     Вахтовый метод       369.0"
            ]
          },
          "execution_count": 99,
          "metadata": {},
          "output_type": "execute_result"
        }
      ],
      "source": [
        "query = f''' with x as(\n",
        "        select distinct\n",
        "           v.employment, v.schedule, count(*) количество\n",
        "           from VACANCIES v\n",
        "        group by  v.employment, v.schedule\n",
        "        order by 3 desc)\n",
        "        select *\n",
        "        from x\n",
        "    union all\n",
        "    select 'всего с графиком:', ' '||x.schedule||'', sum(x.количество) \n",
        "    from x\n",
        "    group by x.schedule\n",
        "    order by 1,3 desc\n",
        "    limit 5'''\n",
        "df = pd.read_sql_query(query, connection)\n",
        "df  "
      ]
    },
    {
      "cell_type": "markdown",
      "id": "0136ffee-0ead-4a6b-b608-61d1c753a438",
      "metadata": {
        "id": "0136ffee-0ead-4a6b-b608-61d1c753a438"
      },
      "source": [
        "5. Напишите запрос, выводящий значения поля Требуемый опыт работы (experience) в порядке возрастания количества вакансий, в которых указан данный вариант опыта. "
      ]
    },
    {
      "cell_type": "code",
      "execution_count": 100,
      "id": "5b3a8e79-f7ab-4008-b767-12aea3a205ea",
      "metadata": {
        "id": "5b3a8e79-f7ab-4008-b767-12aea3a205ea"
      },
      "outputs": [
        {
          "name": "stderr",
          "output_type": "stream",
          "text": [
            "C:\\Users\\Семья\\AppData\\Local\\Temp\\ipykernel_8136\\2051486988.py:5: UserWarning: pandas only supports SQLAlchemy connectable (engine/connection) or database string URI or sqlite3 DBAPI2 connection. Other DBAPI2 objects are not tested. Please consider using SQLAlchemy.\n",
            "  df = pd.read_sql_query(query, connection)\n"
          ]
        },
        {
          "data": {
            "text/html": [
              "<div>\n",
              "<style scoped>\n",
              "    .dataframe tbody tr th:only-of-type {\n",
              "        vertical-align: middle;\n",
              "    }\n",
              "\n",
              "    .dataframe tbody tr th {\n",
              "        vertical-align: top;\n",
              "    }\n",
              "\n",
              "    .dataframe thead th {\n",
              "        text-align: right;\n",
              "    }\n",
              "</style>\n",
              "<table border=\"1\" class=\"dataframe\">\n",
              "  <thead>\n",
              "    <tr style=\"text-align: right;\">\n",
              "      <th></th>\n",
              "      <th>experience</th>\n",
              "      <th>count</th>\n",
              "    </tr>\n",
              "  </thead>\n",
              "  <tbody>\n",
              "    <tr>\n",
              "      <th>0</th>\n",
              "      <td>Более 6 лет</td>\n",
              "      <td>1337</td>\n",
              "    </tr>\n",
              "    <tr>\n",
              "      <th>1</th>\n",
              "      <td>Нет опыта</td>\n",
              "      <td>7197</td>\n",
              "    </tr>\n",
              "    <tr>\n",
              "      <th>2</th>\n",
              "      <td>От 3 до 6 лет</td>\n",
              "      <td>14511</td>\n",
              "    </tr>\n",
              "    <tr>\n",
              "      <th>3</th>\n",
              "      <td>От 1 года до 3 лет</td>\n",
              "      <td>26152</td>\n",
              "    </tr>\n",
              "  </tbody>\n",
              "</table>\n",
              "</div>"
            ],
            "text/plain": [
              "           experience  count\n",
              "0         Более 6 лет   1337\n",
              "1           Нет опыта   7197\n",
              "2       От 3 до 6 лет  14511\n",
              "3  От 1 года до 3 лет  26152"
            ]
          },
          "execution_count": 100,
          "metadata": {},
          "output_type": "execute_result"
        }
      ],
      "source": [
        "query = f''' select  v.experience, count(*) \n",
        "           from VACANCIES v\n",
        "           group by  v.experience\n",
        "           order by 2'''\n",
        "df = pd.read_sql_query(query, connection)\n",
        "df  "
      ]
    },
    {
      "cell_type": "markdown",
      "id": "oq2b7n1QpIka",
      "metadata": {
        "id": "oq2b7n1QpIka"
      },
      "source": [
        "***"
      ]
    },
    {
      "cell_type": "markdown",
      "id": "bbbe6e43",
      "metadata": {},
      "source": [
        "Вывод: Пятерка лмидеров регионов  по количеству вакансий: Москва, Санкт-Петербург, Минск, Новосибирск, Алматы. Однако, следует учитывать, что в базе есть регионы, которые не разместили не одной вакансии их 593. У вакансий со сменным графиком только 22 % без указания заработной платы. Как правило сменный график бывает на призводстве. Из 49197 вакансий 24073 вакансии с заполненной заработной платой, что составляет почти 50% (48.93%). \n",
        "Для соискателей на полный день из 36424 вакансий 52% без указанной заработной платы\n",
        "Для соискателей  на удаленную работу из 9311 вакансий 49% без указанной заработной платы\n",
        "Для соискателей с гибким графиком из 2039 вакансий 58% без указанной заработной платы\n",
        "Для соискателей на вахту из 369 вакансий 27% без указанной заработной платы\n",
        "Для соискателей со сменным графиком из 1054 вакансий 22% без указанной заработной платы\n",
        "Как правило работодатель не указывает уровень заработной платы, в случае открытия новой вакансии по новому направлению работы так как  еще сам не определился с суммой оплаты. \n",
        "Сотрудники со сменных графиком, чаще всего бывают, производственные рабочие, найти ожидаемую работу им проще (указан уровень ЗП работодателем). Проведя анализ вакансий со сменным графиком и с указанной ЗП выяснилось, что максимальная Зп предлагается разработчикам Питона, консультантам по сопровождению 1С и продавцу - консультанту мебели Panda Terra( на сайте  этой компании сегодня требуются производственные рабочие со средним заработком 55-60 тысяч рублей). Для более глубокого анализа в этом направлении можно посмотреть какие работодатели из каких регионов предлагают вакансии с максимальной заработной платой. И сделать выводы про регион. \n",
        "Лидеры по предлагаемой максимальной заработной плате Алматы, Москва, Сочи, Санкт-Петербург и аутсейдеры Челябинск, Воронеж, Смоленск, Уфа, но для окончательных выводов нужен более детальный анализ.\n",
        "Посмотрим среднюю максимальную заработную плату в этих городах не беря в расчет вакансии где поля минимальной и максимальной заработной платы не заполнены.\n",
        "средняя максимальная заработная плата:\n",
        " в Алматы 111835 рублей\n",
        " в Москве 169929 рубль\n",
        " в Сочи 152180 рублей\n",
        " в Санкт-Петербурге 141734 рублей\n",
        " В итоге средняя максимальная заработная плата в Алматы ниже Москвы, Сочи и Санкт-Петербурга, что подтверждает, что выводы по макс и минимуму делать не корректно, нужно более детально исследовать, смотреть среднюю, с учетом нулевых значений.\n",
        "\n",
        " Найдем среднюю заработную плату в вышеназванных городах:\n",
        "в Алматы 88738.0 рублей\n",
        " в Москве 138728.0 рубль\n",
        " в Сочи 122843 рублей\n",
        " в Санкт-Петербурге 115242.0 рублей \n",
        " Рейтинг средних заработных плат совпал со средними максимальными.\n",
        " Дополнительно исследовала среднюю заработную плату в своем городе Перми, она составила 106841.0, могу сказать по своему предприятию - у нас ниже даже нижней границы. Самая высокооплачиваемая в нашем городе вакансия Product manager LATOKEN\n",
        " При рассмотении пар тип графика и тип трудоустройсва на втором месте в списке  пара \"полная занятость-удаленная работа\", думаю до пандемии данное сочетание было значительно ниже в рейтинге.В существующей базе удаленая работа стоит в паре с полной занятостью, частичной занятостью, проектной работой и стажировкой. График с удаленной работой стоит на втором месте по количеству вакансий.\n",
        " Наиболее востребованным опытом работы является \"от года до трех лет\", уровень заработной платы у такой категории вакансий ниже, чем у вакансий  \"от 3 до 6 лет\" и \"более 6 лет\". Работодатели предпочитают взять на работу сотрудника с минимальным опытом, но в то же время имеющим навыки работы, чем обучать не опытного сотрудника или платить боле высокую заработную плату оытному."
      ]
    },
    {
      "cell_type": "markdown",
      "id": "7ea20ab6-04a7-40a0-adec-443a0e5a42c3",
      "metadata": {
        "id": "7ea20ab6-04a7-40a0-adec-443a0e5a42c3"
      },
      "source": [
        "# Юнит 5. Анализ работодателей"
      ]
    },
    {
      "cell_type": "markdown",
      "id": "968aed80-74ef-4ffb-b5bf-c65b84e9caea",
      "metadata": {
        "id": "968aed80-74ef-4ffb-b5bf-c65b84e9caea"
      },
      "source": [
        "1. Напишите запрос, который позволит узнать, какие работодатели находятся на первом и пятом месте по количеству вакансий."
      ]
    },
    {
      "cell_type": "code",
      "execution_count": 101,
      "id": "f2d62796-d400-4ec1-a675-88112739a50e",
      "metadata": {
        "id": "f2d62796-d400-4ec1-a675-88112739a50e"
      },
      "outputs": [
        {
          "name": "stderr",
          "output_type": "stream",
          "text": [
            "C:\\Users\\Семья\\AppData\\Local\\Temp\\ipykernel_8136\\2408315230.py:7: UserWarning: pandas only supports SQLAlchemy connectable (engine/connection) or database string URI or sqlite3 DBAPI2 connection. Other DBAPI2 objects are not tested. Please consider using SQLAlchemy.\n",
            "  df = pd.read_sql_query(query, connection)\n"
          ]
        },
        {
          "data": {
            "text/html": [
              "<div>\n",
              "<style scoped>\n",
              "    .dataframe tbody tr th:only-of-type {\n",
              "        vertical-align: middle;\n",
              "    }\n",
              "\n",
              "    .dataframe tbody tr th {\n",
              "        vertical-align: top;\n",
              "    }\n",
              "\n",
              "    .dataframe thead th {\n",
              "        text-align: right;\n",
              "    }\n",
              "</style>\n",
              "<table border=\"1\" class=\"dataframe\">\n",
              "  <thead>\n",
              "    <tr style=\"text-align: right;\">\n",
              "      <th></th>\n",
              "      <th>employer_id</th>\n",
              "      <th>количество_вакансий</th>\n",
              "      <th>name</th>\n",
              "    </tr>\n",
              "  </thead>\n",
              "  <tbody>\n",
              "    <tr>\n",
              "      <th>0</th>\n",
              "      <td>1740</td>\n",
              "      <td>1933</td>\n",
              "      <td>Яндекс</td>\n",
              "    </tr>\n",
              "    <tr>\n",
              "      <th>1</th>\n",
              "      <td>2748</td>\n",
              "      <td>491</td>\n",
              "      <td>Ростелеком</td>\n",
              "    </tr>\n",
              "    <tr>\n",
              "      <th>2</th>\n",
              "      <td>78638</td>\n",
              "      <td>444</td>\n",
              "      <td>Тинькофф</td>\n",
              "    </tr>\n",
              "    <tr>\n",
              "      <th>3</th>\n",
              "      <td>3529</td>\n",
              "      <td>428</td>\n",
              "      <td>СБЕР</td>\n",
              "    </tr>\n",
              "    <tr>\n",
              "      <th>4</th>\n",
              "      <td>39305</td>\n",
              "      <td>331</td>\n",
              "      <td>Газпром нефть</td>\n",
              "    </tr>\n",
              "  </tbody>\n",
              "</table>\n",
              "</div>"
            ],
            "text/plain": [
              "   employer_id  количество_вакансий           name\n",
              "0         1740                 1933         Яндекс\n",
              "1         2748                  491     Ростелеком\n",
              "2        78638                  444       Тинькофф\n",
              "3         3529                  428           СБЕР\n",
              "4        39305                  331  Газпром нефть"
            ]
          },
          "execution_count": 101,
          "metadata": {},
          "output_type": "execute_result"
        }
      ],
      "source": [
        "query = f''' select  v.employer_id, count(*) количество_вакансий, e.name\n",
        "           from VACANCIES v\n",
        "           join employers e on v.employer_id=e.id\n",
        "           group by v.employer_id, e.name\n",
        "           order by 2 desc\n",
        "           limit 5'''\n",
        "df = pd.read_sql_query(query, connection)\n",
        "df  # текст запроса"
      ]
    },
    {
      "cell_type": "markdown",
      "id": "2f12025f",
      "metadata": {},
      "source": [
        "Дополнительно запросим  сферы деятельности этих компаний."
      ]
    },
    {
      "cell_type": "code",
      "execution_count": 102,
      "id": "be7b29e4",
      "metadata": {},
      "outputs": [
        {
          "name": "stderr",
          "output_type": "stream",
          "text": [
            "C:\\Users\\Семья\\AppData\\Local\\Temp\\ipykernel_8136\\1725323962.py:10: UserWarning: pandas only supports SQLAlchemy connectable (engine/connection) or database string URI or sqlite3 DBAPI2 connection. Other DBAPI2 objects are not tested. Please consider using SQLAlchemy.\n",
            "  df = pd.read_sql_query(query, connection)\n"
          ]
        },
        {
          "data": {
            "text/html": [
              "<div>\n",
              "<style scoped>\n",
              "    .dataframe tbody tr th:only-of-type {\n",
              "        vertical-align: middle;\n",
              "    }\n",
              "\n",
              "    .dataframe tbody tr th {\n",
              "        vertical-align: top;\n",
              "    }\n",
              "\n",
              "    .dataframe thead th {\n",
              "        text-align: right;\n",
              "    }\n",
              "</style>\n",
              "<table border=\"1\" class=\"dataframe\">\n",
              "  <thead>\n",
              "    <tr style=\"text-align: right;\">\n",
              "      <th></th>\n",
              "      <th>employer_id</th>\n",
              "      <th>количество_вакансий</th>\n",
              "      <th>name</th>\n",
              "      <th>сфера_деятельности</th>\n",
              "    </tr>\n",
              "  </thead>\n",
              "  <tbody>\n",
              "    <tr>\n",
              "      <th>0</th>\n",
              "      <td>1740</td>\n",
              "      <td>1933</td>\n",
              "      <td>Яндекс</td>\n",
              "      <td>Интернет-компания (поисковики, платежные систе...</td>\n",
              "    </tr>\n",
              "    <tr>\n",
              "      <th>1</th>\n",
              "      <td>2748</td>\n",
              "      <td>491</td>\n",
              "      <td>Ростелеком</td>\n",
              "      <td>Интернет-провайдер</td>\n",
              "    </tr>\n",
              "    <tr>\n",
              "      <th>2</th>\n",
              "      <td>2748</td>\n",
              "      <td>491</td>\n",
              "      <td>Ростелеком</td>\n",
              "      <td>Фиксированная связь</td>\n",
              "    </tr>\n",
              "    <tr>\n",
              "      <th>3</th>\n",
              "      <td>2748</td>\n",
              "      <td>491</td>\n",
              "      <td>Ростелеком</td>\n",
              "      <td>Мобильная связь</td>\n",
              "    </tr>\n",
              "    <tr>\n",
              "      <th>4</th>\n",
              "      <td>2748</td>\n",
              "      <td>491</td>\n",
              "      <td>Ростелеком</td>\n",
              "      <td>Оптоволоконная связь</td>\n",
              "    </tr>\n",
              "    <tr>\n",
              "      <th>5</th>\n",
              "      <td>78638</td>\n",
              "      <td>444</td>\n",
              "      <td>Тинькофф</td>\n",
              "      <td>Коллекторская деятельность</td>\n",
              "    </tr>\n",
              "    <tr>\n",
              "      <th>6</th>\n",
              "      <td>78638</td>\n",
              "      <td>444</td>\n",
              "      <td>Тинькофф</td>\n",
              "      <td>Системная интеграция,  автоматизации технологи...</td>\n",
              "    </tr>\n",
              "    <tr>\n",
              "      <th>7</th>\n",
              "      <td>78638</td>\n",
              "      <td>444</td>\n",
              "      <td>Тинькофф</td>\n",
              "      <td>Банк</td>\n",
              "    </tr>\n",
              "    <tr>\n",
              "      <th>8</th>\n",
              "      <td>78638</td>\n",
              "      <td>444</td>\n",
              "      <td>Тинькофф</td>\n",
              "      <td>Разработка программного обеспечения</td>\n",
              "    </tr>\n",
              "    <tr>\n",
              "      <th>9</th>\n",
              "      <td>78638</td>\n",
              "      <td>444</td>\n",
              "      <td>Тинькофф</td>\n",
              "      <td>Интернет-компания (поисковики, платежные систе...</td>\n",
              "    </tr>\n",
              "    <tr>\n",
              "      <th>10</th>\n",
              "      <td>3529</td>\n",
              "      <td>428</td>\n",
              "      <td>СБЕР</td>\n",
              "      <td>Банк</td>\n",
              "    </tr>\n",
              "    <tr>\n",
              "      <th>11</th>\n",
              "      <td>39305</td>\n",
              "      <td>331</td>\n",
              "      <td>Газпром нефть</td>\n",
              "      <td>Нефтепереработка, нефтехимия (производство)</td>\n",
              "    </tr>\n",
              "    <tr>\n",
              "      <th>12</th>\n",
              "      <td>39305</td>\n",
              "      <td>331</td>\n",
              "      <td>Газпром нефть</td>\n",
              "      <td>ГСМ, топливо (продвижение, оптовая торговля)</td>\n",
              "    </tr>\n",
              "    <tr>\n",
              "      <th>13</th>\n",
              "      <td>39305</td>\n",
              "      <td>331</td>\n",
              "      <td>Газпром нефть</td>\n",
              "      <td>ГСМ, топливо (розничная торговля)</td>\n",
              "    </tr>\n",
              "  </tbody>\n",
              "</table>\n",
              "</div>"
            ],
            "text/plain": [
              "    employer_id  количество_вакансий           name   \n",
              "0          1740                 1933         Яндекс  \\\n",
              "1          2748                  491     Ростелеком   \n",
              "2          2748                  491     Ростелеком   \n",
              "3          2748                  491     Ростелеком   \n",
              "4          2748                  491     Ростелеком   \n",
              "5         78638                  444       Тинькофф   \n",
              "6         78638                  444       Тинькофф   \n",
              "7         78638                  444       Тинькофф   \n",
              "8         78638                  444       Тинькофф   \n",
              "9         78638                  444       Тинькофф   \n",
              "10         3529                  428           СБЕР   \n",
              "11        39305                  331  Газпром нефть   \n",
              "12        39305                  331  Газпром нефть   \n",
              "13        39305                  331  Газпром нефть   \n",
              "\n",
              "                                   сфера_деятельности  \n",
              "0   Интернет-компания (поисковики, платежные систе...  \n",
              "1                                  Интернет-провайдер  \n",
              "2                                 Фиксированная связь  \n",
              "3                                     Мобильная связь  \n",
              "4                                Оптоволоконная связь  \n",
              "5                          Коллекторская деятельность  \n",
              "6   Системная интеграция,  автоматизации технологи...  \n",
              "7                                                Банк  \n",
              "8                 Разработка программного обеспечения  \n",
              "9   Интернет-компания (поисковики, платежные систе...  \n",
              "10                                               Банк  \n",
              "11        Нефтепереработка, нефтехимия (производство)  \n",
              "12       ГСМ, топливо (продвижение, оптовая торговля)  \n",
              "13                  ГСМ, топливо (розничная торговля)  "
            ]
          },
          "execution_count": 102,
          "metadata": {},
          "output_type": "execute_result"
        }
      ],
      "source": [
        "query = f''' select \n",
        "v.employer_id, count(*) количество_вакансий, e.name, i.name сфера_деятельности\n",
        "from VACANCIES v\n",
        "join employers e on v.employer_id=e.id\n",
        "join employers_industries e_i on e.id=e_i.employer_id\n",
        "join industries i on i.id=e_i.industry_id\n",
        "group by v.employer_id, e.name, i.name\n",
        "order by 2 desc\n",
        "limit 14'''\n",
        "df = pd.read_sql_query(query, connection)\n",
        "df  "
      ]
    },
    {
      "cell_type": "markdown",
      "id": "68377cfc-b378-43dc-ab7d-1195abf2c515",
      "metadata": {
        "id": "68377cfc-b378-43dc-ab7d-1195abf2c515"
      },
      "source": [
        "2. Напишите запрос, который для каждого региона выведет количество работодателей и вакансий в нём.\n",
        "Среди регионов, в которых нет вакансий, найдите тот, в котором наибольшее количество работодателей.\n"
      ]
    },
    {
      "cell_type": "code",
      "execution_count": 103,
      "id": "dd7df27a-e3e8-412e-a21a-5d389b71e891",
      "metadata": {
        "id": "dd7df27a-e3e8-412e-a21a-5d389b71e891"
      },
      "outputs": [
        {
          "name": "stderr",
          "output_type": "stream",
          "text": [
            "C:\\Users\\Семья\\AppData\\Local\\Temp\\ipykernel_8136\\938725390.py:10: UserWarning: pandas only supports SQLAlchemy connectable (engine/connection) or database string URI or sqlite3 DBAPI2 connection. Other DBAPI2 objects are not tested. Please consider using SQLAlchemy.\n",
            "  df = pd.read_sql_query(query, connection)\n"
          ]
        },
        {
          "data": {
            "text/html": [
              "<div>\n",
              "<style scoped>\n",
              "    .dataframe tbody tr th:only-of-type {\n",
              "        vertical-align: middle;\n",
              "    }\n",
              "\n",
              "    .dataframe tbody tr th {\n",
              "        vertical-align: top;\n",
              "    }\n",
              "\n",
              "    .dataframe thead th {\n",
              "        text-align: right;\n",
              "    }\n",
              "</style>\n",
              "<table border=\"1\" class=\"dataframe\">\n",
              "  <thead>\n",
              "    <tr style=\"text-align: right;\">\n",
              "      <th></th>\n",
              "      <th>cnt_вакансии</th>\n",
              "      <th>cnt_работодателя</th>\n",
              "      <th>регион</th>\n",
              "    </tr>\n",
              "  </thead>\n",
              "  <tbody>\n",
              "    <tr>\n",
              "      <th>0</th>\n",
              "      <td>0</td>\n",
              "      <td>410</td>\n",
              "      <td>Россия</td>\n",
              "    </tr>\n",
              "    <tr>\n",
              "      <th>1</th>\n",
              "      <td>0</td>\n",
              "      <td>207</td>\n",
              "      <td>Казахстан</td>\n",
              "    </tr>\n",
              "    <tr>\n",
              "      <th>2</th>\n",
              "      <td>0</td>\n",
              "      <td>75</td>\n",
              "      <td>Московская область</td>\n",
              "    </tr>\n",
              "    <tr>\n",
              "      <th>3</th>\n",
              "      <td>0</td>\n",
              "      <td>19</td>\n",
              "      <td>Краснодарский край</td>\n",
              "    </tr>\n",
              "    <tr>\n",
              "      <th>4</th>\n",
              "      <td>0</td>\n",
              "      <td>18</td>\n",
              "      <td>Ростовская область</td>\n",
              "    </tr>\n",
              "    <tr>\n",
              "      <th>5</th>\n",
              "      <td>0</td>\n",
              "      <td>18</td>\n",
              "      <td>Беларусь</td>\n",
              "    </tr>\n",
              "    <tr>\n",
              "      <th>6</th>\n",
              "      <td>0</td>\n",
              "      <td>17</td>\n",
              "      <td>Азербайджан</td>\n",
              "    </tr>\n",
              "    <tr>\n",
              "      <th>7</th>\n",
              "      <td>0</td>\n",
              "      <td>16</td>\n",
              "      <td>Нижегородская область</td>\n",
              "    </tr>\n",
              "    <tr>\n",
              "      <th>8</th>\n",
              "      <td>0</td>\n",
              "      <td>16</td>\n",
              "      <td>Республика Татарстан</td>\n",
              "    </tr>\n",
              "    <tr>\n",
              "      <th>9</th>\n",
              "      <td>0</td>\n",
              "      <td>15</td>\n",
              "      <td>Узбекистан</td>\n",
              "    </tr>\n",
              "    <tr>\n",
              "      <th>10</th>\n",
              "      <td>0</td>\n",
              "      <td>10</td>\n",
              "      <td>Белгородская область</td>\n",
              "    </tr>\n",
              "    <tr>\n",
              "      <th>11</th>\n",
              "      <td>0</td>\n",
              "      <td>10</td>\n",
              "      <td>Сингапур</td>\n",
              "    </tr>\n",
              "    <tr>\n",
              "      <th>12</th>\n",
              "      <td>0</td>\n",
              "      <td>9</td>\n",
              "      <td>Калужская область</td>\n",
              "    </tr>\n",
              "    <tr>\n",
              "      <th>13</th>\n",
              "      <td>0</td>\n",
              "      <td>9</td>\n",
              "      <td>Ленинградская область</td>\n",
              "    </tr>\n",
              "    <tr>\n",
              "      <th>14</th>\n",
              "      <td>0</td>\n",
              "      <td>7</td>\n",
              "      <td>Воронежская область</td>\n",
              "    </tr>\n",
              "    <tr>\n",
              "      <th>15</th>\n",
              "      <td>0</td>\n",
              "      <td>7</td>\n",
              "      <td>Самарская область</td>\n",
              "    </tr>\n",
              "    <tr>\n",
              "      <th>16</th>\n",
              "      <td>0</td>\n",
              "      <td>6</td>\n",
              "      <td>Кировская область</td>\n",
              "    </tr>\n",
              "    <tr>\n",
              "      <th>17</th>\n",
              "      <td>0</td>\n",
              "      <td>6</td>\n",
              "      <td>Кыргызстан</td>\n",
              "    </tr>\n",
              "    <tr>\n",
              "      <th>18</th>\n",
              "      <td>0</td>\n",
              "      <td>6</td>\n",
              "      <td>Австралия</td>\n",
              "    </tr>\n",
              "    <tr>\n",
              "      <th>19</th>\n",
              "      <td>0</td>\n",
              "      <td>6</td>\n",
              "      <td>Ставропольский край</td>\n",
              "    </tr>\n",
              "  </tbody>\n",
              "</table>\n",
              "</div>"
            ],
            "text/plain": [
              "    cnt_вакансии  cnt_работодателя                 регион\n",
              "0              0               410                 Россия\n",
              "1              0               207              Казахстан\n",
              "2              0                75     Московская область\n",
              "3              0                19     Краснодарский край\n",
              "4              0                18     Ростовская область\n",
              "5              0                18               Беларусь\n",
              "6              0                17            Азербайджан\n",
              "7              0                16  Нижегородская область\n",
              "8              0                16   Республика Татарстан\n",
              "9              0                15             Узбекистан\n",
              "10             0                10   Белгородская область\n",
              "11             0                10               Сингапур\n",
              "12             0                 9      Калужская область\n",
              "13             0                 9  Ленинградская область\n",
              "14             0                 7    Воронежская область\n",
              "15             0                 7      Самарская область\n",
              "16             0                 6      Кировская область\n",
              "17             0                 6             Кыргызстан\n",
              "18             0                 6              Австралия\n",
              "19             0                 6    Ставропольский край"
            ]
          },
          "execution_count": 103,
          "metadata": {},
          "output_type": "execute_result"
        }
      ],
      "source": [
        "query = f''' select\n",
        "count(v.id) cnt_вакансии, count(e.id) cnt_работодателя, a.name регион\n",
        "from areas a\n",
        "left  join vacancies v on a.id=v.area_id\n",
        "left join employers e on a.id=e.area\n",
        "where v.id is null \n",
        "group by a.name\n",
        "order by 1,2 desc\n",
        "limit 20'''\n",
        "df = pd.read_sql_query(query, connection)\n",
        "df  # текст запроса"
      ]
    },
    {
      "cell_type": "markdown",
      "id": "321797a0",
      "metadata": {},
      "source": [
        "Найдем сколько всего работодателей не указали вакансии.\n"
      ]
    },
    {
      "cell_type": "code",
      "execution_count": 104,
      "id": "3940a382",
      "metadata": {},
      "outputs": [
        {
          "name": "stderr",
          "output_type": "stream",
          "text": [
            "C:\\Users\\Семья\\AppData\\Local\\Temp\\ipykernel_8136\\248209473.py:7: UserWarning: pandas only supports SQLAlchemy connectable (engine/connection) or database string URI or sqlite3 DBAPI2 connection. Other DBAPI2 objects are not tested. Please consider using SQLAlchemy.\n",
            "  df = pd.read_sql_query(query, connection)\n"
          ]
        },
        {
          "data": {
            "text/html": [
              "<div>\n",
              "<style scoped>\n",
              "    .dataframe tbody tr th:only-of-type {\n",
              "        vertical-align: middle;\n",
              "    }\n",
              "\n",
              "    .dataframe tbody tr th {\n",
              "        vertical-align: top;\n",
              "    }\n",
              "\n",
              "    .dataframe thead th {\n",
              "        text-align: right;\n",
              "    }\n",
              "</style>\n",
              "<table border=\"1\" class=\"dataframe\">\n",
              "  <thead>\n",
              "    <tr style=\"text-align: right;\">\n",
              "      <th></th>\n",
              "      <th>count</th>\n",
              "    </tr>\n",
              "  </thead>\n",
              "  <tbody>\n",
              "    <tr>\n",
              "      <th>0</th>\n",
              "      <td>1148</td>\n",
              "    </tr>\n",
              "  </tbody>\n",
              "</table>\n",
              "</div>"
            ],
            "text/plain": [
              "   count\n",
              "0   1148"
            ]
          },
          "execution_count": 104,
          "metadata": {},
          "output_type": "execute_result"
        }
      ],
      "source": [
        "query = f''' select\n",
        "count(e.id) \n",
        "from areas a\n",
        "left  join vacancies v on a.id=v.area_id\n",
        "left join employers e on a.id=e.area\n",
        "where v.id is null '''\n",
        "df = pd.read_sql_query(query, connection)\n",
        "df  "
      ]
    },
    {
      "cell_type": "markdown",
      "id": "f2fe0acb-ab1a-4e15-9326-2560e22d73c1",
      "metadata": {
        "id": "f2fe0acb-ab1a-4e15-9326-2560e22d73c1"
      },
      "source": [
        "3. Для каждого работодателя посчитайте количество регионов, в которых он публикует свои вакансии. Отсортируйте результат по убыванию количества.\n"
      ]
    },
    {
      "cell_type": "code",
      "execution_count": 105,
      "id": "6271f8ad-bd2e-4196-ae4a-5b39c4c1010e",
      "metadata": {
        "id": "6271f8ad-bd2e-4196-ae4a-5b39c4c1010e"
      },
      "outputs": [
        {
          "name": "stderr",
          "output_type": "stream",
          "text": [
            "C:\\Users\\Семья\\AppData\\Local\\Temp\\ipykernel_8136\\2141501062.py:9: UserWarning: pandas only supports SQLAlchemy connectable (engine/connection) or database string URI or sqlite3 DBAPI2 connection. Other DBAPI2 objects are not tested. Please consider using SQLAlchemy.\n",
            "  df = pd.read_sql_query(query, connection)\n"
          ]
        },
        {
          "data": {
            "text/html": [
              "<div>\n",
              "<style scoped>\n",
              "    .dataframe tbody tr th:only-of-type {\n",
              "        vertical-align: middle;\n",
              "    }\n",
              "\n",
              "    .dataframe tbody tr th {\n",
              "        vertical-align: top;\n",
              "    }\n",
              "\n",
              "    .dataframe thead th {\n",
              "        text-align: right;\n",
              "    }\n",
              "</style>\n",
              "<table border=\"1\" class=\"dataframe\">\n",
              "  <thead>\n",
              "    <tr style=\"text-align: right;\">\n",
              "      <th></th>\n",
              "      <th>count_id_региона_вакансии</th>\n",
              "      <th>работодатель</th>\n",
              "    </tr>\n",
              "  </thead>\n",
              "  <tbody>\n",
              "    <tr>\n",
              "      <th>0</th>\n",
              "      <td>181</td>\n",
              "      <td>Яндекс</td>\n",
              "    </tr>\n",
              "    <tr>\n",
              "      <th>1</th>\n",
              "      <td>152</td>\n",
              "      <td>Ростелеком</td>\n",
              "    </tr>\n",
              "    <tr>\n",
              "      <th>2</th>\n",
              "      <td>116</td>\n",
              "      <td>Спецремонт</td>\n",
              "    </tr>\n",
              "    <tr>\n",
              "      <th>3</th>\n",
              "      <td>88</td>\n",
              "      <td>Поляков Денис Иванович</td>\n",
              "    </tr>\n",
              "    <tr>\n",
              "      <th>4</th>\n",
              "      <td>71</td>\n",
              "      <td>ООО ЕФИН</td>\n",
              "    </tr>\n",
              "    <tr>\n",
              "      <th>5</th>\n",
              "      <td>63</td>\n",
              "      <td>Совкомбанк</td>\n",
              "    </tr>\n",
              "    <tr>\n",
              "      <th>6</th>\n",
              "      <td>55</td>\n",
              "      <td>МТС</td>\n",
              "    </tr>\n",
              "    <tr>\n",
              "      <th>7</th>\n",
              "      <td>49</td>\n",
              "      <td>ЭФКО, Управляющая компания</td>\n",
              "    </tr>\n",
              "    <tr>\n",
              "      <th>8</th>\n",
              "      <td>48</td>\n",
              "      <td>Почта России</td>\n",
              "    </tr>\n",
              "    <tr>\n",
              "      <th>9</th>\n",
              "      <td>48</td>\n",
              "      <td>КРОН</td>\n",
              "    </tr>\n",
              "    <tr>\n",
              "      <th>10</th>\n",
              "      <td>46</td>\n",
              "      <td>MCORE</td>\n",
              "    </tr>\n",
              "    <tr>\n",
              "      <th>11</th>\n",
              "      <td>46</td>\n",
              "      <td>ИК СИБИНТЕК</td>\n",
              "    </tr>\n",
              "    <tr>\n",
              "      <th>12</th>\n",
              "      <td>45</td>\n",
              "      <td>Сбербанк-Сервис</td>\n",
              "    </tr>\n",
              "    <tr>\n",
              "      <th>13</th>\n",
              "      <td>44</td>\n",
              "      <td>ANCOR</td>\n",
              "    </tr>\n",
              "    <tr>\n",
              "      <th>14</th>\n",
              "      <td>43</td>\n",
              "      <td>Тинькофф</td>\n",
              "    </tr>\n",
              "    <tr>\n",
              "      <th>15</th>\n",
              "      <td>43</td>\n",
              "      <td>Первый Бит</td>\n",
              "    </tr>\n",
              "    <tr>\n",
              "      <th>16</th>\n",
              "      <td>41</td>\n",
              "      <td>АЛНАС</td>\n",
              "    </tr>\n",
              "    <tr>\n",
              "      <th>17</th>\n",
              "      <td>36</td>\n",
              "      <td>IBS</td>\n",
              "    </tr>\n",
              "    <tr>\n",
              "      <th>18</th>\n",
              "      <td>36</td>\n",
              "      <td>Ozon</td>\n",
              "    </tr>\n",
              "    <tr>\n",
              "      <th>19</th>\n",
              "      <td>35</td>\n",
              "      <td>Авито</td>\n",
              "    </tr>\n",
              "  </tbody>\n",
              "</table>\n",
              "</div>"
            ],
            "text/plain": [
              "    count_id_региона_вакансии                работодатель\n",
              "0                         181                      Яндекс\n",
              "1                         152                  Ростелеком\n",
              "2                         116                  Спецремонт\n",
              "3                          88      Поляков Денис Иванович\n",
              "4                          71                   ООО ЕФИН \n",
              "5                          63                  Совкомбанк\n",
              "6                          55                         МТС\n",
              "7                          49  ЭФКО, Управляющая компания\n",
              "8                          48                Почта России\n",
              "9                          48                        КРОН\n",
              "10                         46                       MCORE\n",
              "11                         46                 ИК СИБИНТЕК\n",
              "12                         45             Сбербанк-Сервис\n",
              "13                         44                       ANCOR\n",
              "14                         43                    Тинькофф\n",
              "15                         43                  Первый Бит\n",
              "16                         41                       АЛНАС\n",
              "17                         36                         IBS\n",
              "18                         36                        Ozon\n",
              "19                         35                       Авито"
            ]
          },
          "execution_count": 105,
          "metadata": {},
          "output_type": "execute_result"
        }
      ],
      "source": [
        "query = f''' select\n",
        "count(distinct v.area_id) count_id_региона_вакансии,  e.name работодатель\n",
        "from vacancies v\n",
        "left join employers e on v.employer_id=e.id\n",
        "group by e.id, e.name\n",
        "order by 1 desc\n",
        "limit 20\n",
        "'''\n",
        "df = pd.read_sql_query(query, connection)\n",
        "df  "
      ]
    },
    {
      "cell_type": "markdown",
      "id": "5f000b0e",
      "metadata": {},
      "source": [
        "Запросим сферы деятельности этих компаний."
      ]
    },
    {
      "cell_type": "code",
      "execution_count": 106,
      "id": "8d9637e4",
      "metadata": {},
      "outputs": [
        {
          "name": "stderr",
          "output_type": "stream",
          "text": [
            "C:\\Users\\Семья\\AppData\\Local\\Temp\\ipykernel_8136\\4076114513.py:11: UserWarning: pandas only supports SQLAlchemy connectable (engine/connection) or database string URI or sqlite3 DBAPI2 connection. Other DBAPI2 objects are not tested. Please consider using SQLAlchemy.\n",
            "  df = pd.read_sql_query(query, connection)\n"
          ]
        },
        {
          "data": {
            "text/html": [
              "<div>\n",
              "<style scoped>\n",
              "    .dataframe tbody tr th:only-of-type {\n",
              "        vertical-align: middle;\n",
              "    }\n",
              "\n",
              "    .dataframe tbody tr th {\n",
              "        vertical-align: top;\n",
              "    }\n",
              "\n",
              "    .dataframe thead th {\n",
              "        text-align: right;\n",
              "    }\n",
              "</style>\n",
              "<table border=\"1\" class=\"dataframe\">\n",
              "  <thead>\n",
              "    <tr style=\"text-align: right;\">\n",
              "      <th></th>\n",
              "      <th>count_id_региона_вакансии</th>\n",
              "      <th>id_работодателя</th>\n",
              "      <th>работодатель</th>\n",
              "      <th>name</th>\n",
              "    </tr>\n",
              "  </thead>\n",
              "  <tbody>\n",
              "    <tr>\n",
              "      <th>0</th>\n",
              "      <td>181</td>\n",
              "      <td>1740</td>\n",
              "      <td>Яндекс</td>\n",
              "      <td>Интернет-компания (поисковики, платежные систе...</td>\n",
              "    </tr>\n",
              "    <tr>\n",
              "      <th>1</th>\n",
              "      <td>152</td>\n",
              "      <td>2748</td>\n",
              "      <td>Ростелеком</td>\n",
              "      <td>Мобильная связь</td>\n",
              "    </tr>\n",
              "    <tr>\n",
              "      <th>2</th>\n",
              "      <td>152</td>\n",
              "      <td>2748</td>\n",
              "      <td>Ростелеком</td>\n",
              "      <td>Оптоволоконная связь</td>\n",
              "    </tr>\n",
              "    <tr>\n",
              "      <th>3</th>\n",
              "      <td>152</td>\n",
              "      <td>2748</td>\n",
              "      <td>Ростелеком</td>\n",
              "      <td>Фиксированная связь</td>\n",
              "    </tr>\n",
              "    <tr>\n",
              "      <th>4</th>\n",
              "      <td>152</td>\n",
              "      <td>2748</td>\n",
              "      <td>Ростелеком</td>\n",
              "      <td>Интернет-провайдер</td>\n",
              "    </tr>\n",
              "    <tr>\n",
              "      <th>5</th>\n",
              "      <td>116</td>\n",
              "      <td>5724811</td>\n",
              "      <td>Спецремонт</td>\n",
              "      <td>None</td>\n",
              "    </tr>\n",
              "    <tr>\n",
              "      <th>6</th>\n",
              "      <td>88</td>\n",
              "      <td>5130287</td>\n",
              "      <td>Поляков Денис Иванович</td>\n",
              "      <td>None</td>\n",
              "    </tr>\n",
              "    <tr>\n",
              "      <th>7</th>\n",
              "      <td>71</td>\n",
              "      <td>3682876</td>\n",
              "      <td>ООО ЕФИН</td>\n",
              "      <td>None</td>\n",
              "    </tr>\n",
              "    <tr>\n",
              "      <th>8</th>\n",
              "      <td>63</td>\n",
              "      <td>7944</td>\n",
              "      <td>Совкомбанк</td>\n",
              "      <td>Банк</td>\n",
              "    </tr>\n",
              "    <tr>\n",
              "      <th>9</th>\n",
              "      <td>55</td>\n",
              "      <td>3776</td>\n",
              "      <td>МТС</td>\n",
              "      <td>Мобильная связь</td>\n",
              "    </tr>\n",
              "    <tr>\n",
              "      <th>10</th>\n",
              "      <td>49</td>\n",
              "      <td>53797</td>\n",
              "      <td>ЭФКО, Управляющая компания</td>\n",
              "      <td>Масложировая продукция (производство)</td>\n",
              "    </tr>\n",
              "    <tr>\n",
              "      <th>11</th>\n",
              "      <td>49</td>\n",
              "      <td>53797</td>\n",
              "      <td>ЭФКО, Управляющая компания</td>\n",
              "      <td>Масложировая продукция (продвижение, оптовая т...</td>\n",
              "    </tr>\n",
              "    <tr>\n",
              "      <th>12</th>\n",
              "      <td>49</td>\n",
              "      <td>53797</td>\n",
              "      <td>ЭФКО, Управляющая компания</td>\n",
              "      <td>Несетевая розница, мелкий опт</td>\n",
              "    </tr>\n",
              "    <tr>\n",
              "      <th>13</th>\n",
              "      <td>48</td>\n",
              "      <td>3776815</td>\n",
              "      <td>КРОН</td>\n",
              "      <td>Разработка программного обеспечения</td>\n",
              "    </tr>\n",
              "    <tr>\n",
              "      <th>14</th>\n",
              "      <td>48</td>\n",
              "      <td>4352</td>\n",
              "      <td>Почта России</td>\n",
              "      <td>Курьерская, почтовая доставка</td>\n",
              "    </tr>\n",
              "    <tr>\n",
              "      <th>15</th>\n",
              "      <td>48</td>\n",
              "      <td>3776815</td>\n",
              "      <td>КРОН</td>\n",
              "      <td>Системная интеграция,  автоматизации технологи...</td>\n",
              "    </tr>\n",
              "    <tr>\n",
              "      <th>16</th>\n",
              "      <td>46</td>\n",
              "      <td>197135</td>\n",
              "      <td>ИК СИБИНТЕК</td>\n",
              "      <td>Системная интеграция,  автоматизации технологи...</td>\n",
              "    </tr>\n",
              "    <tr>\n",
              "      <th>17</th>\n",
              "      <td>46</td>\n",
              "      <td>622121</td>\n",
              "      <td>MCORE</td>\n",
              "      <td>Системная интеграция,  автоматизации технологи...</td>\n",
              "    </tr>\n",
              "    <tr>\n",
              "      <th>18</th>\n",
              "      <td>45</td>\n",
              "      <td>1473866</td>\n",
              "      <td>Сбербанк-Сервис</td>\n",
              "      <td>Банк</td>\n",
              "    </tr>\n",
              "    <tr>\n",
              "      <th>19</th>\n",
              "      <td>45</td>\n",
              "      <td>1473866</td>\n",
              "      <td>Сбербанк-Сервис</td>\n",
              "      <td>Системная интеграция,  автоматизации технологи...</td>\n",
              "    </tr>\n",
              "  </tbody>\n",
              "</table>\n",
              "</div>"
            ],
            "text/plain": [
              "    count_id_региона_вакансии  id_работодателя                работодатель   \n",
              "0                         181             1740                      Яндекс  \\\n",
              "1                         152             2748                  Ростелеком   \n",
              "2                         152             2748                  Ростелеком   \n",
              "3                         152             2748                  Ростелеком   \n",
              "4                         152             2748                  Ростелеком   \n",
              "5                         116          5724811                  Спецремонт   \n",
              "6                          88          5130287      Поляков Денис Иванович   \n",
              "7                          71          3682876                   ООО ЕФИН    \n",
              "8                          63             7944                  Совкомбанк   \n",
              "9                          55             3776                         МТС   \n",
              "10                         49            53797  ЭФКО, Управляющая компания   \n",
              "11                         49            53797  ЭФКО, Управляющая компания   \n",
              "12                         49            53797  ЭФКО, Управляющая компания   \n",
              "13                         48          3776815                        КРОН   \n",
              "14                         48             4352                Почта России   \n",
              "15                         48          3776815                        КРОН   \n",
              "16                         46           197135                 ИК СИБИНТЕК   \n",
              "17                         46           622121                       MCORE   \n",
              "18                         45          1473866             Сбербанк-Сервис   \n",
              "19                         45          1473866             Сбербанк-Сервис   \n",
              "\n",
              "                                                 name  \n",
              "0   Интернет-компания (поисковики, платежные систе...  \n",
              "1                                     Мобильная связь  \n",
              "2                                Оптоволоконная связь  \n",
              "3                                 Фиксированная связь  \n",
              "4                                  Интернет-провайдер  \n",
              "5                                                None  \n",
              "6                                                None  \n",
              "7                                                None  \n",
              "8                                                Банк  \n",
              "9                                     Мобильная связь  \n",
              "10              Масложировая продукция (производство)  \n",
              "11  Масложировая продукция (продвижение, оптовая т...  \n",
              "12                      Несетевая розница, мелкий опт  \n",
              "13                Разработка программного обеспечения  \n",
              "14                      Курьерская, почтовая доставка  \n",
              "15  Системная интеграция,  автоматизации технологи...  \n",
              "16  Системная интеграция,  автоматизации технологи...  \n",
              "17  Системная интеграция,  автоматизации технологи...  \n",
              "18                                               Банк  \n",
              "19  Системная интеграция,  автоматизации технологи...  "
            ]
          },
          "execution_count": 106,
          "metadata": {},
          "output_type": "execute_result"
        }
      ],
      "source": [
        "query = f''' select\n",
        "count(distinct v.area_id) count_id_региона_вакансии, e.id id_работодателя, e.name работодатель, i.name \n",
        "from vacancies v\n",
        "left join employers e on v.employer_id=e.id\n",
        "left join employers_industries ei on e.id=ei.employer_id\n",
        "left join industries i on ei.industry_id=i.id\n",
        "group by e.id, e.name, i.name\n",
        "order by 1 desc\n",
        "limit 20 \n",
        "'''\n",
        "df = pd.read_sql_query(query, connection)\n",
        "df  "
      ]
    },
    {
      "cell_type": "markdown",
      "id": "eab2206d-d95b-468b-8e5f-34381abf0ce7",
      "metadata": {
        "id": "eab2206d-d95b-468b-8e5f-34381abf0ce7"
      },
      "source": [
        "4. Напишите запрос для подсчёта количества работодателей, у которых не указана сфера деятельности. "
      ]
    },
    {
      "cell_type": "code",
      "execution_count": 107,
      "id": "80defb23-bfb1-4a18-8be6-bf36aa7165d5",
      "metadata": {
        "id": "80defb23-bfb1-4a18-8be6-bf36aa7165d5"
      },
      "outputs": [
        {
          "name": "stderr",
          "output_type": "stream",
          "text": [
            "C:\\Users\\Семья\\AppData\\Local\\Temp\\ipykernel_8136\\1525474290.py:8: UserWarning: pandas only supports SQLAlchemy connectable (engine/connection) or database string URI or sqlite3 DBAPI2 connection. Other DBAPI2 objects are not tested. Please consider using SQLAlchemy.\n",
            "  df = pd.read_sql_query(query, connection)\n"
          ]
        },
        {
          "data": {
            "text/html": [
              "<div>\n",
              "<style scoped>\n",
              "    .dataframe tbody tr th:only-of-type {\n",
              "        vertical-align: middle;\n",
              "    }\n",
              "\n",
              "    .dataframe tbody tr th {\n",
              "        vertical-align: top;\n",
              "    }\n",
              "\n",
              "    .dataframe thead th {\n",
              "        text-align: right;\n",
              "    }\n",
              "</style>\n",
              "<table border=\"1\" class=\"dataframe\">\n",
              "  <thead>\n",
              "    <tr style=\"text-align: right;\">\n",
              "      <th></th>\n",
              "      <th>count_работодателей</th>\n",
              "    </tr>\n",
              "  </thead>\n",
              "  <tbody>\n",
              "    <tr>\n",
              "      <th>0</th>\n",
              "      <td>8419</td>\n",
              "    </tr>\n",
              "  </tbody>\n",
              "</table>\n",
              "</div>"
            ],
            "text/plain": [
              "   count_работодателей\n",
              "0                 8419"
            ]
          },
          "execution_count": 107,
          "metadata": {},
          "output_type": "execute_result"
        }
      ],
      "source": [
        "query = f''' select\n",
        "count(e.id) count_работодателей\n",
        "from employers e\n",
        "left join employers_industries ei on e.id=ei.employer_id \n",
        "where ei.industry_id is null\n",
        "\n",
        "'''\n",
        "df = pd.read_sql_query(query, connection)\n",
        "df  "
      ]
    },
    {
      "cell_type": "markdown",
      "id": "b256bd1c",
      "metadata": {},
      "source": [
        "Выведем самых крупных работодателей по количеству вакансий , которые не указали свою сферу деятельности."
      ]
    },
    {
      "cell_type": "code",
      "execution_count": 108,
      "id": "677a54b7",
      "metadata": {},
      "outputs": [
        {
          "name": "stderr",
          "output_type": "stream",
          "text": [
            "C:\\Users\\Семья\\AppData\\Local\\Temp\\ipykernel_8136\\2027715127.py:12: UserWarning: pandas only supports SQLAlchemy connectable (engine/connection) or database string URI or sqlite3 DBAPI2 connection. Other DBAPI2 objects are not tested. Please consider using SQLAlchemy.\n",
            "  df = pd.read_sql_query(query, connection)\n"
          ]
        },
        {
          "data": {
            "text/html": [
              "<div>\n",
              "<style scoped>\n",
              "    .dataframe tbody tr th:only-of-type {\n",
              "        vertical-align: middle;\n",
              "    }\n",
              "\n",
              "    .dataframe tbody tr th {\n",
              "        vertical-align: top;\n",
              "    }\n",
              "\n",
              "    .dataframe thead th {\n",
              "        text-align: right;\n",
              "    }\n",
              "</style>\n",
              "<table border=\"1\" class=\"dataframe\">\n",
              "  <thead>\n",
              "    <tr style=\"text-align: right;\">\n",
              "      <th></th>\n",
              "      <th>count_вакансии</th>\n",
              "      <th>id_работодателя</th>\n",
              "      <th>работодатель</th>\n",
              "      <th>сфера_деятельности</th>\n",
              "    </tr>\n",
              "  </thead>\n",
              "  <tbody>\n",
              "    <tr>\n",
              "      <th>0</th>\n",
              "      <td>151</td>\n",
              "      <td>5724811</td>\n",
              "      <td>Спецремонт</td>\n",
              "      <td>None</td>\n",
              "    </tr>\n",
              "    <tr>\n",
              "      <th>1</th>\n",
              "      <td>127</td>\n",
              "      <td>5130287</td>\n",
              "      <td>Поляков Денис Иванович</td>\n",
              "      <td>None</td>\n",
              "    </tr>\n",
              "    <tr>\n",
              "      <th>2</th>\n",
              "      <td>122</td>\n",
              "      <td>4649269</td>\n",
              "      <td>Иннотех, Группа компаний</td>\n",
              "      <td>None</td>\n",
              "    </tr>\n",
              "    <tr>\n",
              "      <th>3</th>\n",
              "      <td>72</td>\n",
              "      <td>5920492</td>\n",
              "      <td>DNS Головной офис</td>\n",
              "      <td>None</td>\n",
              "    </tr>\n",
              "    <tr>\n",
              "      <th>4</th>\n",
              "      <td>71</td>\n",
              "      <td>3682876</td>\n",
              "      <td>ООО ЕФИН</td>\n",
              "      <td>None</td>\n",
              "    </tr>\n",
              "    <tr>\n",
              "      <th>5</th>\n",
              "      <td>69</td>\n",
              "      <td>213349</td>\n",
              "      <td>АЛНАС</td>\n",
              "      <td>None</td>\n",
              "    </tr>\n",
              "    <tr>\n",
              "      <th>6</th>\n",
              "      <td>68</td>\n",
              "      <td>4914081</td>\n",
              "      <td>Диплей</td>\n",
              "      <td>None</td>\n",
              "    </tr>\n",
              "    <tr>\n",
              "      <th>7</th>\n",
              "      <td>54</td>\n",
              "      <td>4029257</td>\n",
              "      <td>РУСАЛ, Центр подбора персонала</td>\n",
              "      <td>None</td>\n",
              "    </tr>\n",
              "    <tr>\n",
              "      <th>8</th>\n",
              "      <td>47</td>\n",
              "      <td>5846248</td>\n",
              "      <td>Employcity</td>\n",
              "      <td>None</td>\n",
              "    </tr>\n",
              "    <tr>\n",
              "      <th>9</th>\n",
              "      <td>46</td>\n",
              "      <td>3144945</td>\n",
              "      <td>Ростелеком Информационные Технологии</td>\n",
              "      <td>None</td>\n",
              "    </tr>\n",
              "    <tr>\n",
              "      <th>10</th>\n",
              "      <td>44</td>\n",
              "      <td>5884778</td>\n",
              "      <td>Эр-1</td>\n",
              "      <td>None</td>\n",
              "    </tr>\n",
              "    <tr>\n",
              "      <th>11</th>\n",
              "      <td>42</td>\n",
              "      <td>4418001</td>\n",
              "      <td>АЛРОСА Информационные технологии</td>\n",
              "      <td>None</td>\n",
              "    </tr>\n",
              "    <tr>\n",
              "      <th>12</th>\n",
              "      <td>39</td>\n",
              "      <td>5912977</td>\n",
              "      <td>Кама</td>\n",
              "      <td>None</td>\n",
              "    </tr>\n",
              "    <tr>\n",
              "      <th>13</th>\n",
              "      <td>34</td>\n",
              "      <td>3635947</td>\n",
              "      <td>Pride Games Studio</td>\n",
              "      <td>None</td>\n",
              "    </tr>\n",
              "    <tr>\n",
              "      <th>14</th>\n",
              "      <td>34</td>\n",
              "      <td>1689259</td>\n",
              "      <td>JCat.ru</td>\n",
              "      <td>None</td>\n",
              "    </tr>\n",
              "    <tr>\n",
              "      <th>15</th>\n",
              "      <td>34</td>\n",
              "      <td>3890345</td>\n",
              "      <td>Reelmotion games</td>\n",
              "      <td>None</td>\n",
              "    </tr>\n",
              "    <tr>\n",
              "      <th>16</th>\n",
              "      <td>32</td>\n",
              "      <td>4446629</td>\n",
              "      <td>4people</td>\n",
              "      <td>None</td>\n",
              "    </tr>\n",
              "    <tr>\n",
              "      <th>17</th>\n",
              "      <td>30</td>\n",
              "      <td>6171199</td>\n",
              "      <td>A4.finance</td>\n",
              "      <td>None</td>\n",
              "    </tr>\n",
              "    <tr>\n",
              "      <th>18</th>\n",
              "      <td>30</td>\n",
              "      <td>3191643</td>\n",
              "      <td>ЦИФРА</td>\n",
              "      <td>None</td>\n",
              "    </tr>\n",
              "    <tr>\n",
              "      <th>19</th>\n",
              "      <td>29</td>\n",
              "      <td>909194</td>\n",
              "      <td>Нэти</td>\n",
              "      <td>None</td>\n",
              "    </tr>\n",
              "  </tbody>\n",
              "</table>\n",
              "</div>"
            ],
            "text/plain": [
              "    count_вакансии  id_работодателя                          работодатель   \n",
              "0              151          5724811                            Спецремонт  \\\n",
              "1              127          5130287                Поляков Денис Иванович   \n",
              "2              122          4649269              Иннотех, Группа компаний   \n",
              "3               72          5920492                     DNS Головной офис   \n",
              "4               71          3682876                             ООО ЕФИН    \n",
              "5               69           213349                                 АЛНАС   \n",
              "6               68          4914081                                Диплей   \n",
              "7               54          4029257        РУСАЛ, Центр подбора персонала   \n",
              "8               47          5846248                            Employcity   \n",
              "9               46          3144945  Ростелеком Информационные Технологии   \n",
              "10              44          5884778                                  Эр-1   \n",
              "11              42          4418001      АЛРОСА Информационные технологии   \n",
              "12              39          5912977                                  Кама   \n",
              "13              34          3635947                    Pride Games Studio   \n",
              "14              34          1689259                               JCat.ru   \n",
              "15              34          3890345                      Reelmotion games   \n",
              "16              32          4446629                               4people   \n",
              "17              30          6171199                            A4.finance   \n",
              "18              30          3191643                                 ЦИФРА   \n",
              "19              29           909194                                  Нэти   \n",
              "\n",
              "   сфера_деятельности  \n",
              "0                None  \n",
              "1                None  \n",
              "2                None  \n",
              "3                None  \n",
              "4                None  \n",
              "5                None  \n",
              "6                None  \n",
              "7                None  \n",
              "8                None  \n",
              "9                None  \n",
              "10               None  \n",
              "11               None  \n",
              "12               None  \n",
              "13               None  \n",
              "14               None  \n",
              "15               None  \n",
              "16               None  \n",
              "17               None  \n",
              "18               None  \n",
              "19               None  "
            ]
          },
          "execution_count": 108,
          "metadata": {},
          "output_type": "execute_result"
        }
      ],
      "source": [
        "query =  f''' select\n",
        "count(v.id) count_вакансии, e.id id_работодателя, e.name работодатель, i.name сфера_деятельности\n",
        "from vacancies v\n",
        "left join employers e on v.employer_id=e.id\n",
        "left join employers_industries ei on e.id=ei.employer_id\n",
        "left join industries i on ei.industry_id=i.id\n",
        "where i.id is null\n",
        "group by e.id, e.name, i.name\n",
        "order by 1 desc\n",
        "limit 20 \n",
        "'''\n",
        "df = pd.read_sql_query(query, connection)\n",
        "df  \n"
      ]
    },
    {
      "cell_type": "markdown",
      "id": "3cc89f6b",
      "metadata": {},
      "source": [
        "Найдем ТОП 5  регионов, где работодатели не указали сферу деятельности. "
      ]
    },
    {
      "cell_type": "code",
      "execution_count": 109,
      "id": "9e28a0b0",
      "metadata": {},
      "outputs": [
        {
          "name": "stderr",
          "output_type": "stream",
          "text": [
            "C:\\Users\\Семья\\AppData\\Local\\Temp\\ipykernel_8136\\2032792932.py:11: UserWarning: pandas only supports SQLAlchemy connectable (engine/connection) or database string URI or sqlite3 DBAPI2 connection. Other DBAPI2 objects are not tested. Please consider using SQLAlchemy.\n",
            "  df = pd.read_sql_query(query, connection)\n"
          ]
        },
        {
          "data": {
            "text/html": [
              "<div>\n",
              "<style scoped>\n",
              "    .dataframe tbody tr th:only-of-type {\n",
              "        vertical-align: middle;\n",
              "    }\n",
              "\n",
              "    .dataframe tbody tr th {\n",
              "        vertical-align: top;\n",
              "    }\n",
              "\n",
              "    .dataframe thead th {\n",
              "        text-align: right;\n",
              "    }\n",
              "</style>\n",
              "<table border=\"1\" class=\"dataframe\">\n",
              "  <thead>\n",
              "    <tr style=\"text-align: right;\">\n",
              "      <th></th>\n",
              "      <th>count_работодателей</th>\n",
              "      <th>area</th>\n",
              "      <th>name</th>\n",
              "    </tr>\n",
              "  </thead>\n",
              "  <tbody>\n",
              "    <tr>\n",
              "      <th>0</th>\n",
              "      <td>1997</td>\n",
              "      <td>1</td>\n",
              "      <td>Москва</td>\n",
              "    </tr>\n",
              "    <tr>\n",
              "      <th>1</th>\n",
              "      <td>714</td>\n",
              "      <td>2</td>\n",
              "      <td>Санкт-Петербург</td>\n",
              "    </tr>\n",
              "    <tr>\n",
              "      <th>2</th>\n",
              "      <td>254</td>\n",
              "      <td>1002</td>\n",
              "      <td>Минск</td>\n",
              "    </tr>\n",
              "    <tr>\n",
              "      <th>3</th>\n",
              "      <td>227</td>\n",
              "      <td>3</td>\n",
              "      <td>Екатеринбург</td>\n",
              "    </tr>\n",
              "    <tr>\n",
              "      <th>4</th>\n",
              "      <td>207</td>\n",
              "      <td>4</td>\n",
              "      <td>Новосибирск</td>\n",
              "    </tr>\n",
              "  </tbody>\n",
              "</table>\n",
              "</div>"
            ],
            "text/plain": [
              "   count_работодателей  area             name\n",
              "0                 1997     1           Москва\n",
              "1                  714     2  Санкт-Петербург\n",
              "2                  254  1002            Минск\n",
              "3                  227     3     Екатеринбург\n",
              "4                  207     4      Новосибирск"
            ]
          },
          "execution_count": 109,
          "metadata": {},
          "output_type": "execute_result"
        }
      ],
      "source": [
        "query = f''' select\n",
        "count(e.id) count_работодателей, e.area,a.name\n",
        "from employers e\n",
        "left join employers_industries ei on e.id=ei.employer_id \n",
        "join areas a on e.area=a.id\n",
        "where ei.industry_id is null\n",
        "group by e.area, a.name\n",
        "order by 1 desc\n",
        "limit 5\n",
        "'''\n",
        "df = pd.read_sql_query(query, connection)\n",
        "df  "
      ]
    },
    {
      "cell_type": "code",
      "execution_count": 43,
      "id": "Dp_yCx6ysQSu",
      "metadata": {
        "id": "Dp_yCx6ysQSu"
      },
      "outputs": [],
      "source": [
        "# результат запроса"
      ]
    },
    {
      "cell_type": "markdown",
      "id": "0112af31-f6b0-4e3b-82ab-71296e752e5e",
      "metadata": {
        "id": "0112af31-f6b0-4e3b-82ab-71296e752e5e"
      },
      "source": [
        "5. Напишите запрос, чтобы узнать название компании, находящейся на третьем месте в алфавитном списке (по названию) компаний, у которых указано четыре сферы деятельности. "
      ]
    },
    {
      "cell_type": "code",
      "execution_count": 110,
      "id": "973b0cfc-a972-470a-8b4a-68744ef220c4",
      "metadata": {
        "id": "973b0cfc-a972-470a-8b4a-68744ef220c4"
      },
      "outputs": [
        {
          "name": "stderr",
          "output_type": "stream",
          "text": [
            "C:\\Users\\Семья\\AppData\\Local\\Temp\\ipykernel_8136\\587608072.py:12: UserWarning: pandas only supports SQLAlchemy connectable (engine/connection) or database string URI or sqlite3 DBAPI2 connection. Other DBAPI2 objects are not tested. Please consider using SQLAlchemy.\n",
            "  df = pd.read_sql_query(query, connection)\n"
          ]
        },
        {
          "data": {
            "text/html": [
              "<div>\n",
              "<style scoped>\n",
              "    .dataframe tbody tr th:only-of-type {\n",
              "        vertical-align: middle;\n",
              "    }\n",
              "\n",
              "    .dataframe tbody tr th {\n",
              "        vertical-align: top;\n",
              "    }\n",
              "\n",
              "    .dataframe thead th {\n",
              "        text-align: right;\n",
              "    }\n",
              "</style>\n",
              "<table border=\"1\" class=\"dataframe\">\n",
              "  <thead>\n",
              "    <tr style=\"text-align: right;\">\n",
              "      <th></th>\n",
              "      <th>name_работодателя</th>\n",
              "    </tr>\n",
              "  </thead>\n",
              "  <tbody>\n",
              "    <tr>\n",
              "      <th>0</th>\n",
              "      <td>2ГИС</td>\n",
              "    </tr>\n",
              "  </tbody>\n",
              "</table>\n",
              "</div>"
            ],
            "text/plain": [
              "  name_работодателя\n",
              "0              2ГИС"
            ]
          },
          "execution_count": 110,
          "metadata": {},
          "output_type": "execute_result"
        }
      ],
      "source": [
        "query = f''' select\n",
        "e.name name_работодателя\n",
        "from employers e\n",
        "left join employers_industries ei on e.id=ei.employer_id \n",
        "group by e.id\n",
        "having count(ei.industry_id)=4\n",
        "order by 1\n",
        "limit 1 offset 2\n",
        "\n",
        "\n",
        "'''\n",
        "df = pd.read_sql_query(query, connection)\n",
        "df  "
      ]
    },
    {
      "cell_type": "markdown",
      "id": "ae9e2afd",
      "metadata": {},
      "source": [
        "Исследуем какое найбольшее количество сфер деятельности указывают комапнии."
      ]
    },
    {
      "cell_type": "code",
      "execution_count": 111,
      "id": "1e410090",
      "metadata": {},
      "outputs": [
        {
          "name": "stderr",
          "output_type": "stream",
          "text": [
            "C:\\Users\\Семья\\AppData\\Local\\Temp\\ipykernel_8136\\2903682045.py:8: UserWarning: pandas only supports SQLAlchemy connectable (engine/connection) or database string URI or sqlite3 DBAPI2 connection. Other DBAPI2 objects are not tested. Please consider using SQLAlchemy.\n",
            "  df = pd.read_sql_query(query, connection)\n"
          ]
        },
        {
          "data": {
            "text/html": [
              "<div>\n",
              "<style scoped>\n",
              "    .dataframe tbody tr th:only-of-type {\n",
              "        vertical-align: middle;\n",
              "    }\n",
              "\n",
              "    .dataframe tbody tr th {\n",
              "        vertical-align: top;\n",
              "    }\n",
              "\n",
              "    .dataframe thead th {\n",
              "        text-align: right;\n",
              "    }\n",
              "</style>\n",
              "<table border=\"1\" class=\"dataframe\">\n",
              "  <thead>\n",
              "    <tr style=\"text-align: right;\">\n",
              "      <th></th>\n",
              "      <th>количество_сфер_деятельности</th>\n",
              "      <th>name_работодателя</th>\n",
              "    </tr>\n",
              "  </thead>\n",
              "  <tbody>\n",
              "    <tr>\n",
              "      <th>0</th>\n",
              "      <td>5</td>\n",
              "      <td>Darkstudio</td>\n",
              "    </tr>\n",
              "    <tr>\n",
              "      <th>1</th>\n",
              "      <td>5</td>\n",
              "      <td>Флагман</td>\n",
              "    </tr>\n",
              "    <tr>\n",
              "      <th>2</th>\n",
              "      <td>5</td>\n",
              "      <td>АЗИЯТЕКС</td>\n",
              "    </tr>\n",
              "    <tr>\n",
              "      <th>3</th>\n",
              "      <td>5</td>\n",
              "      <td>Альфа Строй</td>\n",
              "    </tr>\n",
              "    <tr>\n",
              "      <th>4</th>\n",
              "      <td>5</td>\n",
              "      <td>ГК АСБ</td>\n",
              "    </tr>\n",
              "    <tr>\n",
              "      <th>5</th>\n",
              "      <td>5</td>\n",
              "      <td>ИСКТ</td>\n",
              "    </tr>\n",
              "    <tr>\n",
              "      <th>6</th>\n",
              "      <td>5</td>\n",
              "      <td>АМС-ЛОГИСТИК</td>\n",
              "    </tr>\n",
              "    <tr>\n",
              "      <th>7</th>\n",
              "      <td>5</td>\n",
              "      <td>Биоэкология</td>\n",
              "    </tr>\n",
              "    <tr>\n",
              "      <th>8</th>\n",
              "      <td>5</td>\n",
              "      <td>Сернурский сырзавод</td>\n",
              "    </tr>\n",
              "    <tr>\n",
              "      <th>9</th>\n",
              "      <td>5</td>\n",
              "      <td>ООО «Мицубиси Электрик (РУС)» / Mitsubishi Ele...</td>\n",
              "    </tr>\n",
              "  </tbody>\n",
              "</table>\n",
              "</div>"
            ],
            "text/plain": [
              "   количество_сфер_деятельности   \n",
              "0                             5  \\\n",
              "1                             5   \n",
              "2                             5   \n",
              "3                             5   \n",
              "4                             5   \n",
              "5                             5   \n",
              "6                             5   \n",
              "7                             5   \n",
              "8                             5   \n",
              "9                             5   \n",
              "\n",
              "                                   name_работодателя  \n",
              "0                                         Darkstudio  \n",
              "1                                            Флагман  \n",
              "2                                           АЗИЯТЕКС  \n",
              "3                                        Альфа Строй  \n",
              "4                                             ГК АСБ  \n",
              "5                                               ИСКТ  \n",
              "6                                       АМС-ЛОГИСТИК  \n",
              "7                                        Биоэкология  \n",
              "8                                Сернурский сырзавод  \n",
              "9  ООО «Мицубиси Электрик (РУС)» / Mitsubishi Ele...  "
            ]
          },
          "execution_count": 111,
          "metadata": {},
          "output_type": "execute_result"
        }
      ],
      "source": [
        "query = f''' select count(ei.industry_id) количество_сфер_деятельности , e.name name_работодателя\n",
        "from employers e\n",
        "left join employers_industries ei on e.id=ei.employer_id \n",
        "group by e.id\n",
        "order by 1 desc\n",
        "limit 10\n",
        "'''\n",
        "df = pd.read_sql_query(query, connection)\n",
        "df  "
      ]
    },
    {
      "cell_type": "markdown",
      "id": "281ef6bf",
      "metadata": {},
      "source": [
        "Посмотрим сколько сфер деятельности указывают компании с самым большим количеством вакансий ."
      ]
    },
    {
      "cell_type": "code",
      "execution_count": 112,
      "id": "378b8537",
      "metadata": {},
      "outputs": [
        {
          "name": "stderr",
          "output_type": "stream",
          "text": [
            "C:\\Users\\Семья\\AppData\\Local\\Temp\\ipykernel_8136\\4053356870.py:16: UserWarning: pandas only supports SQLAlchemy connectable (engine/connection) or database string URI or sqlite3 DBAPI2 connection. Other DBAPI2 objects are not tested. Please consider using SQLAlchemy.\n",
            "  df = pd.read_sql_query(query, connection)\n"
          ]
        },
        {
          "data": {
            "text/html": [
              "<div>\n",
              "<style scoped>\n",
              "    .dataframe tbody tr th:only-of-type {\n",
              "        vertical-align: middle;\n",
              "    }\n",
              "\n",
              "    .dataframe tbody tr th {\n",
              "        vertical-align: top;\n",
              "    }\n",
              "\n",
              "    .dataframe thead th {\n",
              "        text-align: right;\n",
              "    }\n",
              "</style>\n",
              "<table border=\"1\" class=\"dataframe\">\n",
              "  <thead>\n",
              "    <tr style=\"text-align: right;\">\n",
              "      <th></th>\n",
              "      <th>количество_сфер</th>\n",
              "      <th>name_работодателя</th>\n",
              "      <th>количество_вакансий</th>\n",
              "    </tr>\n",
              "  </thead>\n",
              "  <tbody>\n",
              "    <tr>\n",
              "      <th>0</th>\n",
              "      <td>1</td>\n",
              "      <td>Яндекс</td>\n",
              "      <td>1933</td>\n",
              "    </tr>\n",
              "    <tr>\n",
              "      <th>1</th>\n",
              "      <td>4</td>\n",
              "      <td>Ростелеком</td>\n",
              "      <td>491</td>\n",
              "    </tr>\n",
              "    <tr>\n",
              "      <th>2</th>\n",
              "      <td>5</td>\n",
              "      <td>Тинькофф</td>\n",
              "      <td>444</td>\n",
              "    </tr>\n",
              "    <tr>\n",
              "      <th>3</th>\n",
              "      <td>1</td>\n",
              "      <td>СБЕР</td>\n",
              "      <td>428</td>\n",
              "    </tr>\n",
              "    <tr>\n",
              "      <th>4</th>\n",
              "      <td>3</td>\n",
              "      <td>Газпром нефть</td>\n",
              "      <td>331</td>\n",
              "    </tr>\n",
              "    <tr>\n",
              "      <th>5</th>\n",
              "      <td>1</td>\n",
              "      <td>ИК СИБИНТЕК</td>\n",
              "      <td>327</td>\n",
              "    </tr>\n",
              "    <tr>\n",
              "      <th>6</th>\n",
              "      <td>1</td>\n",
              "      <td>МТС</td>\n",
              "      <td>292</td>\n",
              "    </tr>\n",
              "    <tr>\n",
              "      <th>7</th>\n",
              "      <td>2</td>\n",
              "      <td>DataArt</td>\n",
              "      <td>247</td>\n",
              "    </tr>\n",
              "    <tr>\n",
              "      <th>8</th>\n",
              "      <td>1</td>\n",
              "      <td>Совкомбанк Технологии</td>\n",
              "      <td>204</td>\n",
              "    </tr>\n",
              "    <tr>\n",
              "      <th>9</th>\n",
              "      <td>1</td>\n",
              "      <td>Первый Бит</td>\n",
              "      <td>176</td>\n",
              "    </tr>\n",
              "  </tbody>\n",
              "</table>\n",
              "</div>"
            ],
            "text/plain": [
              "   количество_сфер      name_работодателя  количество_вакансий\n",
              "0                1                 Яндекс                 1933\n",
              "1                4             Ростелеком                  491\n",
              "2                5               Тинькофф                  444\n",
              "3                1                   СБЕР                  428\n",
              "4                3          Газпром нефть                  331\n",
              "5                1            ИК СИБИНТЕК                  327\n",
              "6                1                    МТС                  292\n",
              "7                2                DataArt                  247\n",
              "8                1  Совкомбанк Технологии                  204\n",
              "9                1             Первый Бит                  176"
            ]
          },
          "execution_count": 112,
          "metadata": {},
          "output_type": "execute_result"
        }
      ],
      "source": [
        "query = f''' with  x as (\n",
        "select count(ei.industry_id) количество_сфер, e.name name_работодателя, e.id id_работодателя\n",
        "from employers e\n",
        "left join employers_industries ei on e.id=ei.employer_id \n",
        "group by e.name, e.id\n",
        "order by 1 desc)\n",
        "select\n",
        "x.количество_сфер,x.name_работодателя,count(v.id) количество_вакансий\n",
        "from x\n",
        "left join VACANCIES v on v.employer_id=x.id_работодателя\n",
        "group by x.id_работодателя, x.количество_сфер,x.name_работодателя\n",
        "order by 3 desc\n",
        "limit 10\n",
        "\n",
        "'''\n",
        "df = pd.read_sql_query(query, connection)\n",
        "df  "
      ]
    },
    {
      "cell_type": "markdown",
      "id": "3bfcfdaf-755d-4d2b-8ed8-326201dc07ab",
      "metadata": {
        "id": "3bfcfdaf-755d-4d2b-8ed8-326201dc07ab"
      },
      "source": [
        "6. С помощью запроса выясните, у какого количества работодателей в качестве сферы деятельности указана Разработка программного обеспечения.\n"
      ]
    },
    {
      "cell_type": "code",
      "execution_count": 113,
      "id": "ad3f270f-2991-47eb-929b-e8f88a55b0d1",
      "metadata": {
        "id": "ad3f270f-2991-47eb-929b-e8f88a55b0d1"
      },
      "outputs": [
        {
          "name": "stderr",
          "output_type": "stream",
          "text": [
            "C:\\Users\\Семья\\AppData\\Local\\Temp\\ipykernel_8136\\1287327641.py:7: UserWarning: pandas only supports SQLAlchemy connectable (engine/connection) or database string URI or sqlite3 DBAPI2 connection. Other DBAPI2 objects are not tested. Please consider using SQLAlchemy.\n",
            "  df = pd.read_sql_query(query, connection)\n"
          ]
        },
        {
          "data": {
            "text/html": [
              "<div>\n",
              "<style scoped>\n",
              "    .dataframe tbody tr th:only-of-type {\n",
              "        vertical-align: middle;\n",
              "    }\n",
              "\n",
              "    .dataframe tbody tr th {\n",
              "        vertical-align: top;\n",
              "    }\n",
              "\n",
              "    .dataframe thead th {\n",
              "        text-align: right;\n",
              "    }\n",
              "</style>\n",
              "<table border=\"1\" class=\"dataframe\">\n",
              "  <thead>\n",
              "    <tr style=\"text-align: right;\">\n",
              "      <th></th>\n",
              "      <th>count</th>\n",
              "    </tr>\n",
              "  </thead>\n",
              "  <tbody>\n",
              "    <tr>\n",
              "      <th>0</th>\n",
              "      <td>3553</td>\n",
              "    </tr>\n",
              "  </tbody>\n",
              "</table>\n",
              "</div>"
            ],
            "text/plain": [
              "   count\n",
              "0   3553"
            ]
          },
          "execution_count": 113,
          "metadata": {},
          "output_type": "execute_result"
        }
      ],
      "source": [
        "query = f''' select\n",
        " count(ei.employer_id) \n",
        "from employers_industries ei\n",
        "join industries  ind on ind.id=ei.industry_id\n",
        "where ind.name like  '%Разработка программного обеспечения%'\n",
        "'''\n",
        "df = pd.read_sql_query(query, connection)\n",
        "df  "
      ]
    },
    {
      "cell_type": "markdown",
      "id": "f768c6c6",
      "metadata": {},
      "source": [
        "Посмотрим рейтинг по убыванию сфер деятельности компании."
      ]
    },
    {
      "cell_type": "code",
      "execution_count": 114,
      "id": "dd799757",
      "metadata": {},
      "outputs": [
        {
          "name": "stderr",
          "output_type": "stream",
          "text": [
            "C:\\Users\\Семья\\AppData\\Local\\Temp\\ipykernel_8136\\664513844.py:8: UserWarning: pandas only supports SQLAlchemy connectable (engine/connection) or database string URI or sqlite3 DBAPI2 connection. Other DBAPI2 objects are not tested. Please consider using SQLAlchemy.\n",
            "  df = pd.read_sql_query(query, connection)\n"
          ]
        },
        {
          "data": {
            "text/html": [
              "<div>\n",
              "<style scoped>\n",
              "    .dataframe tbody tr th:only-of-type {\n",
              "        vertical-align: middle;\n",
              "    }\n",
              "\n",
              "    .dataframe tbody tr th {\n",
              "        vertical-align: top;\n",
              "    }\n",
              "\n",
              "    .dataframe thead th {\n",
              "        text-align: right;\n",
              "    }\n",
              "</style>\n",
              "<table border=\"1\" class=\"dataframe\">\n",
              "  <thead>\n",
              "    <tr style=\"text-align: right;\">\n",
              "      <th></th>\n",
              "      <th>count</th>\n",
              "      <th>сфера_деятельности</th>\n",
              "    </tr>\n",
              "  </thead>\n",
              "  <tbody>\n",
              "    <tr>\n",
              "      <th>0</th>\n",
              "      <td>3553</td>\n",
              "      <td>Разработка программного обеспечения</td>\n",
              "    </tr>\n",
              "    <tr>\n",
              "      <th>1</th>\n",
              "      <td>2993</td>\n",
              "      <td>Системная интеграция,  автоматизации технологи...</td>\n",
              "    </tr>\n",
              "    <tr>\n",
              "      <th>2</th>\n",
              "      <td>1675</td>\n",
              "      <td>Интернет-компания (поисковики, платежные систе...</td>\n",
              "    </tr>\n",
              "    <tr>\n",
              "      <th>3</th>\n",
              "      <td>798</td>\n",
              "      <td>Маркетинговые, рекламные, BTL, дизайнерские, E...</td>\n",
              "    </tr>\n",
              "    <tr>\n",
              "      <th>4</th>\n",
              "      <td>662</td>\n",
              "      <td>Консалтинговые услуги</td>\n",
              "    </tr>\n",
              "    <tr>\n",
              "      <th>...</th>\n",
              "      <td>...</td>\n",
              "      <td>...</td>\n",
              "    </tr>\n",
              "    <tr>\n",
              "      <th>289</th>\n",
              "      <td>4</td>\n",
              "      <td>Лифтовое хозяйство (монтаж, сервис, ремонт)</td>\n",
              "    </tr>\n",
              "    <tr>\n",
              "      <th>290</th>\n",
              "      <td>4</td>\n",
              "      <td>Ритуальные услуги</td>\n",
              "    </tr>\n",
              "    <tr>\n",
              "      <th>291</th>\n",
              "      <td>3</td>\n",
              "      <td>Ботанический сад, зоопарк, заповедник</td>\n",
              "    </tr>\n",
              "    <tr>\n",
              "      <th>292</th>\n",
              "      <td>3</td>\n",
              "      <td>Автошкола</td>\n",
              "    </tr>\n",
              "    <tr>\n",
              "      <th>293</th>\n",
              "      <td>1</td>\n",
              "      <td>Ассоциация в сфере культуры, искусства</td>\n",
              "    </tr>\n",
              "  </tbody>\n",
              "</table>\n",
              "<p>294 rows × 2 columns</p>\n",
              "</div>"
            ],
            "text/plain": [
              "     count                                 сфера_деятельности\n",
              "0     3553                Разработка программного обеспечения\n",
              "1     2993  Системная интеграция,  автоматизации технологи...\n",
              "2     1675  Интернет-компания (поисковики, платежные систе...\n",
              "3      798  Маркетинговые, рекламные, BTL, дизайнерские, E...\n",
              "4      662                              Консалтинговые услуги\n",
              "..     ...                                                ...\n",
              "289      4        Лифтовое хозяйство (монтаж, сервис, ремонт)\n",
              "290      4                                  Ритуальные услуги\n",
              "291      3              Ботанический сад, зоопарк, заповедник\n",
              "292      3                                          Автошкола\n",
              "293      1             Ассоциация в сфере культуры, искусства\n",
              "\n",
              "[294 rows x 2 columns]"
            ]
          },
          "execution_count": 114,
          "metadata": {},
          "output_type": "execute_result"
        }
      ],
      "source": [
        "query = f''' select\n",
        " count(ei.employer_id), ind.name  сфера_деятельности\n",
        "from employers_industries ei\n",
        "join industries  ind on ind.id=ei.industry_id\n",
        "group by ind.name\n",
        "order by 1 desc\n",
        "'''\n",
        "df = pd.read_sql_query(query, connection)\n",
        "df  "
      ]
    },
    {
      "cell_type": "markdown",
      "id": "7b02bb86-0546-40fb-94a4-242f050a5c57",
      "metadata": {
        "id": "7b02bb86-0546-40fb-94a4-242f050a5c57"
      },
      "source": [
        "7. Для компании «Яндекс» выведите список регионов-миллионников, в которых представлены вакансии компании, вместе с количеством вакансий в этих регионах. Также добавьте строку Total с общим количеством вакансий компании. Результат отсортируйте по возрастанию количества.\n",
        "\n",
        "Список городов-милионников надо взять [отсюда](https://ru.wikipedia.org/wiki/%D0%93%D0%BE%D1%80%D0%BE%D0%B4%D0%B0-%D0%BC%D0%B8%D0%BB%D0%BB%D0%B8%D0%BE%D0%BD%D0%B5%D1%80%D1%8B_%D0%A0%D0%BE%D1%81%D1%81%D0%B8%D0%B8). \n",
        "\n",
        "Если возникнут трудности с этим задание посмотрите материалы модуля  PYTHON-17. Как получать данные из веб-источников и API. "
      ]
    },
    {
      "cell_type": "code",
      "execution_count": 116,
      "id": "ZdfrL6gIs1Pn",
      "metadata": {
        "id": "ZdfrL6gIs1Pn"
      },
      "outputs": [
        {
          "data": {
            "text/plain": [
              "'https://ru.wikipedia.org/wiki/%D0%93%D0%BE%D1%80%D0%BE%D0%B4%D0%B0-%D0%BC%D0%B8%D0%BB%D0%BB%D0%B8%D0%BE%D0%BD%D0%B5%D1%80%D1%8B_%D0%A0%D0%BE%D1%81%D1%81%D0%B8%D0%B8#%D0%A1%D0%BF%D0%B8%D1%81%D0%BE%D0%BA_%D0%B3%D0%BE%D1%80%D0%BE%D0%B4%D0%BE%D0%B2-%D0%BC%D0%B8%D0%BB%D0%BB%D0%B8%D0%BE%D0%BD%D0%B5%D1%80%D0%BE%D0%B2'"
            ]
          },
          "execution_count": 116,
          "metadata": {},
          "output_type": "execute_result"
        }
      ],
      "source": [
        "\n",
        "import urllib.parse as req\n",
        "\n",
        "path_common = req.urlparse('https://ru.wikipedia.org/wiki/Города-миллионеры_России#Список_городов-миллионеров')\n",
        "url = path_common.scheme + '://' + req.quote(path_common.netloc) +  req.quote(path_common.path) + '#'+ req.quote(path_common.fragment)\n",
        "\n",
        "url"
      ]
    },
    {
      "cell_type": "code",
      "execution_count": 117,
      "id": "5a0e32a4-e68a-4365-8a39-2fe24c542c36",
      "metadata": {
        "id": "5a0e32a4-e68a-4365-8a39-2fe24c542c36"
      },
      "outputs": [
        {
          "data": {
            "text/plain": [
              "('Москва',\n",
              " 'Санкт-Петербург',\n",
              " 'Новосибирск',\n",
              " 'Екатеринбург',\n",
              " 'Казань',\n",
              " 'Нижний Новгород',\n",
              " 'Красноярск',\n",
              " 'Челябинск',\n",
              " 'Самара',\n",
              " 'Уфа',\n",
              " 'Ростов-на-Дону',\n",
              " 'Краснодар',\n",
              " 'Омск',\n",
              " 'Воронеж',\n",
              " 'Пермь',\n",
              " 'Волгоград')"
            ]
          },
          "execution_count": 117,
          "metadata": {},
          "output_type": "execute_result"
        }
      ],
      "source": [
        "import urllib.parse as req\n",
        "\n",
        "path_common = req.urlparse('https://ru.wikipedia.org/wiki/Города-миллионеры_России#Список_городов-миллионеров')\n",
        "url = path_common.scheme + '://' + req.quote(path_common.netloc) +  req.quote(path_common.path) + '#'+ req.quote(path_common.fragment)\n",
        "cities=tuple(pd.read_html(url)[1]['Город'])\n",
        "#cities = tuple(pd.read_html(url)[1]['Город'].items)\n",
        "#cities=', '.join(cities)\n",
        "cities"
      ]
    },
    {
      "cell_type": "code",
      "execution_count": 118,
      "id": "ttPhiO1rsvPq",
      "metadata": {
        "id": "ttPhiO1rsvPq"
      },
      "outputs": [
        {
          "name": "stderr",
          "output_type": "stream",
          "text": [
            "C:\\Users\\Семья\\AppData\\Local\\Temp\\ipykernel_8136\\1650217648.py:17: UserWarning: pandas only supports SQLAlchemy connectable (engine/connection) or database string URI or sqlite3 DBAPI2 connection. Other DBAPI2 objects are not tested. Please consider using SQLAlchemy.\n",
            "  df = pd.read_sql_query(query, connection)\n"
          ]
        },
        {
          "data": {
            "text/html": [
              "<div>\n",
              "<style scoped>\n",
              "    .dataframe tbody tr th:only-of-type {\n",
              "        vertical-align: middle;\n",
              "    }\n",
              "\n",
              "    .dataframe tbody tr th {\n",
              "        vertical-align: top;\n",
              "    }\n",
              "\n",
              "    .dataframe thead th {\n",
              "        text-align: right;\n",
              "    }\n",
              "</style>\n",
              "<table border=\"1\" class=\"dataframe\">\n",
              "  <thead>\n",
              "    <tr style=\"text-align: right;\">\n",
              "      <th></th>\n",
              "      <th>город</th>\n",
              "      <th>count_вакансий</th>\n",
              "    </tr>\n",
              "  </thead>\n",
              "  <tbody>\n",
              "    <tr>\n",
              "      <th>0</th>\n",
              "      <td>Волгоград</td>\n",
              "      <td>24.0</td>\n",
              "    </tr>\n",
              "    <tr>\n",
              "      <th>1</th>\n",
              "      <td>Воронеж</td>\n",
              "      <td>32.0</td>\n",
              "    </tr>\n",
              "    <tr>\n",
              "      <th>2</th>\n",
              "      <td>Екатеринбург</td>\n",
              "      <td>39.0</td>\n",
              "    </tr>\n",
              "    <tr>\n",
              "      <th>3</th>\n",
              "      <td>Казань</td>\n",
              "      <td>25.0</td>\n",
              "    </tr>\n",
              "    <tr>\n",
              "      <th>4</th>\n",
              "      <td>Краснодар</td>\n",
              "      <td>30.0</td>\n",
              "    </tr>\n",
              "    <tr>\n",
              "      <th>5</th>\n",
              "      <td>Красноярск</td>\n",
              "      <td>23.0</td>\n",
              "    </tr>\n",
              "    <tr>\n",
              "      <th>6</th>\n",
              "      <td>Москва</td>\n",
              "      <td>54.0</td>\n",
              "    </tr>\n",
              "    <tr>\n",
              "      <th>7</th>\n",
              "      <td>Нижний Новгород</td>\n",
              "      <td>36.0</td>\n",
              "    </tr>\n",
              "    <tr>\n",
              "      <th>8</th>\n",
              "      <td>Новосибирск</td>\n",
              "      <td>35.0</td>\n",
              "    </tr>\n",
              "    <tr>\n",
              "      <th>9</th>\n",
              "      <td>Омск</td>\n",
              "      <td>21.0</td>\n",
              "    </tr>\n",
              "    <tr>\n",
              "      <th>10</th>\n",
              "      <td>Пермь</td>\n",
              "      <td>25.0</td>\n",
              "    </tr>\n",
              "    <tr>\n",
              "      <th>11</th>\n",
              "      <td>Ростов-на-Дону</td>\n",
              "      <td>25.0</td>\n",
              "    </tr>\n",
              "    <tr>\n",
              "      <th>12</th>\n",
              "      <td>Самара</td>\n",
              "      <td>26.0</td>\n",
              "    </tr>\n",
              "    <tr>\n",
              "      <th>13</th>\n",
              "      <td>Санкт-Петербург</td>\n",
              "      <td>42.0</td>\n",
              "    </tr>\n",
              "    <tr>\n",
              "      <th>14</th>\n",
              "      <td>Уфа</td>\n",
              "      <td>26.0</td>\n",
              "    </tr>\n",
              "    <tr>\n",
              "      <th>15</th>\n",
              "      <td>Челябинск</td>\n",
              "      <td>22.0</td>\n",
              "    </tr>\n",
              "    <tr>\n",
              "      <th>16</th>\n",
              "      <td>total</td>\n",
              "      <td>485.0</td>\n",
              "    </tr>\n",
              "  </tbody>\n",
              "</table>\n",
              "</div>"
            ],
            "text/plain": [
              "              город  count_вакансий\n",
              "0         Волгоград            24.0\n",
              "1           Воронеж            32.0\n",
              "2      Екатеринбург            39.0\n",
              "3            Казань            25.0\n",
              "4         Краснодар            30.0\n",
              "5        Красноярск            23.0\n",
              "6            Москва            54.0\n",
              "7   Нижний Новгород            36.0\n",
              "8       Новосибирск            35.0\n",
              "9              Омск            21.0\n",
              "10            Пермь            25.0\n",
              "11   Ростов-на-Дону            25.0\n",
              "12           Самара            26.0\n",
              "13  Санкт-Петербург            42.0\n",
              "14              Уфа            26.0\n",
              "15        Челябинск            22.0\n",
              "16            total           485.0"
            ]
          },
          "execution_count": 118,
          "metadata": {},
          "output_type": "execute_result"
        }
      ],
      "source": [
        "query = f'''with x as( select\n",
        " a.name город, count(v.id) count_вакансий\n",
        "from employers e\n",
        "join vacancies v on e.id=v.employer_id\n",
        "join areas a on a.id=v.area_id\n",
        "where e.name ='Яндекс' and a.name in {cities}\n",
        "group by a.name\n",
        " )\n",
        "\n",
        "select *\n",
        "from x\n",
        "union all \n",
        "select\n",
        "'total', sum(x.count_вакансий)\n",
        "from x\n",
        "'''\n",
        "df = pd.read_sql_query(query, connection)\n",
        "df  "
      ]
    },
    {
      "cell_type": "markdown",
      "id": "04966e40-3bc3-4dc8-9ba2-e80580ce3abc",
      "metadata": {
        "id": "04966e40-3bc3-4dc8-9ba2-e80580ce3abc"
      },
      "source": [
        "***"
      ]
    },
    {
      "cell_type": "markdown",
      "id": "057fbe02",
      "metadata": {},
      "source": [
        "Выводы: Топ-5 работодателей: Яндекс, Ростелеком, Тинькофф, СБЕР,Газпром нефть. При рассмотрении сфер деятельности этих компаний, только Газпром нефть является энергетическим предприятием. Остальные компании из списка относятся к  интернет компаниям, финансовым компаниям, компаниям из сферы IT.  Хоть и все они предстаавляют разные отрасли, но являются ключевыми игроками на рынке и оказывают влияние на экономику России.\n",
        " Всего 1148 работодателей, имеющихся в базе, не указали вакансии. Например 410 работодателей в России не указали вакансии, это может говорить и о том, что эти работодатели уже нашли сотрудников как и то, что при заполнении анкеты не верно указали данные или приостановили деятельность.\n",
        "Больше всего регионов, в которых один работодатель ищет сотрудников, у компани Яндекс.  Они разместили вакансии в 181 городе. Дополнительно для анализа написала запрос выгружающий  сферу деятельности этих компаний. В основном это компании связи, но есть и те, что не указали сферу деятельности. \n",
        "Некоторые компании не указывают сферу деятельности из соображений конфиденциальности, по причине разработки нового продукта , который преждевременно афишировать.По причине  разнообразных сфер деятельности, по причине привлечения сотрудников из разных сфер, чтобы не ограничивать соискателей указанными сферами. Причины могут быть разные, вплоть до не желания заполнить это графу кадровым работником, подающим объявление.  \n",
        "8419 работодателей из базы   не указали сферу деятельности, топ 5  орегионов без сферы деятельности это : Москва, Санкт-Петербург, Минск, Екатеринбург и Новосибирск.\n",
        "Самое большое количество сфер деятельности указанное работодателями пять. Компания с самым большим количеством вакансий- Яндекс указала одну сферу деятельности, в то же время Ростелеком и Тинкоф указали по 4 и 5 сфер деятельности.\n",
        "Из 49197 вакансий процент сферы деятельности \"Разработка программного обеспечения\" составляет 7%, что является самым многочисленным, далее идут системная интеграция, автоматизации технологических и бизнес-процессов предприятия, ИТ., затем итнергет-компания и так далее. Преимущественное большинство компаний публикующее вакансии  из сферы ИТ. \n",
        "Самая крупная по размещению вакансий  компания Яндекс размещает 485 вакансий в городах миллионниках, всего компания размещает 1933 вакансии,остальные приходятся на города с населением меньше миллиона жителей. "
      ]
    },
    {
      "cell_type": "markdown",
      "id": "b1ef156a-efcb-49ce-bb23-90763e7f35b2",
      "metadata": {
        "id": "b1ef156a-efcb-49ce-bb23-90763e7f35b2",
        "tags": []
      },
      "source": [
        "# Юнит 6. Предметный анализ"
      ]
    },
    {
      "cell_type": "markdown",
      "id": "b9cd50a0-992d-4988-8463-2b2b1c4629b4",
      "metadata": {
        "id": "b9cd50a0-992d-4988-8463-2b2b1c4629b4"
      },
      "source": [
        "1. Сколько вакансий имеет отношение к данным?\n",
        "\n",
        "Считаем, что вакансия имеет отношение к данным, если в её названии содержатся слова 'data' или 'данн'.\n",
        "\n",
        "*Подсказка: Обратите внимание, что названия вакансий могут быть написаны в любом регистре.* \n"
      ]
    },
    {
      "cell_type": "code",
      "execution_count": 119,
      "id": "54ab0e50-c0f1-47cc-a54b-bc5c8bc363f9",
      "metadata": {
        "id": "54ab0e50-c0f1-47cc-a54b-bc5c8bc363f9"
      },
      "outputs": [
        {
          "name": "stderr",
          "output_type": "stream",
          "text": [
            "C:\\Users\\Семья\\AppData\\Local\\Temp\\ipykernel_8136\\1176517903.py:6: UserWarning: pandas only supports SQLAlchemy connectable (engine/connection) or database string URI or sqlite3 DBAPI2 connection. Other DBAPI2 objects are not tested. Please consider using SQLAlchemy.\n",
            "  df = pd.read_sql_query(query, connection)\n"
          ]
        },
        {
          "data": {
            "text/html": [
              "<div>\n",
              "<style scoped>\n",
              "    .dataframe tbody tr th:only-of-type {\n",
              "        vertical-align: middle;\n",
              "    }\n",
              "\n",
              "    .dataframe tbody tr th {\n",
              "        vertical-align: top;\n",
              "    }\n",
              "\n",
              "    .dataframe thead th {\n",
              "        text-align: right;\n",
              "    }\n",
              "</style>\n",
              "<table border=\"1\" class=\"dataframe\">\n",
              "  <thead>\n",
              "    <tr style=\"text-align: right;\">\n",
              "      <th></th>\n",
              "      <th>count</th>\n",
              "    </tr>\n",
              "  </thead>\n",
              "  <tbody>\n",
              "    <tr>\n",
              "      <th>0</th>\n",
              "      <td>1771</td>\n",
              "    </tr>\n",
              "  </tbody>\n",
              "</table>\n",
              "</div>"
            ],
            "text/plain": [
              "   count\n",
              "0   1771"
            ]
          },
          "execution_count": 119,
          "metadata": {},
          "output_type": "execute_result"
        }
      ],
      "source": [
        "query = f''' select\n",
        "count(*)\n",
        "from vacancies v\n",
        "where v.name ilike  '%data%' or v.name ilike '%данн%'\n",
        "'''\n",
        "df = pd.read_sql_query(query, connection)\n",
        "df  "
      ]
    },
    {
      "cell_type": "markdown",
      "id": "ebb07a96",
      "metadata": {},
      "source": [
        "Запросим количество вакансий относящиеся к продажам"
      ]
    },
    {
      "cell_type": "code",
      "execution_count": 125,
      "id": "bec7ba01",
      "metadata": {},
      "outputs": [
        {
          "name": "stderr",
          "output_type": "stream",
          "text": [
            "C:\\Users\\Семья\\AppData\\Local\\Temp\\ipykernel_8136\\789302597.py:6: UserWarning: pandas only supports SQLAlchemy connectable (engine/connection) or database string URI or sqlite3 DBAPI2 connection. Other DBAPI2 objects are not tested. Please consider using SQLAlchemy.\n",
            "  df = pd.read_sql_query(query, connection)\n"
          ]
        },
        {
          "data": {
            "text/html": [
              "<div>\n",
              "<style scoped>\n",
              "    .dataframe tbody tr th:only-of-type {\n",
              "        vertical-align: middle;\n",
              "    }\n",
              "\n",
              "    .dataframe tbody tr th {\n",
              "        vertical-align: top;\n",
              "    }\n",
              "\n",
              "    .dataframe thead th {\n",
              "        text-align: right;\n",
              "    }\n",
              "</style>\n",
              "<table border=\"1\" class=\"dataframe\">\n",
              "  <thead>\n",
              "    <tr style=\"text-align: right;\">\n",
              "      <th></th>\n",
              "      <th>count</th>\n",
              "    </tr>\n",
              "  </thead>\n",
              "  <tbody>\n",
              "    <tr>\n",
              "      <th>0</th>\n",
              "      <td>1231</td>\n",
              "    </tr>\n",
              "  </tbody>\n",
              "</table>\n",
              "</div>"
            ],
            "text/plain": [
              "   count\n",
              "0   1231"
            ]
          },
          "execution_count": 125,
          "metadata": {},
          "output_type": "execute_result"
        }
      ],
      "source": [
        "query = f''' select\n",
        "count(*)\n",
        "from vacancies v\n",
        "where (v.name ilike  '%прода%' or v.name ilike '%маркет%' or v.name ilike '%sale%')\n",
        "'''\n",
        "df = pd.read_sql_query(query, connection)\n",
        "df  "
      ]
    },
    {
      "cell_type": "markdown",
      "id": "a119d535",
      "metadata": {},
      "source": [
        "Запросим количество вакансий включающих юридическую работу."
      ]
    },
    {
      "cell_type": "code",
      "execution_count": 126,
      "id": "c5d924c3",
      "metadata": {},
      "outputs": [
        {
          "name": "stderr",
          "output_type": "stream",
          "text": [
            "C:\\Users\\Семья\\AppData\\Local\\Temp\\ipykernel_8136\\3860749594.py:6: UserWarning: pandas only supports SQLAlchemy connectable (engine/connection) or database string URI or sqlite3 DBAPI2 connection. Other DBAPI2 objects are not tested. Please consider using SQLAlchemy.\n",
            "  df = pd.read_sql_query(query, connection)\n"
          ]
        },
        {
          "data": {
            "text/html": [
              "<div>\n",
              "<style scoped>\n",
              "    .dataframe tbody tr th:only-of-type {\n",
              "        vertical-align: middle;\n",
              "    }\n",
              "\n",
              "    .dataframe tbody tr th {\n",
              "        vertical-align: top;\n",
              "    }\n",
              "\n",
              "    .dataframe thead th {\n",
              "        text-align: right;\n",
              "    }\n",
              "</style>\n",
              "<table border=\"1\" class=\"dataframe\">\n",
              "  <thead>\n",
              "    <tr style=\"text-align: right;\">\n",
              "      <th></th>\n",
              "      <th>count</th>\n",
              "    </tr>\n",
              "  </thead>\n",
              "  <tbody>\n",
              "    <tr>\n",
              "      <th>0</th>\n",
              "      <td>9</td>\n",
              "    </tr>\n",
              "  </tbody>\n",
              "</table>\n",
              "</div>"
            ],
            "text/plain": [
              "   count\n",
              "0      9"
            ]
          },
          "execution_count": 126,
          "metadata": {},
          "output_type": "execute_result"
        }
      ],
      "source": [
        "query = f'''select\n",
        "count(*)\n",
        "from vacancies v\n",
        "where v.name ilike  '%юрис%' or v.name ilike '%lawye%'\n",
        "'''\n",
        "df = pd.read_sql_query(query, connection)\n",
        "df  "
      ]
    },
    {
      "cell_type": "markdown",
      "id": "9b1d1c3b",
      "metadata": {},
      "source": [
        "Запросим количество вакансий включающих запрос работников бухгалтерии."
      ]
    },
    {
      "cell_type": "code",
      "execution_count": 127,
      "id": "9F1meAqsuUjd",
      "metadata": {
        "id": "9F1meAqsuUjd"
      },
      "outputs": [
        {
          "name": "stderr",
          "output_type": "stream",
          "text": [
            "C:\\Users\\Семья\\AppData\\Local\\Temp\\ipykernel_8136\\2031906817.py:6: UserWarning: pandas only supports SQLAlchemy connectable (engine/connection) or database string URI or sqlite3 DBAPI2 connection. Other DBAPI2 objects are not tested. Please consider using SQLAlchemy.\n",
            "  df = pd.read_sql_query(query, connection)\n"
          ]
        },
        {
          "data": {
            "text/html": [
              "<div>\n",
              "<style scoped>\n",
              "    .dataframe tbody tr th:only-of-type {\n",
              "        vertical-align: middle;\n",
              "    }\n",
              "\n",
              "    .dataframe tbody tr th {\n",
              "        vertical-align: top;\n",
              "    }\n",
              "\n",
              "    .dataframe thead th {\n",
              "        text-align: right;\n",
              "    }\n",
              "</style>\n",
              "<table border=\"1\" class=\"dataframe\">\n",
              "  <thead>\n",
              "    <tr style=\"text-align: right;\">\n",
              "      <th></th>\n",
              "      <th>count</th>\n",
              "    </tr>\n",
              "  </thead>\n",
              "  <tbody>\n",
              "    <tr>\n",
              "      <th>0</th>\n",
              "      <td>97</td>\n",
              "    </tr>\n",
              "  </tbody>\n",
              "</table>\n",
              "</div>"
            ],
            "text/plain": [
              "   count\n",
              "0     97"
            ]
          },
          "execution_count": 127,
          "metadata": {},
          "output_type": "execute_result"
        }
      ],
      "source": [
        "query = f'''select\n",
        "count(*)\n",
        "from vacancies v\n",
        "where v.name ilike  '%бух%'\n",
        "'''\n",
        "df = pd.read_sql_query(query, connection)\n",
        "df  "
      ]
    },
    {
      "cell_type": "markdown",
      "id": "19835d4c",
      "metadata": {},
      "source": [
        "Запросим количество вакансий включающих запрос работников экономистов."
      ]
    },
    {
      "cell_type": "code",
      "execution_count": 128,
      "id": "34cd0b45",
      "metadata": {},
      "outputs": [
        {
          "name": "stderr",
          "output_type": "stream",
          "text": [
            "C:\\Users\\Семья\\AppData\\Local\\Temp\\ipykernel_8136\\3824508436.py:6: UserWarning: pandas only supports SQLAlchemy connectable (engine/connection) or database string URI or sqlite3 DBAPI2 connection. Other DBAPI2 objects are not tested. Please consider using SQLAlchemy.\n",
            "  df = pd.read_sql_query(query, connection)\n"
          ]
        },
        {
          "data": {
            "text/html": [
              "<div>\n",
              "<style scoped>\n",
              "    .dataframe tbody tr th:only-of-type {\n",
              "        vertical-align: middle;\n",
              "    }\n",
              "\n",
              "    .dataframe tbody tr th {\n",
              "        vertical-align: top;\n",
              "    }\n",
              "\n",
              "    .dataframe thead th {\n",
              "        text-align: right;\n",
              "    }\n",
              "</style>\n",
              "<table border=\"1\" class=\"dataframe\">\n",
              "  <thead>\n",
              "    <tr style=\"text-align: right;\">\n",
              "      <th></th>\n",
              "      <th>count</th>\n",
              "    </tr>\n",
              "  </thead>\n",
              "  <tbody>\n",
              "    <tr>\n",
              "      <th>0</th>\n",
              "      <td>74</td>\n",
              "    </tr>\n",
              "  </tbody>\n",
              "</table>\n",
              "</div>"
            ],
            "text/plain": [
              "   count\n",
              "0     74"
            ]
          },
          "execution_count": 128,
          "metadata": {},
          "output_type": "execute_result"
        }
      ],
      "source": [
        "query = f'''select\n",
        "count(*)\n",
        "from vacancies v\n",
        "where v.name ilike  '%эконо%'\n",
        "'''\n",
        "df = pd.read_sql_query(query, connection)\n",
        "df  "
      ]
    },
    {
      "cell_type": "markdown",
      "id": "4dea20cb-a36b-474a-a0b9-e08e8e3857a5",
      "metadata": {
        "id": "4dea20cb-a36b-474a-a0b9-e08e8e3857a5"
      },
      "source": [
        "2. Сколько есть подходящих вакансий для начинающего дата-сайентиста? \n",
        "Будем считать вакансиями для дата-сайентистов такие, в названии которых есть хотя бы одно из следующих сочетаний:\n",
        "* 'data scientist'\n",
        "* 'data science'\n",
        "* 'исследователь данных'\n",
        "* 'ML' (здесь не нужно брать вакансии по HTML)\n",
        "* 'machine learning'\n",
        "* 'машинн%обучен%'\n",
        "\n",
        "** В следующих заданиях мы продолжим работать с вакансиями по этому условию.*\n",
        "\n",
        "Считаем вакансиями для специалистов уровня Junior следующие:\n",
        "* в названии есть слово 'junior' *или*\n",
        "* требуемый опыт — Нет опыта *или*\n",
        "* тип трудоустройства — Стажировка.\n",
        " "
      ]
    },
    {
      "cell_type": "code",
      "execution_count": 131,
      "id": "7c971b82",
      "metadata": {},
      "outputs": [
        {
          "name": "stderr",
          "output_type": "stream",
          "text": [
            "C:\\Users\\Семья\\AppData\\Local\\Temp\\ipykernel_8136\\1771355733.py:15: UserWarning: pandas only supports SQLAlchemy connectable (engine/connection) or database string URI or sqlite3 DBAPI2 connection. Other DBAPI2 objects are not tested. Please consider using SQLAlchemy.\n",
            "  df = pd.read_sql_query(query, connection)\n"
          ]
        },
        {
          "data": {
            "text/html": [
              "<div>\n",
              "<style scoped>\n",
              "    .dataframe tbody tr th:only-of-type {\n",
              "        vertical-align: middle;\n",
              "    }\n",
              "\n",
              "    .dataframe tbody tr th {\n",
              "        vertical-align: top;\n",
              "    }\n",
              "\n",
              "    .dataframe thead th {\n",
              "        text-align: right;\n",
              "    }\n",
              "</style>\n",
              "<table border=\"1\" class=\"dataframe\">\n",
              "  <thead>\n",
              "    <tr style=\"text-align: right;\">\n",
              "      <th></th>\n",
              "      <th>count</th>\n",
              "    </tr>\n",
              "  </thead>\n",
              "  <tbody>\n",
              "    <tr>\n",
              "      <th>0</th>\n",
              "      <td>51</td>\n",
              "    </tr>\n",
              "  </tbody>\n",
              "</table>\n",
              "</div>"
            ],
            "text/plain": [
              "   count\n",
              "0     51"
            ]
          },
          "execution_count": 131,
          "metadata": {},
          "output_type": "execute_result"
        }
      ],
      "source": [
        "query = f''' select\n",
        "count(*)\n",
        "from vacancies v\n",
        "where(v.name ilike '%data scientist%' \n",
        "or v.name ilike '%data science%' \n",
        "or v.name ilike '%data science%'\n",
        " or v.name ilike '%исследователь данных%'\n",
        " or( v.name like '%ML%' and v.name not like '%HTML%')\n",
        " or v.name ilike '%machine learning%'\n",
        " or v.name ilike '%машинн%обучен%')\n",
        " and ( v.name  ilike '%junior%'  OR v.experience ILIKE '%Нет опыта%'\n",
        "    OR v.employment ILIKE '%Стажировка%' )\n",
        "    \n",
        "'''\n",
        "df = pd.read_sql_query(query, connection)\n",
        "df  "
      ]
    },
    {
      "cell_type": "markdown",
      "id": "eedceb80-c5ca-480e-b27a-278dfb8b4438",
      "metadata": {
        "id": "eedceb80-c5ca-480e-b27a-278dfb8b4438"
      },
      "source": [
        "3. Сколько есть вакансий для DS, в которых в качестве ключевого навыка указан SQL или postgres?\n",
        "\n",
        "** Критерии для отнесения вакансии к DS указаны в предыдущем задании.*"
      ]
    },
    {
      "cell_type": "code",
      "execution_count": 132,
      "id": "alA8WEAAvGdf",
      "metadata": {
        "id": "alA8WEAAvGdf"
      },
      "outputs": [
        {
          "name": "stderr",
          "output_type": "stream",
          "text": [
            "C:\\Users\\Семья\\AppData\\Local\\Temp\\ipykernel_8136\\3855629604.py:14: UserWarning: pandas only supports SQLAlchemy connectable (engine/connection) or database string URI or sqlite3 DBAPI2 connection. Other DBAPI2 objects are not tested. Please consider using SQLAlchemy.\n",
            "  df = pd.read_sql_query(query, connection)\n"
          ]
        },
        {
          "data": {
            "text/html": [
              "<div>\n",
              "<style scoped>\n",
              "    .dataframe tbody tr th:only-of-type {\n",
              "        vertical-align: middle;\n",
              "    }\n",
              "\n",
              "    .dataframe tbody tr th {\n",
              "        vertical-align: top;\n",
              "    }\n",
              "\n",
              "    .dataframe thead th {\n",
              "        text-align: right;\n",
              "    }\n",
              "</style>\n",
              "<table border=\"1\" class=\"dataframe\">\n",
              "  <thead>\n",
              "    <tr style=\"text-align: right;\">\n",
              "      <th></th>\n",
              "      <th>count</th>\n",
              "    </tr>\n",
              "  </thead>\n",
              "  <tbody>\n",
              "    <tr>\n",
              "      <th>0</th>\n",
              "      <td>201</td>\n",
              "    </tr>\n",
              "  </tbody>\n",
              "</table>\n",
              "</div>"
            ],
            "text/plain": [
              "   count\n",
              "0    201"
            ]
          },
          "execution_count": 132,
          "metadata": {},
          "output_type": "execute_result"
        }
      ],
      "source": [
        "query = f''' select\n",
        "count(*)\n",
        "from vacancies v\n",
        "where(v.name ilike '%data scientist%' \n",
        "or v.name ilike '%data science%' \n",
        "or v.name ilike '%data science%'\n",
        " or v.name ilike '%исследователь данных%'\n",
        " or( v.name like '%ML%' and v.name not like '%HTML%')\n",
        " or v.name ilike '%machine learning%'\n",
        " or v.name ilike '%машинн%обучен%')\n",
        "and (v.key_skills ilike '%SQL%' or  v.key_skills ilike '%postgres%') \n",
        "    \n",
        "'''\n",
        "df = pd.read_sql_query(query, connection)\n",
        "df  "
      ]
    },
    {
      "cell_type": "markdown",
      "id": "1960edab",
      "metadata": {},
      "source": [
        "Найдем сколько всего вакасий  для DS."
      ]
    },
    {
      "cell_type": "code",
      "execution_count": 133,
      "id": "16681ddb",
      "metadata": {},
      "outputs": [
        {
          "name": "stderr",
          "output_type": "stream",
          "text": [
            "C:\\Users\\Семья\\AppData\\Local\\Temp\\ipykernel_8136\\3224711420.py:14: UserWarning: pandas only supports SQLAlchemy connectable (engine/connection) or database string URI or sqlite3 DBAPI2 connection. Other DBAPI2 objects are not tested. Please consider using SQLAlchemy.\n",
            "  df = pd.read_sql_query(query, connection)\n"
          ]
        },
        {
          "data": {
            "text/html": [
              "<div>\n",
              "<style scoped>\n",
              "    .dataframe tbody tr th:only-of-type {\n",
              "        vertical-align: middle;\n",
              "    }\n",
              "\n",
              "    .dataframe tbody tr th {\n",
              "        vertical-align: top;\n",
              "    }\n",
              "\n",
              "    .dataframe thead th {\n",
              "        text-align: right;\n",
              "    }\n",
              "</style>\n",
              "<table border=\"1\" class=\"dataframe\">\n",
              "  <thead>\n",
              "    <tr style=\"text-align: right;\">\n",
              "      <th></th>\n",
              "      <th>count</th>\n",
              "    </tr>\n",
              "  </thead>\n",
              "  <tbody>\n",
              "    <tr>\n",
              "      <th>0</th>\n",
              "      <td>480</td>\n",
              "    </tr>\n",
              "  </tbody>\n",
              "</table>\n",
              "</div>"
            ],
            "text/plain": [
              "   count\n",
              "0    480"
            ]
          },
          "execution_count": 133,
          "metadata": {},
          "output_type": "execute_result"
        }
      ],
      "source": [
        "query = f''' select\n",
        "count(v.id)\n",
        "from vacancies v\n",
        "where(v.name ilike '%data scientist%' \n",
        "or v.name ilike '%data science%' \n",
        "or v.name ilike '%data science%'\n",
        " or v.name ilike '%исследователь данных%'\n",
        " or( v.name like '%ML%' and v.name not like '%HTML%')\n",
        " or v.name ilike '%machine learning%'\n",
        " or v.name ilike '%машинн%обучен%')\n",
        "\n",
        "    \n",
        "'''\n",
        "df = pd.read_sql_query(query, connection)\n",
        "df  "
      ]
    },
    {
      "cell_type": "markdown",
      "id": "1be1e9c6-37cf-4a5f-bfeb-04cab799dc80",
      "metadata": {
        "id": "1be1e9c6-37cf-4a5f-bfeb-04cab799dc80"
      },
      "source": [
        "4. Проверьте, насколько популярен Python в требованиях работодателей к DS.Для этого вычислите количество вакансий, в которых в качестве ключевого навыка указан Python.\n",
        "\n",
        "** Это можно сделать помощью запроса, аналогичного предыдущему.*"
      ]
    },
    {
      "cell_type": "code",
      "execution_count": 137,
      "id": "0036a355-9ccf-4564-8b01-73d8194297e7",
      "metadata": {
        "id": "0036a355-9ccf-4564-8b01-73d8194297e7"
      },
      "outputs": [
        {
          "name": "stderr",
          "output_type": "stream",
          "text": [
            "C:\\Users\\Семья\\AppData\\Local\\Temp\\ipykernel_8136\\324929793.py:14: UserWarning: pandas only supports SQLAlchemy connectable (engine/connection) or database string URI or sqlite3 DBAPI2 connection. Other DBAPI2 objects are not tested. Please consider using SQLAlchemy.\n",
            "  df = pd.read_sql_query(query, connection)\n"
          ]
        },
        {
          "data": {
            "text/html": [
              "<div>\n",
              "<style scoped>\n",
              "    .dataframe tbody tr th:only-of-type {\n",
              "        vertical-align: middle;\n",
              "    }\n",
              "\n",
              "    .dataframe tbody tr th {\n",
              "        vertical-align: top;\n",
              "    }\n",
              "\n",
              "    .dataframe thead th {\n",
              "        text-align: right;\n",
              "    }\n",
              "</style>\n",
              "<table border=\"1\" class=\"dataframe\">\n",
              "  <thead>\n",
              "    <tr style=\"text-align: right;\">\n",
              "      <th></th>\n",
              "      <th>count</th>\n",
              "    </tr>\n",
              "  </thead>\n",
              "  <tbody>\n",
              "    <tr>\n",
              "      <th>0</th>\n",
              "      <td>351</td>\n",
              "    </tr>\n",
              "  </tbody>\n",
              "</table>\n",
              "</div>"
            ],
            "text/plain": [
              "   count\n",
              "0    351"
            ]
          },
          "execution_count": 137,
          "metadata": {},
          "output_type": "execute_result"
        }
      ],
      "source": [
        "query = f''' select\n",
        "count(*)\n",
        "from vacancies v\n",
        "where(v.name ilike '%data scientist%' \n",
        "or v.name ilike '%data science%' \n",
        "or v.name ilike '%data science%'\n",
        " or v.name ilike '%исследователь данных%'\n",
        " or( v.name like '%ML%' and v.name not like '%HTML%')\n",
        " or v.name ilike '%machine learning%'\n",
        " or v.name ilike '%машинн%обучен%')\n",
        "and v.key_skills ilike '%Python%' \n",
        "    \n",
        "'''\n",
        "df = pd.read_sql_query(query, connection)\n",
        "df  "
      ]
    },
    {
      "cell_type": "markdown",
      "id": "ec3c8db7-fa21-4a41-a994-1af63742a642",
      "metadata": {
        "id": "ec3c8db7-fa21-4a41-a994-1af63742a642"
      },
      "source": [
        "5. Сколько ключевых навыков в среднем указывают в вакансиях для DS?\n",
        "Ответ округлите до двух знаков после точки-разделителя."
      ]
    },
    {
      "cell_type": "code",
      "execution_count": 134,
      "id": "949132bc-d5b6-4611-8218-0b9a504d74f4",
      "metadata": {
        "id": "949132bc-d5b6-4611-8218-0b9a504d74f4"
      },
      "outputs": [
        {
          "name": "stderr",
          "output_type": "stream",
          "text": [
            "C:\\Users\\Семья\\AppData\\Local\\Temp\\ipykernel_8136\\1016521007.py:21: UserWarning: pandas only supports SQLAlchemy connectable (engine/connection) or database string URI or sqlite3 DBAPI2 connection. Other DBAPI2 objects are not tested. Please consider using SQLAlchemy.\n",
            "  df = pd.read_sql_query(query, connection)\n"
          ]
        },
        {
          "data": {
            "text/html": [
              "<div>\n",
              "<style scoped>\n",
              "    .dataframe tbody tr th:only-of-type {\n",
              "        vertical-align: middle;\n",
              "    }\n",
              "\n",
              "    .dataframe tbody tr th {\n",
              "        vertical-align: top;\n",
              "    }\n",
              "\n",
              "    .dataframe thead th {\n",
              "        text-align: right;\n",
              "    }\n",
              "</style>\n",
              "<table border=\"1\" class=\"dataframe\">\n",
              "  <thead>\n",
              "    <tr style=\"text-align: right;\">\n",
              "      <th></th>\n",
              "      <th>key_skills</th>\n",
              "      <th>sk_3</th>\n",
              "    </tr>\n",
              "  </thead>\n",
              "  <tbody>\n",
              "    <tr>\n",
              "      <th>0</th>\n",
              "      <td>Python\\tSQL\\tРабота в команде\\tOpenCV\\tML</td>\n",
              "      <td>5.00</td>\n",
              "    </tr>\n",
              "    <tr>\n",
              "      <th>1</th>\n",
              "      <td>Oracle Pl/SQL\\tБазы данных\\tMachine Learning\\t...</td>\n",
              "      <td>9.00</td>\n",
              "    </tr>\n",
              "    <tr>\n",
              "      <th>2</th>\n",
              "      <td>Python\\tOpenCV\\tTensorflow\\tComputer Vision\\tН...</td>\n",
              "      <td>8.00</td>\n",
              "    </tr>\n",
              "    <tr>\n",
              "      <th>3</th>\n",
              "      <td>Python\\tFlask\\tLinux\\tAWS\\tGit</td>\n",
              "      <td>5.00</td>\n",
              "    </tr>\n",
              "    <tr>\n",
              "      <th>4</th>\n",
              "      <td>Python\\tSQL\\tNLP\\tScikit-learn\\tMachine Learning</td>\n",
              "      <td>5.00</td>\n",
              "    </tr>\n",
              "    <tr>\n",
              "      <th>...</th>\n",
              "      <td>...</td>\n",
              "      <td>...</td>\n",
              "    </tr>\n",
              "    <tr>\n",
              "      <th>476</th>\n",
              "      <td>Python\\tScikit-learn\\tPandas\\tGit\\tNumpy</td>\n",
              "      <td>5.00</td>\n",
              "    </tr>\n",
              "    <tr>\n",
              "      <th>477</th>\n",
              "      <td>Qt\\tООП\\tC++\\tMS Visual Studio\\tРазработка ком...</td>\n",
              "      <td>6.00</td>\n",
              "    </tr>\n",
              "    <tr>\n",
              "      <th>478</th>\n",
              "      <td>SCALA\\tSQL\\tМатематический анализ\\tСтатистичес...</td>\n",
              "      <td>7.00</td>\n",
              "    </tr>\n",
              "    <tr>\n",
              "      <th>479</th>\n",
              "      <td>Python\\tLinux\\tKubernetes\\tAWS\\tGit\\tPeople Ma...</td>\n",
              "      <td>6.00</td>\n",
              "    </tr>\n",
              "    <tr>\n",
              "      <th>480</th>\n",
              "      <td>среднее количество навыков</td>\n",
              "      <td>6.41</td>\n",
              "    </tr>\n",
              "  </tbody>\n",
              "</table>\n",
              "<p>481 rows × 2 columns</p>\n",
              "</div>"
            ],
            "text/plain": [
              "                                            key_skills  sk_3\n",
              "0            Python\\tSQL\\tРабота в команде\\tOpenCV\\tML  5.00\n",
              "1    Oracle Pl/SQL\\tБазы данных\\tMachine Learning\\t...  9.00\n",
              "2    Python\\tOpenCV\\tTensorflow\\tComputer Vision\\tН...  8.00\n",
              "3                       Python\\tFlask\\tLinux\\tAWS\\tGit  5.00\n",
              "4     Python\\tSQL\\tNLP\\tScikit-learn\\tMachine Learning  5.00\n",
              "..                                                 ...   ...\n",
              "476           Python\\tScikit-learn\\tPandas\\tGit\\tNumpy  5.00\n",
              "477  Qt\\tООП\\tC++\\tMS Visual Studio\\tРазработка ком...  6.00\n",
              "478  SCALA\\tSQL\\tМатематический анализ\\tСтатистичес...  7.00\n",
              "479  Python\\tLinux\\tKubernetes\\tAWS\\tGit\\tPeople Ma...  6.00\n",
              "480                         среднее количество навыков  6.41\n",
              "\n",
              "[481 rows x 2 columns]"
            ]
          },
          "execution_count": 134,
          "metadata": {},
          "output_type": "execute_result"
        }
      ],
      "source": [
        "query = f''' with x as (select\n",
        "\n",
        "v.key_skills, ((length(v.key_skills)-length(replace(v.key_skills,CHR(9),'')))::integer +1) sk_3\n",
        "from vacancies v\n",
        "where(v.name ilike '%data scientist%' \n",
        "or v.name ilike '%data science%' \n",
        "or v.name ilike '%data science%'\n",
        " or v.name ilike '%исследователь данных%'\n",
        " or( v.name like '%ML%' and v.name not like '%HTML%')\n",
        " or v.name ilike '%machine learning%'\n",
        " or v.name ilike '%машинн%обучен%'))\n",
        " select\n",
        " *\n",
        " from x\n",
        " union  all\n",
        "select\n",
        " 'среднее количество навыков',round(avg(x.sk_3),2)\n",
        "from x\n",
        "    \n",
        "'''\n",
        "df = pd.read_sql_query(query, connection)\n",
        "df  "
      ]
    },
    {
      "cell_type": "markdown",
      "id": "af69e607",
      "metadata": {},
      "source": [
        "Посмотрим дополнительно  какая средняя заработная плата указывается в вакансиях для  DS."
      ]
    },
    {
      "cell_type": "code",
      "execution_count": 135,
      "id": "7ce215fe",
      "metadata": {},
      "outputs": [
        {
          "name": "stderr",
          "output_type": "stream",
          "text": [
            "C:\\Users\\Семья\\AppData\\Local\\Temp\\ipykernel_8136\\2420455812.py:22: UserWarning: pandas only supports SQLAlchemy connectable (engine/connection) or database string URI or sqlite3 DBAPI2 connection. Other DBAPI2 objects are not tested. Please consider using SQLAlchemy.\n",
            "  df = pd.read_sql_query(query, connection)\n"
          ]
        },
        {
          "data": {
            "text/html": [
              "<div>\n",
              "<style scoped>\n",
              "    .dataframe tbody tr th:only-of-type {\n",
              "        vertical-align: middle;\n",
              "    }\n",
              "\n",
              "    .dataframe tbody tr th {\n",
              "        vertical-align: top;\n",
              "    }\n",
              "\n",
              "    .dataframe thead th {\n",
              "        text-align: right;\n",
              "    }\n",
              "</style>\n",
              "<table border=\"1\" class=\"dataframe\">\n",
              "  <thead>\n",
              "    <tr style=\"text-align: right;\">\n",
              "      <th></th>\n",
              "      <th>key_skills</th>\n",
              "      <th>sk_3</th>\n",
              "      <th>avg_salary_total</th>\n",
              "    </tr>\n",
              "  </thead>\n",
              "  <tbody>\n",
              "    <tr>\n",
              "      <th>0</th>\n",
              "      <td>Agile Project Management\\tУправление проектами...</td>\n",
              "      <td>5.00</td>\n",
              "      <td>NaN</td>\n",
              "    </tr>\n",
              "    <tr>\n",
              "      <th>1</th>\n",
              "      <td>Big Data\\tPython\\tMachine Learning\\tNLP\\tData ...</td>\n",
              "      <td>6.00</td>\n",
              "      <td>NaN</td>\n",
              "    </tr>\n",
              "    <tr>\n",
              "      <th>2</th>\n",
              "      <td>Big Data\\tR&amp;D\\tResearch methodologies\\tPh.D\\tP...</td>\n",
              "      <td>14.00</td>\n",
              "      <td>NaN</td>\n",
              "    </tr>\n",
              "    <tr>\n",
              "      <th>3</th>\n",
              "      <td>BPMN\\tARIS\\tАналитическое мышление\\tБизнес-ана...</td>\n",
              "      <td>12.00</td>\n",
              "      <td>NaN</td>\n",
              "    </tr>\n",
              "    <tr>\n",
              "      <th>4</th>\n",
              "      <td>C/C++\\tLinux\\tPython\\tMachine learning\\tнейрон...</td>\n",
              "      <td>5.00</td>\n",
              "      <td>NaN</td>\n",
              "    </tr>\n",
              "    <tr>\n",
              "      <th>...</th>\n",
              "      <td>...</td>\n",
              "      <td>...</td>\n",
              "      <td>...</td>\n",
              "    </tr>\n",
              "    <tr>\n",
              "      <th>315</th>\n",
              "      <td>Статистический анализ\\tАналитическое мышление\\...</td>\n",
              "      <td>5.00</td>\n",
              "      <td>NaN</td>\n",
              "    </tr>\n",
              "    <tr>\n",
              "      <th>316</th>\n",
              "      <td>Управление проектами</td>\n",
              "      <td>1.00</td>\n",
              "      <td>NaN</td>\n",
              "    </tr>\n",
              "    <tr>\n",
              "      <th>317</th>\n",
              "      <td>Управление проектами\\tБазы данных\\tData Analys...</td>\n",
              "      <td>5.00</td>\n",
              "      <td>NaN</td>\n",
              "    </tr>\n",
              "    <tr>\n",
              "      <th>318</th>\n",
              "      <td>None</td>\n",
              "      <td>NaN</td>\n",
              "      <td>97500.00</td>\n",
              "    </tr>\n",
              "    <tr>\n",
              "      <th>319</th>\n",
              "      <td>среднее значение</td>\n",
              "      <td>6.51</td>\n",
              "      <td>180375.49</td>\n",
              "    </tr>\n",
              "  </tbody>\n",
              "</table>\n",
              "<p>320 rows × 3 columns</p>\n",
              "</div>"
            ],
            "text/plain": [
              "                                            key_skills   sk_3   \n",
              "0    Agile Project Management\\tУправление проектами...   5.00  \\\n",
              "1    Big Data\\tPython\\tMachine Learning\\tNLP\\tData ...   6.00   \n",
              "2    Big Data\\tR&D\\tResearch methodologies\\tPh.D\\tP...  14.00   \n",
              "3    BPMN\\tARIS\\tАналитическое мышление\\tБизнес-ана...  12.00   \n",
              "4    C/C++\\tLinux\\tPython\\tMachine learning\\tнейрон...   5.00   \n",
              "..                                                 ...    ...   \n",
              "315  Статистический анализ\\tАналитическое мышление\\...   5.00   \n",
              "316                               Управление проектами   1.00   \n",
              "317  Управление проектами\\tБазы данных\\tData Analys...   5.00   \n",
              "318                                               None    NaN   \n",
              "319                                   среднее значение   6.51   \n",
              "\n",
              "     avg_salary_total  \n",
              "0                 NaN  \n",
              "1                 NaN  \n",
              "2                 NaN  \n",
              "3                 NaN  \n",
              "4                 NaN  \n",
              "..                ...  \n",
              "315               NaN  \n",
              "316               NaN  \n",
              "317               NaN  \n",
              "318          97500.00  \n",
              "319         180375.49  \n",
              "\n",
              "[320 rows x 3 columns]"
            ]
          },
          "execution_count": 135,
          "metadata": {},
          "output_type": "execute_result"
        }
      ],
      "source": [
        "query = f''' with x as (select\n",
        "v.key_skills, ((length(v.key_skills)-length(replace(v.key_skills,CHR(9),'')))::integer +1) sk_3, round(avg(coalesce(((v.salary_from+v.salary_to)/2),v.salary_from,v.salary_to)),0) avg_salary_total\n",
        "from vacancies v\n",
        "where(v.name ilike '%data scientist%' \n",
        "or v.name ilike '%data science%' \n",
        "or v.name ilike '%data science%'\n",
        " or v.name ilike '%исследователь данных%'\n",
        " or( v.name like '%ML%' and v.name not like '%HTML%')\n",
        " or v.name ilike '%machine learning%'\n",
        " or v.name ilike '%машинн%обучен%')\n",
        " group by v.key_skills)\n",
        " select\n",
        " *\n",
        " from x\n",
        " union  all\n",
        "select\n",
        " 'среднее значение',round(avg(x.sk_3),2),round(avg( x.avg_salary_total),2)\n",
        "from x\n",
        "where x.avg_salary_total <>0 and x.sk_3 <>0\n",
        "    \n",
        "'''\n",
        "df = pd.read_sql_query(query, connection)\n",
        "df  "
      ]
    },
    {
      "cell_type": "markdown",
      "id": "1041c17a-ca8f-4543-a0ca-32778914fb00",
      "metadata": {
        "id": "1041c17a-ca8f-4543-a0ca-32778914fb00"
      },
      "source": [
        "6. Напишите запрос, позволяющий вычислить, какую зарплату для DS в **среднем** указывают для каждого типа требуемого опыта (уникальное значение из поля *experience*). \n",
        "\n",
        "При решении задачи примите во внимание следующее:\n",
        "1. Рассматриваем только вакансии, у которых заполнено хотя бы одно из двух полей с зарплатой.\n",
        "2. Если заполнены оба поля с зарплатой, то считаем зарплату по каждой вакансии как сумму двух полей, делённую на 2. Если заполнено только одно из полей, то его и считаем зарплатой по вакансии.\n",
        "3. Если в расчётах участвует null, в результате он тоже даст null (посмотрите, что возвращает запрос select 1 + null). Чтобы избежать этой ситуацию, мы воспользуемся функцией [coalesce](https://postgrespro.ru/docs/postgresql/9.5/functions-conditional#functions-coalesce-nvl-ifnull), которая заменит null на значение, которое мы передадим. Например, посмотрите, что возвращает запрос `select 1 + coalesce(null, 0)`\n",
        "\n",
        "Выясните, на какую зарплату в среднем может рассчитывать дата-сайентист с опытом работы от 3 до 6 лет. Результат округлите до целого числа. "
      ]
    },
    {
      "cell_type": "code",
      "execution_count": 136,
      "id": "6a743d39-5204-48d3-8271-b9f88e68d40e",
      "metadata": {
        "id": "6a743d39-5204-48d3-8271-b9f88e68d40e"
      },
      "outputs": [
        {
          "name": "stderr",
          "output_type": "stream",
          "text": [
            "C:\\Users\\Семья\\AppData\\Local\\Temp\\ipykernel_8136\\606356926.py:14: UserWarning: pandas only supports SQLAlchemy connectable (engine/connection) or database string URI or sqlite3 DBAPI2 connection. Other DBAPI2 objects are not tested. Please consider using SQLAlchemy.\n",
            "  df = pd.read_sql_query(query, connection)\n"
          ]
        },
        {
          "data": {
            "text/html": [
              "<div>\n",
              "<style scoped>\n",
              "    .dataframe tbody tr th:only-of-type {\n",
              "        vertical-align: middle;\n",
              "    }\n",
              "\n",
              "    .dataframe tbody tr th {\n",
              "        vertical-align: top;\n",
              "    }\n",
              "\n",
              "    .dataframe thead th {\n",
              "        text-align: right;\n",
              "    }\n",
              "</style>\n",
              "<table border=\"1\" class=\"dataframe\">\n",
              "  <thead>\n",
              "    <tr style=\"text-align: right;\">\n",
              "      <th></th>\n",
              "      <th>опыт</th>\n",
              "      <th>средняя_ЗП</th>\n",
              "    </tr>\n",
              "  </thead>\n",
              "  <tbody>\n",
              "    <tr>\n",
              "      <th>0</th>\n",
              "      <td>Нет опыта</td>\n",
              "      <td>74643.0</td>\n",
              "    </tr>\n",
              "    <tr>\n",
              "      <th>1</th>\n",
              "      <td>От 1 года до 3 лет</td>\n",
              "      <td>139675.0</td>\n",
              "    </tr>\n",
              "    <tr>\n",
              "      <th>2</th>\n",
              "      <td>От 3 до 6 лет</td>\n",
              "      <td>243115.0</td>\n",
              "    </tr>\n",
              "  </tbody>\n",
              "</table>\n",
              "</div>"
            ],
            "text/plain": [
              "                 опыт  средняя_ЗП\n",
              "0           Нет опыта     74643.0\n",
              "1  От 1 года до 3 лет    139675.0\n",
              "2       От 3 до 6 лет    243115.0"
            ]
          },
          "execution_count": 136,
          "metadata": {},
          "output_type": "execute_result"
        }
      ],
      "source": [
        "query = f''' select\n",
        "v.experience опыт, round(avg(coalesce(((v.salary_from+v.salary_to)/2),v.salary_from,v.salary_to)),0) средняя_ЗП\n",
        "from vacancies v\n",
        "where(v.name ilike '%data scientist%' \n",
        "or v.name ilike '%data science%' \n",
        "or v.name ilike '%data science%'\n",
        " or v.name ilike '%исследователь данных%'\n",
        " or( v.name like '%ML%' and v.name not like '%HTML%')\n",
        " or v.name ilike '%machine learning%'\n",
        "or v.name ilike '%машинн%обучен%')\n",
        " and (v.salary_from is not null or v.salary_to is not null)\n",
        " group by v.experience\n",
        "'''\n",
        "df = pd.read_sql_query(query, connection)\n",
        "df  # текст запроса"
      ]
    },
    {
      "cell_type": "markdown",
      "id": "6a7892b4-4113-4746-adce-18aa2844f18e",
      "metadata": {
        "id": "6a7892b4-4113-4746-adce-18aa2844f18e"
      },
      "source": [
        "***"
      ]
    },
    {
      "cell_type": "markdown",
      "id": "a83ec342",
      "metadata": {},
      "source": [
        "Из 49 197 вакансий 1771 вакансия имеет отношение к данным, что составляет 3.6% от всех вакансий в базе.  1231  (2.5%) вакансии к продажам,  97 к бухгалтерии,74 для экономистов, 9  вакансий для юристов. Ранее очень популярные вакансии такие как экономист, бухгалтер и юрист практически отсутствуют. (Есть у меня сомнения, по количеству вакансий для юристов, скорее не верный отбор. Поправьте меня в резюме проекта, пожалуйста.) Для начинающего DS вакансий в базе всего 51 , что составляет 0.1 % от всех имеющихся в базе вакансий. Найти работу начинающему DS очень тяжело. Из 480 вакансий для DS  201 в которых в качестве ключевого навыка указан SQL или postgres, что составляет 42% , следовательно такие специалисты востребованы. Специалисов со знанием Питона запрашивают в 351 вакансиях, что составляет 73% от всех вакансий для DS, следовательно знание и умение писать коды на Питоне очень важный навык. \n",
        "Среднее количество навыков для DS составляет 6,51 , средняя заработная плата  в вакансиях с указанными навыками 180375,49 рублей. При анализе средней заработной платы в зависимости от опыта видно, что с большим опытом предлагается большая заработная плата, но если смотреть по количеству вакансий , то большинство требуются с опытом от 1 до 3 лет."
      ]
    },
    {
      "cell_type": "markdown",
      "id": "c0ED6fh7wiBT",
      "metadata": {
        "id": "c0ED6fh7wiBT"
      },
      "source": [
        "# Общий вывод по проекту"
      ]
    },
    {
      "cell_type": "markdown",
      "id": "788ddf06",
      "metadata": {},
      "source": [
        "В настоящей базе представлено 49197 вакансий , 23501 работодатель из 1362 регионов с 294 сферами деятельности компаний, 593 региона не разместили не одной вакансии. Лидерами по количеству размещенных вакансий являются Москва, Санкт-Петербург, Минск, Новосибирск, Алматы. У  24073 вакансий указан уровень заработной платы, что  составляет 49% от всех представленных вакансий. Если  рассмотреть вакансии по критерию типа рабочего графика  то для соискателей на полный день из 36424 вакансй 52% без указанной заработной платы,  для соискателей  на удаленную работу из 9311 вакансий 49% без указанной заработной платы, для соискателей с гибким графиком из 2039 вакансий 58% без указанной заработной платы, для соискателей на вахту из 369 вакансий 27% без указанной заработной платы, для соискателей со сменным графиком из 1054 вакансий 22% без указанной заработной платы. Одной из причин не размещения уровня заработной платы работодателем может являться  открытие новой вакансии по новому направлению работы, связано это с тем, что работодатель еще  сам не определился с суммой оплаты. Также работодатель может не указывать желаемый  уровень заработной платы для сохранения возможности переговоров по уровню оплаты исходя из опыта, квалификации и результатов собеседования. Еще одной из причин может являться не желание показывать уровни оплаты сотрудников из за конкурентной среды среди работодателей. Также может привлечь на вакансию более опытного специалиста, чем ожидалось. В нашем случае для вакансий со сменным графиком менее всего пустых значений по уровню оплаты. Сменные графики чаще встречаются на производстве либо на предприятиях оказывающих услуги.   Проведя анализ вакансий со сменным графиком и с указанной заработной платой  выяснилось, что максимальный уровень оплаты  предлагается разработчикам Питона, консультантам по сопровождению 1С и продавцу - консультанту мебели Panda Terra(посмотрев сайт компании, на сегодняшний день есть вакансии  производственных рабочих со средним заработком 55-60 тысяч рублей).  Для более глубокого анализа в этом направлении можно посмотреть какие работодатели из каких регионов предлагают вакансии с максимальной заработной платой. И сделать выводы про регион.\n",
        "Среднее значение  максимальной предлагаемой заработной платы  по всем вакансиям в базе 110537 тысяч рублей  среднее минимальное  71065 тысяч рублей. \n",
        "При условии анализа вакансий где указаны оба поля уровня оплаты лидерами по предлагаемой максимальной заработной плате являются  Алматы, Москва, Сочи, Санкт-Петербург и аутсейдерами являются  Челябинск, Воронеж, Смоленск, Уфа, но для окончательных выводов нужен более детальный анализ. Средняя максимальная заработная плата в этих городах (не беря в расчет вакансии где поля минимальной и максимальной заработной платы не заполнены) составила:\n",
        "в Москве 169 929 рубль\n",
        "в Сочи 152 180 рублей\n",
        "в Санкт-Петербурге 141 734 рублей\n",
        "в Алматы 111 835 рублей\n",
        "В результате исследования выяснилось, что средняя максимальная заработная плата в Алматы ниже Москвы, Сочи и Санкт-Петербурга, что подтверждает, что выводы по максимуму  и минимуму делать не корректно, нужно более детально исследовать, смотреть среднюю, с учетом нулевых значений.\n",
        "Найдем среднюю заработную плату в вышеназванных городах( с критериями исследования указанными выше):\n",
        "в Москве 138 728.0 рубль\n",
        "в Сочи 122 843 рублей\n",
        "в Санкт-Петербурге 115 242.0 рублей\n",
        "в Алматы 88 738.0 рублей\n",
        "рейтинг средних заработных плат совпал со средними максимальными.\n",
        "Для справки сделала запрос для получения информации по средней  оплате в городе Перми,  в результате  средняя заработная плата  составила 106 841.0, могу сказать по своему предприятию - у нас ниже даже нижней границы. Самая высокооплачиваемая в нашем городе вакансия по данным базы HH Product manager LATOKEN.\n",
        "Самым востребованными условиями трудоустройства  являются полная занятость и полный день, количество вакансий с такими требованиями составило 35367 ( 72%), далее идут полная занятость и удаленная работа 7802 вакансии (16%) ,полная  занятость с гибким графиком 1593 (3%),  частичная занятость с удаленной работой 1312(3%) и пятерку лидеров замыкает полная занятость со сменным графиком 940 вакансий что составило 2% от всех размещенных на HH. Дополнительно исследовала пары с удаленной работой, так как по моему мнению ( очень субъективное) это самой удобный тип рабочего графика. В результате  в базе найдено 4 пары с удаленной работой : \n",
        "Полная занятость\tУдаленная работа\t7802 вакансий\n",
        "               Частичная занятость\tУдаленная работа\t1312 вакансии\n",
        "               Проектная работа\tУдаленная работа\t133 вакансии\n",
        "                Стажировка\tУдаленная работа\t64 вакансии\n",
        "Анализ количество вакансий в разрезе графиков работы:\n",
        "              всего с графиком:\tПолный день\t36424.0\n",
        "\tвсего с графиком:\tУдаленная работа\t9311.0\n",
        "\tвсего с графиком:\tГибкий график\t2039.0\n",
        "\tвсего с графиком:\tСменный график\t1054.0\n",
        "\tвсего с графиком:\tВахтовый метод\t369.\n",
        "График с удаленной работой стоит на втором месте по количеству вакансий  что составляет 19% от всех вакансий, что говорит о популярности такого типа трудоустройства. \n",
        "Наиболее востребованным опытом  работы является период от года до трех лет, уровень заработной платы у такой категории вакансий ниже, чем у вакансий  от 3 до 6 лет и более 6 лет. Работодатели предпочитают взять на работу сотрудника с минимальным опытом, но в то же время имеющим навыки работы, чем обучать не опытного сотрудника или платить боле высокую заработную плату более  опытному.\n",
        "Топ-5 работодателей из существующей базы : Яндекс, Ростелеком, Тинькофф, СБЕР и  Газпром нефть. При рассмотрении сфер деятельности этих компаний, только Газпром нефть является энергетическим предприятием. Остальные компании из списка относятся к  интернет компаниям, финансовым компаниям, компаниям из сферы IT.  Хоть и все они представляют разные отрасли, но являются ключевыми игроками на рынке и оказывают влияние на экономику России.\n",
        "1148 работодателей в базе не указали вакансии это может говорить и о том, что эти работодатели уже нашли сотрудников как и то, что при заполнении анкеты не верно указали данные или приостановили деятельность.\n",
        "Лидером среди компаний по масштабу географии поиска сотрудников является компания Яндекс.  Они разместили вакансии в 181 городе. На втором месте Ростелеком – 152 региона и на третьем Спецремонт -116 регионов.  Проанализировав топ 20   сфер деятельности этих компаний выяснилось, что основном  это компании связи , но есть и те, что не указали сферу  своей деятельности. Всего в базе 8419 работодателей, кто не указал сферу деятельности. Некоторые компании не указывают сферу деятельности из соображений конфиденциальности, по причине разработки нового продукта , который преждевременно афишировать. По причине  множества разнообразных сфер деятельности. По причине  привлечения сотрудников из разных сфер, чтобы не ограничивать соискателей указанными сферами. Причины могут быть разные, вплоть до не желания заполнить это графу кадровым работником, подающим объявление.  Топ- 5 регионов, где не указали сферу деятельности : Москва, Санкт-Петербург, Минск, Екатеринбург и Новосибирск. \n",
        "При исследовании количества сфер деятельности, которое указывают компании, выяснилось, что самое большое количество сфер деятельности указанное работодателями пять. Компания с самым большим количеством вакансий - Яндекс с одной сферой деятельности, в то же время Ростелеком и Тинкоф указали по 4 и 5 сфер деятельности.\n",
        "Из 49197 вакансий самый большую долю   сфер деятельности  занимает \"Разработка программного обеспечения\", что  составляет 7%,  далее идут системная интеграция, автоматизации технологических и бизнес-процессов предприятия, ИТ., затем итнергет-компания и так далее. Преимущественное большинство компаний публикующее вакансии  из сферы ИТ.\n",
        " Из 49 197 вакансий 1771 вакансия имеет отношение к данным, что составляет 3.6% от всех вакансий в базе.  1231  (2.%) вакансии к продажам,  97 к бухгалтерии,74 для экономистов, 9  вакансий для юристов. Ранее очень популярные вакансии такие как экономист, бухгалтер и юрист практически отсутствуют.\n",
        "Количество вакансий  для начинающего DS  в базе всего 51, что составляет 0.1 % от всех имеющихся в базе вакансий. Найти работу начинающему DS очень тяжело. Из 480 вакансий для DS 201 в которых в качестве ключевого навыка указан SQL или postgres, что составляет 42% , следовательно такие специалисты востребованы. От DS требуется в среднем 6-7 навыков,  средняя заработная плата  в вакансиях с указанными навыками 180375,49 рублей, что выше  среднего значения максимальной предлагаемой заработной платы  по всем вакансиям в базе (110537 тысяч рублей).  Запрос  зависимости средней заработной платы DS  от опыта работы  показал, что :\n",
        "Без  опыта-74 643.0 рублей,\n",
        "От 1 года до 3 лет-139 675.0 рублей\n",
        "От 3 до 6 лет-243 115.0 рублей\n",
        "Закономерно, что с большим опытом предлагается большая заработная плата, но если смотреть по количеству вакансий, то более популярен опыт от 1 до 3 лет.\n"
      ]
    },
    {
      "cell_type": "code",
      "execution_count": 65,
      "id": "h9B3BL-wwj18",
      "metadata": {
        "id": "h9B3BL-wwj18"
      },
      "outputs": [],
      "source": [
        "# подведем итог исследования, обобщите выводы\n",
        "# здесь можно (это будет плюсом) провести дополнительные исследования данных, сделать прогнозы, продумать варианты продолжения исследования"
      ]
    }
  ],
  "metadata": {
    "colab": {
      "collapsed_sections": [
        "8d62a9f3-f64e-4fe7-bdac-c4dffa16155e"
      ],
      "provenance": []
    },
    "kernelspec": {
      "display_name": "Python 3 (ipykernel)",
      "language": "python",
      "name": "python3"
    },
    "language_info": {
      "codemirror_mode": {
        "name": "ipython",
        "version": 3
      },
      "file_extension": ".py",
      "mimetype": "text/x-python",
      "name": "python",
      "nbconvert_exporter": "python",
      "pygments_lexer": "ipython3",
      "version": "3.10.2"
    }
  },
  "nbformat": 4,
  "nbformat_minor": 5
}
